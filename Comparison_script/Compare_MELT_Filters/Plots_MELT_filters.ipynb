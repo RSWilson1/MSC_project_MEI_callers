{
 "cells": [
  {
   "cell_type": "code",
   "execution_count": 57,
   "metadata": {},
   "outputs": [],
   "source": [
    "import plotly.graph_objects as go\n",
    "from plotly.subplots import make_subplots\n",
    "import plotly.express as px\n",
    "import pandas as pd"
   ]
  },
  {
   "cell_type": "code",
   "execution_count": 74,
   "metadata": {},
   "outputs": [
    {
     "name": "stdout",
     "output_type": "stream",
     "text": [
      "     Filter_Type  Filtered Sample_ID  Shared_Percentage  Shared_Variants  \\\n",
      "0            Raw     False   HG00096         100.000000                3   \n",
      "1  Comprehensive      True   HG00096           0.000000                0   \n",
      "2         ASSESS      True   HG00096          33.333333                1   \n",
      "3           PASS      True   HG00096           0.000000                0   \n",
      "4         STRICT      True   HG00096           0.000000                0   \n",
      "\n",
      "                                 Shared_Variants_VCF  Tool  test_vcf_variants  \\\n",
      "0  [('6 164161734 ALU_umary_ALU_5748', \"A ['<INS:...  MELT              16632   \n",
      "1                                                 []  MELT                260   \n",
      "2  [('19 17752494 ALU_umary_ALU_11888', \"T ['<INS...  MELT               6909   \n",
      "3                                                 []  MELT                281   \n",
      "4                                                 []  MELT                260   \n",
      "\n",
      "   truth_total_variants  \n",
      "0                     3  \n",
      "1                     3  \n",
      "2                     3  \n",
      "3                     3  \n",
      "4                     3  \n"
     ]
    }
   ],
   "source": [
    "# Read data from the TSV file\n",
    "#file_path = 'MELT_filter_Comparison_results.csv' # Outdated missing data and only some filters\n",
    "import pprint\n",
    "file_path = 'results_multi_filters_2024-03-11.csv'\n",
    "df = pd.read_csv(file_path, sep=',')\n",
    "pprint.pprint(df.head())\n",
    "# df_multi['test_vcf_variants'] = total number of variants in the test VCF file\n",
    "# Calculate F1 detection, precision, and accuracy using test_vcf_variants and truth_total_variants\n",
    "df['True_Positives'] = df['Shared_Variants']\n",
    "df['False_Positives'] = df['test_vcf_variants'] - df['True_Positives']\n",
    "df['False_Negatives'] = df['truth_total_variants'] - df['True_Positives']\n",
    "df['Total_variants'] = df['test_vcf_variants']\n",
    "\n",
    "df['Precision'] = df['True_Positives'] / (df['True_Positives'] + df['False_Positives'])\n",
    "df['Recall'] = df['True_Positives'] / (df['True_Positives'] + df['False_Negatives'])\n",
    "df['F1_Score'] = 2 * (df['Precision'] * df['Recall']) / (df['Precision'] + df['Recall'])\n",
    "df['Accuracy'] = df['True_Positives'] / df['truth_total_variants']\n",
    "\n",
    "# Plotting\n",
    "df_melted = df.melt(id_vars=['Filtered', 'Sample_ID'], var_name='Metric', value_name='Score')\n",
    "df_melted = df_melted[df_melted['Metric'].isin(['F1_Score', 'Precision', 'Accuracy'])]\n",
    "# print(df_melted)\n",
    "\n",
    "# For colours see this GIST\n",
    "# https://gist.github.com/thriveth/8560036"
   ]
  },
  {
   "cell_type": "code",
   "execution_count": 59,
   "metadata": {},
   "outputs": [
    {
     "data": {
      "application/vnd.plotly.v1+json": {
       "config": {
        "plotlyServerURL": "https://plot.ly"
       },
       "data": [
        {
         "alignmentgroup": "True",
         "hovertemplate": "Filtered=%{x}<br>Average Percentage of Postive MEIs found=%{y}<extra></extra>",
         "legendgroup": "False",
         "marker": {
          "color": "#636efa",
          "pattern": {
           "shape": ""
          }
         },
         "name": "False",
         "offsetgroup": "False",
         "orientation": "v",
         "showlegend": true,
         "textposition": "auto",
         "type": "bar",
         "x": [
          false
         ],
         "xaxis": "x",
         "y": [
          99.12587412587413
         ],
         "yaxis": "y"
        },
        {
         "alignmentgroup": "True",
         "hovertemplate": "Filtered=%{x}<br>Average Percentage of Postive MEIs found=%{y}<extra></extra>",
         "legendgroup": "True",
         "marker": {
          "color": "#EF553B",
          "pattern": {
           "shape": ""
          }
         },
         "name": "True",
         "offsetgroup": "True",
         "orientation": "v",
         "showlegend": true,
         "textposition": "auto",
         "type": "bar",
         "x": [
          true
         ],
         "xaxis": "x",
         "y": [
          39.30149294106061
         ],
         "yaxis": "y"
        }
       ],
       "layout": {
        "barmode": "relative",
        "legend": {
         "title": {
          "text": "Filtered"
         },
         "tracegroupgap": 0
        },
        "template": {
         "data": {
          "bar": [
           {
            "error_x": {
             "color": "#2a3f5f"
            },
            "error_y": {
             "color": "#2a3f5f"
            },
            "marker": {
             "line": {
              "color": "#E5ECF6",
              "width": 0.5
             },
             "pattern": {
              "fillmode": "overlay",
              "size": 10,
              "solidity": 0.2
             }
            },
            "type": "bar"
           }
          ],
          "barpolar": [
           {
            "marker": {
             "line": {
              "color": "#E5ECF6",
              "width": 0.5
             },
             "pattern": {
              "fillmode": "overlay",
              "size": 10,
              "solidity": 0.2
             }
            },
            "type": "barpolar"
           }
          ],
          "carpet": [
           {
            "aaxis": {
             "endlinecolor": "#2a3f5f",
             "gridcolor": "white",
             "linecolor": "white",
             "minorgridcolor": "white",
             "startlinecolor": "#2a3f5f"
            },
            "baxis": {
             "endlinecolor": "#2a3f5f",
             "gridcolor": "white",
             "linecolor": "white",
             "minorgridcolor": "white",
             "startlinecolor": "#2a3f5f"
            },
            "type": "carpet"
           }
          ],
          "choropleth": [
           {
            "colorbar": {
             "outlinewidth": 0,
             "ticks": ""
            },
            "type": "choropleth"
           }
          ],
          "contour": [
           {
            "colorbar": {
             "outlinewidth": 0,
             "ticks": ""
            },
            "colorscale": [
             [
              0,
              "#0d0887"
             ],
             [
              0.1111111111111111,
              "#46039f"
             ],
             [
              0.2222222222222222,
              "#7201a8"
             ],
             [
              0.3333333333333333,
              "#9c179e"
             ],
             [
              0.4444444444444444,
              "#bd3786"
             ],
             [
              0.5555555555555556,
              "#d8576b"
             ],
             [
              0.6666666666666666,
              "#ed7953"
             ],
             [
              0.7777777777777778,
              "#fb9f3a"
             ],
             [
              0.8888888888888888,
              "#fdca26"
             ],
             [
              1,
              "#f0f921"
             ]
            ],
            "type": "contour"
           }
          ],
          "contourcarpet": [
           {
            "colorbar": {
             "outlinewidth": 0,
             "ticks": ""
            },
            "type": "contourcarpet"
           }
          ],
          "heatmap": [
           {
            "colorbar": {
             "outlinewidth": 0,
             "ticks": ""
            },
            "colorscale": [
             [
              0,
              "#0d0887"
             ],
             [
              0.1111111111111111,
              "#46039f"
             ],
             [
              0.2222222222222222,
              "#7201a8"
             ],
             [
              0.3333333333333333,
              "#9c179e"
             ],
             [
              0.4444444444444444,
              "#bd3786"
             ],
             [
              0.5555555555555556,
              "#d8576b"
             ],
             [
              0.6666666666666666,
              "#ed7953"
             ],
             [
              0.7777777777777778,
              "#fb9f3a"
             ],
             [
              0.8888888888888888,
              "#fdca26"
             ],
             [
              1,
              "#f0f921"
             ]
            ],
            "type": "heatmap"
           }
          ],
          "heatmapgl": [
           {
            "colorbar": {
             "outlinewidth": 0,
             "ticks": ""
            },
            "colorscale": [
             [
              0,
              "#0d0887"
             ],
             [
              0.1111111111111111,
              "#46039f"
             ],
             [
              0.2222222222222222,
              "#7201a8"
             ],
             [
              0.3333333333333333,
              "#9c179e"
             ],
             [
              0.4444444444444444,
              "#bd3786"
             ],
             [
              0.5555555555555556,
              "#d8576b"
             ],
             [
              0.6666666666666666,
              "#ed7953"
             ],
             [
              0.7777777777777778,
              "#fb9f3a"
             ],
             [
              0.8888888888888888,
              "#fdca26"
             ],
             [
              1,
              "#f0f921"
             ]
            ],
            "type": "heatmapgl"
           }
          ],
          "histogram": [
           {
            "marker": {
             "pattern": {
              "fillmode": "overlay",
              "size": 10,
              "solidity": 0.2
             }
            },
            "type": "histogram"
           }
          ],
          "histogram2d": [
           {
            "colorbar": {
             "outlinewidth": 0,
             "ticks": ""
            },
            "colorscale": [
             [
              0,
              "#0d0887"
             ],
             [
              0.1111111111111111,
              "#46039f"
             ],
             [
              0.2222222222222222,
              "#7201a8"
             ],
             [
              0.3333333333333333,
              "#9c179e"
             ],
             [
              0.4444444444444444,
              "#bd3786"
             ],
             [
              0.5555555555555556,
              "#d8576b"
             ],
             [
              0.6666666666666666,
              "#ed7953"
             ],
             [
              0.7777777777777778,
              "#fb9f3a"
             ],
             [
              0.8888888888888888,
              "#fdca26"
             ],
             [
              1,
              "#f0f921"
             ]
            ],
            "type": "histogram2d"
           }
          ],
          "histogram2dcontour": [
           {
            "colorbar": {
             "outlinewidth": 0,
             "ticks": ""
            },
            "colorscale": [
             [
              0,
              "#0d0887"
             ],
             [
              0.1111111111111111,
              "#46039f"
             ],
             [
              0.2222222222222222,
              "#7201a8"
             ],
             [
              0.3333333333333333,
              "#9c179e"
             ],
             [
              0.4444444444444444,
              "#bd3786"
             ],
             [
              0.5555555555555556,
              "#d8576b"
             ],
             [
              0.6666666666666666,
              "#ed7953"
             ],
             [
              0.7777777777777778,
              "#fb9f3a"
             ],
             [
              0.8888888888888888,
              "#fdca26"
             ],
             [
              1,
              "#f0f921"
             ]
            ],
            "type": "histogram2dcontour"
           }
          ],
          "mesh3d": [
           {
            "colorbar": {
             "outlinewidth": 0,
             "ticks": ""
            },
            "type": "mesh3d"
           }
          ],
          "parcoords": [
           {
            "line": {
             "colorbar": {
              "outlinewidth": 0,
              "ticks": ""
             }
            },
            "type": "parcoords"
           }
          ],
          "pie": [
           {
            "automargin": true,
            "type": "pie"
           }
          ],
          "scatter": [
           {
            "fillpattern": {
             "fillmode": "overlay",
             "size": 10,
             "solidity": 0.2
            },
            "type": "scatter"
           }
          ],
          "scatter3d": [
           {
            "line": {
             "colorbar": {
              "outlinewidth": 0,
              "ticks": ""
             }
            },
            "marker": {
             "colorbar": {
              "outlinewidth": 0,
              "ticks": ""
             }
            },
            "type": "scatter3d"
           }
          ],
          "scattercarpet": [
           {
            "marker": {
             "colorbar": {
              "outlinewidth": 0,
              "ticks": ""
             }
            },
            "type": "scattercarpet"
           }
          ],
          "scattergeo": [
           {
            "marker": {
             "colorbar": {
              "outlinewidth": 0,
              "ticks": ""
             }
            },
            "type": "scattergeo"
           }
          ],
          "scattergl": [
           {
            "marker": {
             "colorbar": {
              "outlinewidth": 0,
              "ticks": ""
             }
            },
            "type": "scattergl"
           }
          ],
          "scattermapbox": [
           {
            "marker": {
             "colorbar": {
              "outlinewidth": 0,
              "ticks": ""
             }
            },
            "type": "scattermapbox"
           }
          ],
          "scatterpolar": [
           {
            "marker": {
             "colorbar": {
              "outlinewidth": 0,
              "ticks": ""
             }
            },
            "type": "scatterpolar"
           }
          ],
          "scatterpolargl": [
           {
            "marker": {
             "colorbar": {
              "outlinewidth": 0,
              "ticks": ""
             }
            },
            "type": "scatterpolargl"
           }
          ],
          "scatterternary": [
           {
            "marker": {
             "colorbar": {
              "outlinewidth": 0,
              "ticks": ""
             }
            },
            "type": "scatterternary"
           }
          ],
          "surface": [
           {
            "colorbar": {
             "outlinewidth": 0,
             "ticks": ""
            },
            "colorscale": [
             [
              0,
              "#0d0887"
             ],
             [
              0.1111111111111111,
              "#46039f"
             ],
             [
              0.2222222222222222,
              "#7201a8"
             ],
             [
              0.3333333333333333,
              "#9c179e"
             ],
             [
              0.4444444444444444,
              "#bd3786"
             ],
             [
              0.5555555555555556,
              "#d8576b"
             ],
             [
              0.6666666666666666,
              "#ed7953"
             ],
             [
              0.7777777777777778,
              "#fb9f3a"
             ],
             [
              0.8888888888888888,
              "#fdca26"
             ],
             [
              1,
              "#f0f921"
             ]
            ],
            "type": "surface"
           }
          ],
          "table": [
           {
            "cells": {
             "fill": {
              "color": "#EBF0F8"
             },
             "line": {
              "color": "white"
             }
            },
            "header": {
             "fill": {
              "color": "#C8D4E3"
             },
             "line": {
              "color": "white"
             }
            },
            "type": "table"
           }
          ]
         },
         "layout": {
          "annotationdefaults": {
           "arrowcolor": "#2a3f5f",
           "arrowhead": 0,
           "arrowwidth": 1
          },
          "autotypenumbers": "strict",
          "coloraxis": {
           "colorbar": {
            "outlinewidth": 0,
            "ticks": ""
           }
          },
          "colorscale": {
           "diverging": [
            [
             0,
             "#8e0152"
            ],
            [
             0.1,
             "#c51b7d"
            ],
            [
             0.2,
             "#de77ae"
            ],
            [
             0.3,
             "#f1b6da"
            ],
            [
             0.4,
             "#fde0ef"
            ],
            [
             0.5,
             "#f7f7f7"
            ],
            [
             0.6,
             "#e6f5d0"
            ],
            [
             0.7,
             "#b8e186"
            ],
            [
             0.8,
             "#7fbc41"
            ],
            [
             0.9,
             "#4d9221"
            ],
            [
             1,
             "#276419"
            ]
           ],
           "sequential": [
            [
             0,
             "#0d0887"
            ],
            [
             0.1111111111111111,
             "#46039f"
            ],
            [
             0.2222222222222222,
             "#7201a8"
            ],
            [
             0.3333333333333333,
             "#9c179e"
            ],
            [
             0.4444444444444444,
             "#bd3786"
            ],
            [
             0.5555555555555556,
             "#d8576b"
            ],
            [
             0.6666666666666666,
             "#ed7953"
            ],
            [
             0.7777777777777778,
             "#fb9f3a"
            ],
            [
             0.8888888888888888,
             "#fdca26"
            ],
            [
             1,
             "#f0f921"
            ]
           ],
           "sequentialminus": [
            [
             0,
             "#0d0887"
            ],
            [
             0.1111111111111111,
             "#46039f"
            ],
            [
             0.2222222222222222,
             "#7201a8"
            ],
            [
             0.3333333333333333,
             "#9c179e"
            ],
            [
             0.4444444444444444,
             "#bd3786"
            ],
            [
             0.5555555555555556,
             "#d8576b"
            ],
            [
             0.6666666666666666,
             "#ed7953"
            ],
            [
             0.7777777777777778,
             "#fb9f3a"
            ],
            [
             0.8888888888888888,
             "#fdca26"
            ],
            [
             1,
             "#f0f921"
            ]
           ]
          },
          "colorway": [
           "#636efa",
           "#EF553B",
           "#00cc96",
           "#ab63fa",
           "#FFA15A",
           "#19d3f3",
           "#FF6692",
           "#B6E880",
           "#FF97FF",
           "#FECB52"
          ],
          "font": {
           "color": "#2a3f5f"
          },
          "geo": {
           "bgcolor": "white",
           "lakecolor": "white",
           "landcolor": "#E5ECF6",
           "showlakes": true,
           "showland": true,
           "subunitcolor": "white"
          },
          "hoverlabel": {
           "align": "left"
          },
          "hovermode": "closest",
          "mapbox": {
           "style": "light"
          },
          "paper_bgcolor": "white",
          "plot_bgcolor": "#E5ECF6",
          "polar": {
           "angularaxis": {
            "gridcolor": "white",
            "linecolor": "white",
            "ticks": ""
           },
           "bgcolor": "#E5ECF6",
           "radialaxis": {
            "gridcolor": "white",
            "linecolor": "white",
            "ticks": ""
           }
          },
          "scene": {
           "xaxis": {
            "backgroundcolor": "#E5ECF6",
            "gridcolor": "white",
            "gridwidth": 2,
            "linecolor": "white",
            "showbackground": true,
            "ticks": "",
            "zerolinecolor": "white"
           },
           "yaxis": {
            "backgroundcolor": "#E5ECF6",
            "gridcolor": "white",
            "gridwidth": 2,
            "linecolor": "white",
            "showbackground": true,
            "ticks": "",
            "zerolinecolor": "white"
           },
           "zaxis": {
            "backgroundcolor": "#E5ECF6",
            "gridcolor": "white",
            "gridwidth": 2,
            "linecolor": "white",
            "showbackground": true,
            "ticks": "",
            "zerolinecolor": "white"
           }
          },
          "shapedefaults": {
           "line": {
            "color": "#2a3f5f"
           }
          },
          "ternary": {
           "aaxis": {
            "gridcolor": "white",
            "linecolor": "white",
            "ticks": ""
           },
           "baxis": {
            "gridcolor": "white",
            "linecolor": "white",
            "ticks": ""
           },
           "bgcolor": "#E5ECF6",
           "caxis": {
            "gridcolor": "white",
            "linecolor": "white",
            "ticks": ""
           }
          },
          "title": {
           "x": 0.05
          },
          "xaxis": {
           "automargin": true,
           "gridcolor": "white",
           "linecolor": "white",
           "ticks": "",
           "title": {
            "standoff": 15
           },
           "zerolinecolor": "white",
           "zerolinewidth": 2
          },
          "yaxis": {
           "automargin": true,
           "gridcolor": "white",
           "linecolor": "white",
           "ticks": "",
           "title": {
            "standoff": 15
           },
           "zerolinecolor": "white",
           "zerolinewidth": 2
          }
         }
        },
        "title": {
         "text": "Average Percentage of Postive MEIs found for Each Filtered"
        },
        "xaxis": {
         "anchor": "y",
         "categoryarray": [
          false,
          true
         ],
         "categoryorder": "array",
         "domain": [
          0,
          1
         ],
         "title": {
          "text": "Filtered"
         }
        },
        "yaxis": {
         "anchor": "x",
         "domain": [
          0,
          1
         ],
         "title": {
          "text": "Average Percentage of Postive MEIs found"
         }
        }
       }
      }
     },
     "metadata": {},
     "output_type": "display_data"
    }
   ],
   "source": [
    "# Calculate average percentage of shared variants for each Filtered\n",
    "avg_shared_percentage = df.groupby('Filtered')['Shared_Percentage'].mean().reset_index()\n",
    "\n",
    "# Plotting Average Percentage of Postive MEIs found\n",
    "fig = px.bar(avg_shared_percentage, x='Filtered', y='Shared_Percentage', title='Average Percentage of Postive MEIs found for Each Filtered',\n",
    "             labels={'Shared_Percentage': 'Average Percentage of Postive MEIs found', 'Filtered': 'Filtered'},\n",
    "             color='Filtered')\n",
    "\n",
    "fig.show()"
   ]
  },
  {
   "cell_type": "code",
   "execution_count": 75,
   "metadata": {},
   "outputs": [
    {
     "data": {
      "application/vnd.plotly.v1+json": {
       "config": {
        "plotlyServerURL": "https://plot.ly"
       },
       "data": [
        {
         "alignmentgroup": "True",
         "bingroup": "x",
         "histfunc": "sum",
         "hovertemplate": "Filtered=%{x}<br>sum of Total_variants=%{y}<extra></extra>",
         "legendgroup": "",
         "marker": {
          "color": "#636efa",
          "pattern": {
           "shape": ""
          }
         },
         "name": "",
         "offsetgroup": "",
         "orientation": "v",
         "showlegend": false,
         "type": "histogram",
         "x": [
          false,
          true,
          true,
          true,
          true,
          true,
          true,
          false,
          true,
          true,
          true,
          true,
          true,
          true,
          false,
          true,
          true,
          true,
          true,
          true,
          true,
          false,
          true,
          true,
          true,
          true,
          true,
          true,
          false,
          true,
          true,
          true,
          true,
          true,
          true,
          false,
          true,
          true,
          true,
          true,
          true,
          true,
          false,
          true,
          true,
          true,
          true,
          true,
          true,
          false,
          true,
          true,
          true,
          true,
          true,
          true,
          false,
          true,
          true,
          true,
          true,
          true,
          true,
          false,
          true,
          true,
          true,
          true,
          true,
          true,
          false,
          true,
          true,
          true,
          true,
          true,
          true,
          false,
          true,
          true,
          true,
          true,
          true,
          true,
          false,
          true,
          true,
          true,
          true,
          true,
          true,
          false,
          true,
          true,
          true,
          true,
          true,
          true,
          false,
          true,
          true,
          true,
          true,
          true,
          true,
          false,
          true,
          true,
          true,
          true,
          true,
          true,
          false,
          true,
          true,
          true,
          true,
          true,
          true,
          false,
          true,
          true,
          true,
          true,
          true,
          true,
          false,
          true,
          true,
          true,
          true,
          true,
          true,
          false,
          true,
          true,
          true,
          true,
          true,
          true,
          false,
          true,
          true,
          true,
          true,
          true,
          true,
          false,
          true,
          true,
          true,
          true,
          true,
          true,
          false,
          true,
          true,
          true,
          true,
          true,
          true,
          false,
          true,
          true,
          true,
          true,
          true,
          true,
          false,
          true,
          true,
          true,
          true,
          true,
          true,
          false,
          true,
          true,
          true,
          true,
          true,
          true,
          false,
          true,
          true,
          true,
          true,
          true,
          true,
          false,
          true,
          true,
          true,
          true,
          true,
          true
         ],
         "xaxis": "x",
         "y": [
          16632,
          260,
          6909,
          281,
          260,
          282,
          0,
          16672,
          962,
          6911,
          1049,
          962,
          1060,
          0,
          16697,
          918,
          6914,
          1018,
          918,
          1044,
          0,
          16664,
          999,
          6914,
          1091,
          999,
          1117,
          0,
          16814,
          978,
          6911,
          1113,
          978,
          1133,
          0,
          16633,
          299,
          6909,
          315,
          299,
          315,
          0,
          16701,
          1015,
          6914,
          1121,
          1015,
          1168,
          0,
          16707,
          1046,
          6921,
          1140,
          1046,
          1176,
          0,
          16633,
          204,
          6909,
          214,
          204,
          214,
          0,
          16678,
          1032,
          6919,
          1112,
          1032,
          1147,
          0,
          16791,
          1113,
          6910,
          1304,
          1113,
          1324,
          0,
          16707,
          1215,
          6914,
          1385,
          1215,
          1421,
          0,
          16732,
          1246,
          6925,
          1396,
          1246,
          1435,
          0,
          16677,
          1011,
          6913,
          1092,
          1011,
          1111,
          0,
          16685,
          1303,
          6923,
          1442,
          1303,
          1469,
          0,
          16658,
          1037,
          6915,
          1101,
          1037,
          1120,
          0,
          16663,
          927,
          6918,
          991,
          927,
          1023,
          0,
          16641,
          917,
          6910,
          971,
          917,
          980,
          0,
          16710,
          896,
          6913,
          963,
          896,
          965,
          0,
          15247,
          1126,
          6335,
          1238,
          1126,
          1261,
          0,
          16815,
          1131,
          6915,
          1268,
          1131,
          1285,
          0,
          16694,
          960,
          6910,
          1062,
          960,
          1084,
          0,
          16636,
          4,
          6909,
          6,
          4,
          6,
          0,
          16653,
          1090,
          6917,
          1172,
          1090,
          1207,
          0,
          16677,
          1060,
          6915,
          1146,
          1060,
          1165,
          0,
          16657,
          353,
          6909,
          387,
          353,
          390,
          0,
          16645,
          307,
          6909,
          337,
          307,
          338,
          0,
          16651,
          233,
          6909,
          262,
          233,
          262,
          0
         ],
         "yaxis": "y"
        }
       ],
       "layout": {
        "barmode": "relative",
        "legend": {
         "tracegroupgap": 0
        },
        "template": {
         "data": {
          "bar": [
           {
            "error_x": {
             "color": "#2a3f5f"
            },
            "error_y": {
             "color": "#2a3f5f"
            },
            "marker": {
             "line": {
              "color": "#E5ECF6",
              "width": 0.5
             },
             "pattern": {
              "fillmode": "overlay",
              "size": 10,
              "solidity": 0.2
             }
            },
            "type": "bar"
           }
          ],
          "barpolar": [
           {
            "marker": {
             "line": {
              "color": "#E5ECF6",
              "width": 0.5
             },
             "pattern": {
              "fillmode": "overlay",
              "size": 10,
              "solidity": 0.2
             }
            },
            "type": "barpolar"
           }
          ],
          "carpet": [
           {
            "aaxis": {
             "endlinecolor": "#2a3f5f",
             "gridcolor": "white",
             "linecolor": "white",
             "minorgridcolor": "white",
             "startlinecolor": "#2a3f5f"
            },
            "baxis": {
             "endlinecolor": "#2a3f5f",
             "gridcolor": "white",
             "linecolor": "white",
             "minorgridcolor": "white",
             "startlinecolor": "#2a3f5f"
            },
            "type": "carpet"
           }
          ],
          "choropleth": [
           {
            "colorbar": {
             "outlinewidth": 0,
             "ticks": ""
            },
            "type": "choropleth"
           }
          ],
          "contour": [
           {
            "colorbar": {
             "outlinewidth": 0,
             "ticks": ""
            },
            "colorscale": [
             [
              0,
              "#0d0887"
             ],
             [
              0.1111111111111111,
              "#46039f"
             ],
             [
              0.2222222222222222,
              "#7201a8"
             ],
             [
              0.3333333333333333,
              "#9c179e"
             ],
             [
              0.4444444444444444,
              "#bd3786"
             ],
             [
              0.5555555555555556,
              "#d8576b"
             ],
             [
              0.6666666666666666,
              "#ed7953"
             ],
             [
              0.7777777777777778,
              "#fb9f3a"
             ],
             [
              0.8888888888888888,
              "#fdca26"
             ],
             [
              1,
              "#f0f921"
             ]
            ],
            "type": "contour"
           }
          ],
          "contourcarpet": [
           {
            "colorbar": {
             "outlinewidth": 0,
             "ticks": ""
            },
            "type": "contourcarpet"
           }
          ],
          "heatmap": [
           {
            "colorbar": {
             "outlinewidth": 0,
             "ticks": ""
            },
            "colorscale": [
             [
              0,
              "#0d0887"
             ],
             [
              0.1111111111111111,
              "#46039f"
             ],
             [
              0.2222222222222222,
              "#7201a8"
             ],
             [
              0.3333333333333333,
              "#9c179e"
             ],
             [
              0.4444444444444444,
              "#bd3786"
             ],
             [
              0.5555555555555556,
              "#d8576b"
             ],
             [
              0.6666666666666666,
              "#ed7953"
             ],
             [
              0.7777777777777778,
              "#fb9f3a"
             ],
             [
              0.8888888888888888,
              "#fdca26"
             ],
             [
              1,
              "#f0f921"
             ]
            ],
            "type": "heatmap"
           }
          ],
          "heatmapgl": [
           {
            "colorbar": {
             "outlinewidth": 0,
             "ticks": ""
            },
            "colorscale": [
             [
              0,
              "#0d0887"
             ],
             [
              0.1111111111111111,
              "#46039f"
             ],
             [
              0.2222222222222222,
              "#7201a8"
             ],
             [
              0.3333333333333333,
              "#9c179e"
             ],
             [
              0.4444444444444444,
              "#bd3786"
             ],
             [
              0.5555555555555556,
              "#d8576b"
             ],
             [
              0.6666666666666666,
              "#ed7953"
             ],
             [
              0.7777777777777778,
              "#fb9f3a"
             ],
             [
              0.8888888888888888,
              "#fdca26"
             ],
             [
              1,
              "#f0f921"
             ]
            ],
            "type": "heatmapgl"
           }
          ],
          "histogram": [
           {
            "marker": {
             "pattern": {
              "fillmode": "overlay",
              "size": 10,
              "solidity": 0.2
             }
            },
            "type": "histogram"
           }
          ],
          "histogram2d": [
           {
            "colorbar": {
             "outlinewidth": 0,
             "ticks": ""
            },
            "colorscale": [
             [
              0,
              "#0d0887"
             ],
             [
              0.1111111111111111,
              "#46039f"
             ],
             [
              0.2222222222222222,
              "#7201a8"
             ],
             [
              0.3333333333333333,
              "#9c179e"
             ],
             [
              0.4444444444444444,
              "#bd3786"
             ],
             [
              0.5555555555555556,
              "#d8576b"
             ],
             [
              0.6666666666666666,
              "#ed7953"
             ],
             [
              0.7777777777777778,
              "#fb9f3a"
             ],
             [
              0.8888888888888888,
              "#fdca26"
             ],
             [
              1,
              "#f0f921"
             ]
            ],
            "type": "histogram2d"
           }
          ],
          "histogram2dcontour": [
           {
            "colorbar": {
             "outlinewidth": 0,
             "ticks": ""
            },
            "colorscale": [
             [
              0,
              "#0d0887"
             ],
             [
              0.1111111111111111,
              "#46039f"
             ],
             [
              0.2222222222222222,
              "#7201a8"
             ],
             [
              0.3333333333333333,
              "#9c179e"
             ],
             [
              0.4444444444444444,
              "#bd3786"
             ],
             [
              0.5555555555555556,
              "#d8576b"
             ],
             [
              0.6666666666666666,
              "#ed7953"
             ],
             [
              0.7777777777777778,
              "#fb9f3a"
             ],
             [
              0.8888888888888888,
              "#fdca26"
             ],
             [
              1,
              "#f0f921"
             ]
            ],
            "type": "histogram2dcontour"
           }
          ],
          "mesh3d": [
           {
            "colorbar": {
             "outlinewidth": 0,
             "ticks": ""
            },
            "type": "mesh3d"
           }
          ],
          "parcoords": [
           {
            "line": {
             "colorbar": {
              "outlinewidth": 0,
              "ticks": ""
             }
            },
            "type": "parcoords"
           }
          ],
          "pie": [
           {
            "automargin": true,
            "type": "pie"
           }
          ],
          "scatter": [
           {
            "fillpattern": {
             "fillmode": "overlay",
             "size": 10,
             "solidity": 0.2
            },
            "type": "scatter"
           }
          ],
          "scatter3d": [
           {
            "line": {
             "colorbar": {
              "outlinewidth": 0,
              "ticks": ""
             }
            },
            "marker": {
             "colorbar": {
              "outlinewidth": 0,
              "ticks": ""
             }
            },
            "type": "scatter3d"
           }
          ],
          "scattercarpet": [
           {
            "marker": {
             "colorbar": {
              "outlinewidth": 0,
              "ticks": ""
             }
            },
            "type": "scattercarpet"
           }
          ],
          "scattergeo": [
           {
            "marker": {
             "colorbar": {
              "outlinewidth": 0,
              "ticks": ""
             }
            },
            "type": "scattergeo"
           }
          ],
          "scattergl": [
           {
            "marker": {
             "colorbar": {
              "outlinewidth": 0,
              "ticks": ""
             }
            },
            "type": "scattergl"
           }
          ],
          "scattermapbox": [
           {
            "marker": {
             "colorbar": {
              "outlinewidth": 0,
              "ticks": ""
             }
            },
            "type": "scattermapbox"
           }
          ],
          "scatterpolar": [
           {
            "marker": {
             "colorbar": {
              "outlinewidth": 0,
              "ticks": ""
             }
            },
            "type": "scatterpolar"
           }
          ],
          "scatterpolargl": [
           {
            "marker": {
             "colorbar": {
              "outlinewidth": 0,
              "ticks": ""
             }
            },
            "type": "scatterpolargl"
           }
          ],
          "scatterternary": [
           {
            "marker": {
             "colorbar": {
              "outlinewidth": 0,
              "ticks": ""
             }
            },
            "type": "scatterternary"
           }
          ],
          "surface": [
           {
            "colorbar": {
             "outlinewidth": 0,
             "ticks": ""
            },
            "colorscale": [
             [
              0,
              "#0d0887"
             ],
             [
              0.1111111111111111,
              "#46039f"
             ],
             [
              0.2222222222222222,
              "#7201a8"
             ],
             [
              0.3333333333333333,
              "#9c179e"
             ],
             [
              0.4444444444444444,
              "#bd3786"
             ],
             [
              0.5555555555555556,
              "#d8576b"
             ],
             [
              0.6666666666666666,
              "#ed7953"
             ],
             [
              0.7777777777777778,
              "#fb9f3a"
             ],
             [
              0.8888888888888888,
              "#fdca26"
             ],
             [
              1,
              "#f0f921"
             ]
            ],
            "type": "surface"
           }
          ],
          "table": [
           {
            "cells": {
             "fill": {
              "color": "#EBF0F8"
             },
             "line": {
              "color": "white"
             }
            },
            "header": {
             "fill": {
              "color": "#C8D4E3"
             },
             "line": {
              "color": "white"
             }
            },
            "type": "table"
           }
          ]
         },
         "layout": {
          "annotationdefaults": {
           "arrowcolor": "#2a3f5f",
           "arrowhead": 0,
           "arrowwidth": 1
          },
          "autotypenumbers": "strict",
          "coloraxis": {
           "colorbar": {
            "outlinewidth": 0,
            "ticks": ""
           }
          },
          "colorscale": {
           "diverging": [
            [
             0,
             "#8e0152"
            ],
            [
             0.1,
             "#c51b7d"
            ],
            [
             0.2,
             "#de77ae"
            ],
            [
             0.3,
             "#f1b6da"
            ],
            [
             0.4,
             "#fde0ef"
            ],
            [
             0.5,
             "#f7f7f7"
            ],
            [
             0.6,
             "#e6f5d0"
            ],
            [
             0.7,
             "#b8e186"
            ],
            [
             0.8,
             "#7fbc41"
            ],
            [
             0.9,
             "#4d9221"
            ],
            [
             1,
             "#276419"
            ]
           ],
           "sequential": [
            [
             0,
             "#0d0887"
            ],
            [
             0.1111111111111111,
             "#46039f"
            ],
            [
             0.2222222222222222,
             "#7201a8"
            ],
            [
             0.3333333333333333,
             "#9c179e"
            ],
            [
             0.4444444444444444,
             "#bd3786"
            ],
            [
             0.5555555555555556,
             "#d8576b"
            ],
            [
             0.6666666666666666,
             "#ed7953"
            ],
            [
             0.7777777777777778,
             "#fb9f3a"
            ],
            [
             0.8888888888888888,
             "#fdca26"
            ],
            [
             1,
             "#f0f921"
            ]
           ],
           "sequentialminus": [
            [
             0,
             "#0d0887"
            ],
            [
             0.1111111111111111,
             "#46039f"
            ],
            [
             0.2222222222222222,
             "#7201a8"
            ],
            [
             0.3333333333333333,
             "#9c179e"
            ],
            [
             0.4444444444444444,
             "#bd3786"
            ],
            [
             0.5555555555555556,
             "#d8576b"
            ],
            [
             0.6666666666666666,
             "#ed7953"
            ],
            [
             0.7777777777777778,
             "#fb9f3a"
            ],
            [
             0.8888888888888888,
             "#fdca26"
            ],
            [
             1,
             "#f0f921"
            ]
           ]
          },
          "colorway": [
           "#636efa",
           "#EF553B",
           "#00cc96",
           "#ab63fa",
           "#FFA15A",
           "#19d3f3",
           "#FF6692",
           "#B6E880",
           "#FF97FF",
           "#FECB52"
          ],
          "font": {
           "color": "#2a3f5f"
          },
          "geo": {
           "bgcolor": "white",
           "lakecolor": "white",
           "landcolor": "#E5ECF6",
           "showlakes": true,
           "showland": true,
           "subunitcolor": "white"
          },
          "hoverlabel": {
           "align": "left"
          },
          "hovermode": "closest",
          "mapbox": {
           "style": "light"
          },
          "paper_bgcolor": "white",
          "plot_bgcolor": "#E5ECF6",
          "polar": {
           "angularaxis": {
            "gridcolor": "white",
            "linecolor": "white",
            "ticks": ""
           },
           "bgcolor": "#E5ECF6",
           "radialaxis": {
            "gridcolor": "white",
            "linecolor": "white",
            "ticks": ""
           }
          },
          "scene": {
           "xaxis": {
            "backgroundcolor": "#E5ECF6",
            "gridcolor": "white",
            "gridwidth": 2,
            "linecolor": "white",
            "showbackground": true,
            "ticks": "",
            "zerolinecolor": "white"
           },
           "yaxis": {
            "backgroundcolor": "#E5ECF6",
            "gridcolor": "white",
            "gridwidth": 2,
            "linecolor": "white",
            "showbackground": true,
            "ticks": "",
            "zerolinecolor": "white"
           },
           "zaxis": {
            "backgroundcolor": "#E5ECF6",
            "gridcolor": "white",
            "gridwidth": 2,
            "linecolor": "white",
            "showbackground": true,
            "ticks": "",
            "zerolinecolor": "white"
           }
          },
          "shapedefaults": {
           "line": {
            "color": "#2a3f5f"
           }
          },
          "ternary": {
           "aaxis": {
            "gridcolor": "white",
            "linecolor": "white",
            "ticks": ""
           },
           "baxis": {
            "gridcolor": "white",
            "linecolor": "white",
            "ticks": ""
           },
           "bgcolor": "#E5ECF6",
           "caxis": {
            "gridcolor": "white",
            "linecolor": "white",
            "ticks": ""
           }
          },
          "title": {
           "x": 0.05
          },
          "xaxis": {
           "automargin": true,
           "gridcolor": "white",
           "linecolor": "white",
           "ticks": "",
           "title": {
            "standoff": 15
           },
           "zerolinecolor": "white",
           "zerolinewidth": 2
          },
          "yaxis": {
           "automargin": true,
           "gridcolor": "white",
           "linecolor": "white",
           "ticks": "",
           "title": {
            "standoff": 15
           },
           "zerolinecolor": "white",
           "zerolinewidth": 2
          }
         }
        },
        "title": {
         "text": "Total Variants per Filtered"
        },
        "xaxis": {
         "anchor": "y",
         "domain": [
          0,
          1
         ],
         "title": {
          "text": "Filtered"
         }
        },
        "yaxis": {
         "anchor": "x",
         "domain": [
          0,
          1
         ],
         "title": {
          "text": "sum of Total_variants"
         }
        }
       }
      }
     },
     "metadata": {},
     "output_type": "display_data"
    }
   ],
   "source": [
    "# Plotting\n",
    "fig1 = px.bar(df_melted, x='Sample_ID', y='Score', title='Variant Detection Metrics',\n",
    "              labels={'Score': 'Score', 'Sample_ID': 'Sample ID'},\n",
    "              color='Filtered', facet_col='Metric')\n",
    "\n",
    "fig1.update_xaxes(tickangle=45)\n",
    "\n",
    "fig5 = px.bar(df, x='Filtered', y=['F1_Score', 'Precision', 'Accuracy'], title='Variant Detection Metrics',\n",
    "              labels={'value': 'Score', 'variable': 'Metric'},\n",
    "              color='Filtered')\n",
    "\n",
    "fig2 = px.scatter(df, x='Filtered', y='Shared_Percentage', title='Shared Percentage per Filtered')\n",
    "\n",
    "fig3 = px.box(df, x='Filtered', y='Shared_Variants', title='Distribution of Shared Variants per Filtered')\n",
    "\n",
    "fig4 = px.histogram(df, x='Filtered', y='Total_variants', title='Total Variants per Filtered')\n",
    "\n",
    "# Display all plots in a single Jupyter notebook\n",
    "fig4.show()\n",
    "\n",
    "# fig1.show()\n",
    "# fig2.show()\n",
    "# fig3.show()\n",
    "\n"
   ]
  },
  {
   "cell_type": "code",
   "execution_count": 61,
   "metadata": {},
   "outputs": [
    {
     "data": {
      "application/vnd.plotly.v1+json": {
       "config": {
        "plotlyServerURL": "https://plot.ly"
       },
       "data": [
        {
         "hovertemplate": "Filtered=%{x}<br>F1 Score=%{y}<extra></extra>",
         "legendgroup": "False",
         "marker": {
          "color": "#636efa",
          "symbol": "circle"
         },
         "mode": "markers",
         "name": "False",
         "orientation": "v",
         "showlegend": true,
         "type": "scatter",
         "x": [
          false,
          false,
          false,
          false,
          false,
          false,
          false,
          false,
          false,
          false,
          false,
          false,
          false,
          false,
          false,
          false,
          false,
          false,
          false,
          false,
          false,
          false,
          false,
          false,
          false,
          false,
          false,
          false
         ],
         "xaxis": "x",
         "y": [
          0.0003606853020739404,
          0.0010790719980816497,
          0.0014363516667664136,
          0.0013193403298350824,
          0.0009511354179051242,
          0.0008413461538461537,
          0.0013164193393968406,
          0.0005983724269985639,
          0.0006010337780983291,
          0.0011984659635666346,
          0.002260559190957763,
          0.002271911993303838,
          0.003341288782816229,
          0.0011985377839036375,
          0.0031117228173059663,
          0.0008400840084008402,
          0.0011994722322178244,
          0.0008409418548774628,
          0.0011961722488038277,
          0.002880900936292804,
          0.002376002376002376,
          0.0015562339139282935,
          0.0006009254251547382,
          0.0013202112337974074,
          0.0010787486515641855,
          0.0016795633135384801,
          0.0019206530220274892,
          0.0015602496399423906
         ],
         "yaxis": "y"
        },
        {
         "hovertemplate": "Filtered=%{x}<br>F1 Score=%{y}<extra></extra>",
         "legendgroup": "True",
         "marker": {
          "color": "#EF553B",
          "symbol": "circle"
         },
         "mode": "markers",
         "name": "True",
         "orientation": "v",
         "showlegend": true,
         "type": "scatter",
         "x": [
          true,
          true,
          true,
          true,
          true,
          true,
          true,
          true,
          true,
          true,
          true,
          true,
          true,
          true,
          true,
          true,
          true,
          true,
          true,
          true,
          true,
          true,
          true,
          true,
          true,
          true,
          true,
          true,
          true,
          true,
          true,
          true,
          true,
          true,
          true,
          true,
          true,
          true,
          true,
          true,
          true,
          true,
          true,
          true,
          true,
          true,
          true,
          true,
          true,
          true,
          true,
          true,
          true,
          true,
          true,
          true,
          true,
          true,
          true,
          true,
          true,
          true,
          true,
          true,
          true,
          true,
          true,
          true,
          true,
          true,
          true,
          true,
          true,
          true,
          true,
          true,
          true,
          true,
          true,
          true,
          true,
          true,
          true,
          true,
          true,
          true,
          true,
          true,
          true,
          true,
          true,
          true,
          true,
          true,
          true,
          true,
          true,
          true,
          true,
          true,
          true,
          true,
          true,
          true,
          true,
          true,
          true,
          true,
          true,
          true,
          true,
          true,
          true,
          true,
          true,
          true,
          true,
          true,
          true,
          true,
          true,
          true,
          true,
          true,
          true,
          true,
          true,
          true,
          true,
          true,
          true,
          true,
          true,
          true,
          true,
          true,
          true,
          true,
          true,
          true,
          true,
          true,
          true,
          true,
          true,
          true,
          true,
          true,
          true,
          true,
          true,
          true,
          true,
          true,
          true,
          true,
          true,
          true,
          true,
          true,
          true,
          true,
          true,
          true,
          true,
          true,
          true,
          true
         ],
         "xaxis": "x",
         "y": [
          null,
          0.00028935185185185184,
          null,
          null,
          null,
          null,
          0.008238928939237899,
          0.001445086705202312,
          0.011342155009451797,
          0.008238928939237899,
          0.011225444340505144,
          null,
          0.008602150537634409,
          0.0020213687554143803,
          0.00970873786407767,
          0.008602150537634409,
          0.00946969696969697,
          null,
          0.011881188118811881,
          0.0017328519855595668,
          0.012704174228675136,
          0.011881188118811881,
          0.01595744680851064,
          null,
          0.008113590263691683,
          0.0011562364503540973,
          0.010704727921498663,
          0.008113590263691683,
          0.010517090271691499,
          null,
          null,
          0.0008675534991324465,
          null,
          null,
          null,
          null,
          0.007797270955165692,
          0.0017328519855595668,
          0.012367491166077738,
          0.007797270955165692,
          0.011874469889737064,
          null,
          0.00570884871550904,
          0.0005775339301183944,
          0.005240174672489083,
          0.00570884871550904,
          0.006773920406435225,
          null,
          null,
          0.0011570726063060456,
          null,
          null,
          null,
          null,
          0.011516314779270634,
          0.002309135517390677,
          0.012477718360071303,
          0.011516314779270634,
          0.012100259291270527,
          null,
          0.01943462897526502,
          0.0028864193967383456,
          0.02418745275888133,
          0.01943462897526502,
          0.023827252419955324,
          null,
          0.016207455429497572,
          0.002596278667243617,
          0.02279202279202279,
          0.016207455429497572,
          0.022222222222222223,
          null,
          0.02511773940345369,
          0.00402703868833597,
          0.03370786516853933,
          0.02511773940345369,
          0.032809295967190705,
          null,
          0.011753183153770812,
          0.002022244691607684,
          0.012704174228675136,
          0.011753183153770812,
          0.01248884924174844,
          null,
          0.024078254326561327,
          0.004317167937832781,
          0.02861035422343324,
          0.024078254326561327,
          0.029431438127090304,
          null,
          0.0038314176245210726,
          0.0014446691707598958,
          0.005415162454873647,
          0.0038314176245210726,
          0.005323868677905945,
          null,
          0.010660980810234543,
          0.0011545677586953385,
          0.011976047904191616,
          0.010660980810234543,
          0.01160541586073501,
          null,
          0.004329004329004329,
          0.0014457134595923088,
          0.004089979550102249,
          0.004329004329004329,
          0.004052684903748733,
          null,
          0.00662251655629139,
          0.0014444604940054887,
          0.012332990750256937,
          0.00662251655629139,
          0.012307692307692308,
          null,
          0.026041666666666664,
          0.0031441597233139444,
          0.030063291139240503,
          0.026041666666666664,
          0.02952602952602953,
          null,
          0.013900955690703735,
          0.003172314347512617,
          0.020186335403726708,
          0.013900955690703735,
          0.01992337164750958,
          null,
          0.01644398766700925,
          0.0014444604940054887,
          0.02046511627906977,
          0.01644398766700925,
          0.02005469462169553,
          null,
          null,
          0.0008678044547295343,
          null,
          null,
          null,
          null,
          0.007266121707538601,
          0.0011547344110854503,
          0.01352493660185968,
          0.007266121707538601,
          0.013136288998357962,
          null,
          0.011225444340505144,
          0.0014442518775274408,
          0.010389610389610391,
          0.011225444340505144,
          0.010221465076660987,
          null,
          0.016348773841961855,
          0.002311136790408782,
          0.014962593516209476,
          0.016348773841961855,
          0.014851485148514853,
          null,
          0.018575851393188854,
          0.002888086642599278,
          0.016997167138810197,
          0.018575851393188854,
          0.01694915254237288,
          null,
          0.008130081300813007,
          0.002889338341519792,
          0.007272727272727272,
          0.008130081300813007,
          0.007272727272727272,
          null
         ],
         "yaxis": "y"
        }
       ],
       "layout": {
        "legend": {
         "title": {
          "text": "Filtered"
         },
         "tracegroupgap": 0
        },
        "template": {
         "data": {
          "bar": [
           {
            "error_x": {
             "color": "#2a3f5f"
            },
            "error_y": {
             "color": "#2a3f5f"
            },
            "marker": {
             "line": {
              "color": "#E5ECF6",
              "width": 0.5
             },
             "pattern": {
              "fillmode": "overlay",
              "size": 10,
              "solidity": 0.2
             }
            },
            "type": "bar"
           }
          ],
          "barpolar": [
           {
            "marker": {
             "line": {
              "color": "#E5ECF6",
              "width": 0.5
             },
             "pattern": {
              "fillmode": "overlay",
              "size": 10,
              "solidity": 0.2
             }
            },
            "type": "barpolar"
           }
          ],
          "carpet": [
           {
            "aaxis": {
             "endlinecolor": "#2a3f5f",
             "gridcolor": "white",
             "linecolor": "white",
             "minorgridcolor": "white",
             "startlinecolor": "#2a3f5f"
            },
            "baxis": {
             "endlinecolor": "#2a3f5f",
             "gridcolor": "white",
             "linecolor": "white",
             "minorgridcolor": "white",
             "startlinecolor": "#2a3f5f"
            },
            "type": "carpet"
           }
          ],
          "choropleth": [
           {
            "colorbar": {
             "outlinewidth": 0,
             "ticks": ""
            },
            "type": "choropleth"
           }
          ],
          "contour": [
           {
            "colorbar": {
             "outlinewidth": 0,
             "ticks": ""
            },
            "colorscale": [
             [
              0,
              "#0d0887"
             ],
             [
              0.1111111111111111,
              "#46039f"
             ],
             [
              0.2222222222222222,
              "#7201a8"
             ],
             [
              0.3333333333333333,
              "#9c179e"
             ],
             [
              0.4444444444444444,
              "#bd3786"
             ],
             [
              0.5555555555555556,
              "#d8576b"
             ],
             [
              0.6666666666666666,
              "#ed7953"
             ],
             [
              0.7777777777777778,
              "#fb9f3a"
             ],
             [
              0.8888888888888888,
              "#fdca26"
             ],
             [
              1,
              "#f0f921"
             ]
            ],
            "type": "contour"
           }
          ],
          "contourcarpet": [
           {
            "colorbar": {
             "outlinewidth": 0,
             "ticks": ""
            },
            "type": "contourcarpet"
           }
          ],
          "heatmap": [
           {
            "colorbar": {
             "outlinewidth": 0,
             "ticks": ""
            },
            "colorscale": [
             [
              0,
              "#0d0887"
             ],
             [
              0.1111111111111111,
              "#46039f"
             ],
             [
              0.2222222222222222,
              "#7201a8"
             ],
             [
              0.3333333333333333,
              "#9c179e"
             ],
             [
              0.4444444444444444,
              "#bd3786"
             ],
             [
              0.5555555555555556,
              "#d8576b"
             ],
             [
              0.6666666666666666,
              "#ed7953"
             ],
             [
              0.7777777777777778,
              "#fb9f3a"
             ],
             [
              0.8888888888888888,
              "#fdca26"
             ],
             [
              1,
              "#f0f921"
             ]
            ],
            "type": "heatmap"
           }
          ],
          "heatmapgl": [
           {
            "colorbar": {
             "outlinewidth": 0,
             "ticks": ""
            },
            "colorscale": [
             [
              0,
              "#0d0887"
             ],
             [
              0.1111111111111111,
              "#46039f"
             ],
             [
              0.2222222222222222,
              "#7201a8"
             ],
             [
              0.3333333333333333,
              "#9c179e"
             ],
             [
              0.4444444444444444,
              "#bd3786"
             ],
             [
              0.5555555555555556,
              "#d8576b"
             ],
             [
              0.6666666666666666,
              "#ed7953"
             ],
             [
              0.7777777777777778,
              "#fb9f3a"
             ],
             [
              0.8888888888888888,
              "#fdca26"
             ],
             [
              1,
              "#f0f921"
             ]
            ],
            "type": "heatmapgl"
           }
          ],
          "histogram": [
           {
            "marker": {
             "pattern": {
              "fillmode": "overlay",
              "size": 10,
              "solidity": 0.2
             }
            },
            "type": "histogram"
           }
          ],
          "histogram2d": [
           {
            "colorbar": {
             "outlinewidth": 0,
             "ticks": ""
            },
            "colorscale": [
             [
              0,
              "#0d0887"
             ],
             [
              0.1111111111111111,
              "#46039f"
             ],
             [
              0.2222222222222222,
              "#7201a8"
             ],
             [
              0.3333333333333333,
              "#9c179e"
             ],
             [
              0.4444444444444444,
              "#bd3786"
             ],
             [
              0.5555555555555556,
              "#d8576b"
             ],
             [
              0.6666666666666666,
              "#ed7953"
             ],
             [
              0.7777777777777778,
              "#fb9f3a"
             ],
             [
              0.8888888888888888,
              "#fdca26"
             ],
             [
              1,
              "#f0f921"
             ]
            ],
            "type": "histogram2d"
           }
          ],
          "histogram2dcontour": [
           {
            "colorbar": {
             "outlinewidth": 0,
             "ticks": ""
            },
            "colorscale": [
             [
              0,
              "#0d0887"
             ],
             [
              0.1111111111111111,
              "#46039f"
             ],
             [
              0.2222222222222222,
              "#7201a8"
             ],
             [
              0.3333333333333333,
              "#9c179e"
             ],
             [
              0.4444444444444444,
              "#bd3786"
             ],
             [
              0.5555555555555556,
              "#d8576b"
             ],
             [
              0.6666666666666666,
              "#ed7953"
             ],
             [
              0.7777777777777778,
              "#fb9f3a"
             ],
             [
              0.8888888888888888,
              "#fdca26"
             ],
             [
              1,
              "#f0f921"
             ]
            ],
            "type": "histogram2dcontour"
           }
          ],
          "mesh3d": [
           {
            "colorbar": {
             "outlinewidth": 0,
             "ticks": ""
            },
            "type": "mesh3d"
           }
          ],
          "parcoords": [
           {
            "line": {
             "colorbar": {
              "outlinewidth": 0,
              "ticks": ""
             }
            },
            "type": "parcoords"
           }
          ],
          "pie": [
           {
            "automargin": true,
            "type": "pie"
           }
          ],
          "scatter": [
           {
            "fillpattern": {
             "fillmode": "overlay",
             "size": 10,
             "solidity": 0.2
            },
            "type": "scatter"
           }
          ],
          "scatter3d": [
           {
            "line": {
             "colorbar": {
              "outlinewidth": 0,
              "ticks": ""
             }
            },
            "marker": {
             "colorbar": {
              "outlinewidth": 0,
              "ticks": ""
             }
            },
            "type": "scatter3d"
           }
          ],
          "scattercarpet": [
           {
            "marker": {
             "colorbar": {
              "outlinewidth": 0,
              "ticks": ""
             }
            },
            "type": "scattercarpet"
           }
          ],
          "scattergeo": [
           {
            "marker": {
             "colorbar": {
              "outlinewidth": 0,
              "ticks": ""
             }
            },
            "type": "scattergeo"
           }
          ],
          "scattergl": [
           {
            "marker": {
             "colorbar": {
              "outlinewidth": 0,
              "ticks": ""
             }
            },
            "type": "scattergl"
           }
          ],
          "scattermapbox": [
           {
            "marker": {
             "colorbar": {
              "outlinewidth": 0,
              "ticks": ""
             }
            },
            "type": "scattermapbox"
           }
          ],
          "scatterpolar": [
           {
            "marker": {
             "colorbar": {
              "outlinewidth": 0,
              "ticks": ""
             }
            },
            "type": "scatterpolar"
           }
          ],
          "scatterpolargl": [
           {
            "marker": {
             "colorbar": {
              "outlinewidth": 0,
              "ticks": ""
             }
            },
            "type": "scatterpolargl"
           }
          ],
          "scatterternary": [
           {
            "marker": {
             "colorbar": {
              "outlinewidth": 0,
              "ticks": ""
             }
            },
            "type": "scatterternary"
           }
          ],
          "surface": [
           {
            "colorbar": {
             "outlinewidth": 0,
             "ticks": ""
            },
            "colorscale": [
             [
              0,
              "#0d0887"
             ],
             [
              0.1111111111111111,
              "#46039f"
             ],
             [
              0.2222222222222222,
              "#7201a8"
             ],
             [
              0.3333333333333333,
              "#9c179e"
             ],
             [
              0.4444444444444444,
              "#bd3786"
             ],
             [
              0.5555555555555556,
              "#d8576b"
             ],
             [
              0.6666666666666666,
              "#ed7953"
             ],
             [
              0.7777777777777778,
              "#fb9f3a"
             ],
             [
              0.8888888888888888,
              "#fdca26"
             ],
             [
              1,
              "#f0f921"
             ]
            ],
            "type": "surface"
           }
          ],
          "table": [
           {
            "cells": {
             "fill": {
              "color": "#EBF0F8"
             },
             "line": {
              "color": "white"
             }
            },
            "header": {
             "fill": {
              "color": "#C8D4E3"
             },
             "line": {
              "color": "white"
             }
            },
            "type": "table"
           }
          ]
         },
         "layout": {
          "annotationdefaults": {
           "arrowcolor": "#2a3f5f",
           "arrowhead": 0,
           "arrowwidth": 1
          },
          "autotypenumbers": "strict",
          "coloraxis": {
           "colorbar": {
            "outlinewidth": 0,
            "ticks": ""
           }
          },
          "colorscale": {
           "diverging": [
            [
             0,
             "#8e0152"
            ],
            [
             0.1,
             "#c51b7d"
            ],
            [
             0.2,
             "#de77ae"
            ],
            [
             0.3,
             "#f1b6da"
            ],
            [
             0.4,
             "#fde0ef"
            ],
            [
             0.5,
             "#f7f7f7"
            ],
            [
             0.6,
             "#e6f5d0"
            ],
            [
             0.7,
             "#b8e186"
            ],
            [
             0.8,
             "#7fbc41"
            ],
            [
             0.9,
             "#4d9221"
            ],
            [
             1,
             "#276419"
            ]
           ],
           "sequential": [
            [
             0,
             "#0d0887"
            ],
            [
             0.1111111111111111,
             "#46039f"
            ],
            [
             0.2222222222222222,
             "#7201a8"
            ],
            [
             0.3333333333333333,
             "#9c179e"
            ],
            [
             0.4444444444444444,
             "#bd3786"
            ],
            [
             0.5555555555555556,
             "#d8576b"
            ],
            [
             0.6666666666666666,
             "#ed7953"
            ],
            [
             0.7777777777777778,
             "#fb9f3a"
            ],
            [
             0.8888888888888888,
             "#fdca26"
            ],
            [
             1,
             "#f0f921"
            ]
           ],
           "sequentialminus": [
            [
             0,
             "#0d0887"
            ],
            [
             0.1111111111111111,
             "#46039f"
            ],
            [
             0.2222222222222222,
             "#7201a8"
            ],
            [
             0.3333333333333333,
             "#9c179e"
            ],
            [
             0.4444444444444444,
             "#bd3786"
            ],
            [
             0.5555555555555556,
             "#d8576b"
            ],
            [
             0.6666666666666666,
             "#ed7953"
            ],
            [
             0.7777777777777778,
             "#fb9f3a"
            ],
            [
             0.8888888888888888,
             "#fdca26"
            ],
            [
             1,
             "#f0f921"
            ]
           ]
          },
          "colorway": [
           "#636efa",
           "#EF553B",
           "#00cc96",
           "#ab63fa",
           "#FFA15A",
           "#19d3f3",
           "#FF6692",
           "#B6E880",
           "#FF97FF",
           "#FECB52"
          ],
          "font": {
           "color": "#2a3f5f"
          },
          "geo": {
           "bgcolor": "white",
           "lakecolor": "white",
           "landcolor": "#E5ECF6",
           "showlakes": true,
           "showland": true,
           "subunitcolor": "white"
          },
          "hoverlabel": {
           "align": "left"
          },
          "hovermode": "closest",
          "mapbox": {
           "style": "light"
          },
          "paper_bgcolor": "white",
          "plot_bgcolor": "#E5ECF6",
          "polar": {
           "angularaxis": {
            "gridcolor": "white",
            "linecolor": "white",
            "ticks": ""
           },
           "bgcolor": "#E5ECF6",
           "radialaxis": {
            "gridcolor": "white",
            "linecolor": "white",
            "ticks": ""
           }
          },
          "scene": {
           "xaxis": {
            "backgroundcolor": "#E5ECF6",
            "gridcolor": "white",
            "gridwidth": 2,
            "linecolor": "white",
            "showbackground": true,
            "ticks": "",
            "zerolinecolor": "white"
           },
           "yaxis": {
            "backgroundcolor": "#E5ECF6",
            "gridcolor": "white",
            "gridwidth": 2,
            "linecolor": "white",
            "showbackground": true,
            "ticks": "",
            "zerolinecolor": "white"
           },
           "zaxis": {
            "backgroundcolor": "#E5ECF6",
            "gridcolor": "white",
            "gridwidth": 2,
            "linecolor": "white",
            "showbackground": true,
            "ticks": "",
            "zerolinecolor": "white"
           }
          },
          "shapedefaults": {
           "line": {
            "color": "#2a3f5f"
           }
          },
          "ternary": {
           "aaxis": {
            "gridcolor": "white",
            "linecolor": "white",
            "ticks": ""
           },
           "baxis": {
            "gridcolor": "white",
            "linecolor": "white",
            "ticks": ""
           },
           "bgcolor": "#E5ECF6",
           "caxis": {
            "gridcolor": "white",
            "linecolor": "white",
            "ticks": ""
           }
          },
          "title": {
           "x": 0.05
          },
          "xaxis": {
           "automargin": true,
           "gridcolor": "white",
           "linecolor": "white",
           "ticks": "",
           "title": {
            "standoff": 15
           },
           "zerolinecolor": "white",
           "zerolinewidth": 2
          },
          "yaxis": {
           "automargin": true,
           "gridcolor": "white",
           "linecolor": "white",
           "ticks": "",
           "title": {
            "standoff": 15
           },
           "zerolinecolor": "white",
           "zerolinewidth": 2
          }
         }
        },
        "title": {
         "text": "F1 Score for Variant Detection"
        },
        "xaxis": {
         "anchor": "y",
         "categoryarray": [
          false,
          true
         ],
         "categoryorder": "array",
         "domain": [
          0,
          1
         ],
         "title": {
          "text": "Filtered"
         }
        },
        "yaxis": {
         "anchor": "x",
         "domain": [
          0,
          1
         ],
         "title": {
          "text": "F1 Score"
         }
        }
       }
      }
     },
     "metadata": {},
     "output_type": "display_data"
    }
   ],
   "source": [
    "# Plotting F1 metrics\n",
    "fig = px.scatter(df, x='Filtered', y='F1_Score', title='F1 Score for Variant Detection',\n",
    "             labels={'F1_Score': 'F1 Score', 'Filtered': 'Filtered'},\n",
    "             color='Filtered')\n",
    "\n",
    "fig.show()"
   ]
  },
  {
   "cell_type": "code",
   "execution_count": 62,
   "metadata": {},
   "outputs": [],
   "source": [
    "# Plotting for each sample on the same plot\n",
    "# for sample_id in df['Sample_ID'].unique():\n",
    "#     sample_df = df[df['Sample_ID'] == sample_id]\n",
    "\n",
    "#     # Plotting number and percentage of shared variants on the same plot\n",
    "#     fig1 = px.bar(sample_df, x='Filtered', y='Shared_Variants',\n",
    "#                  title=f'Number and Percentage of Shared Variants for {sample_id}',\n",
    "#                  labels={'value': 'Count', 'variable': 'Metric', 'Filtered': 'Filtered'},\n",
    "#                  color='Filtered') #'Shared_Percentage'\n",
    "#     fig2 = px.bar(sample_df, x='Filtered', y='Shared_Percentage',\n",
    "#                  title=f'Number and Percentage of Shared Variants for {sample_id}',\n",
    "#                  labels={'value': 'Count', 'variable': 'Metric', 'Filtered': 'Filtered'},\n",
    "#                  color='Filtered')\n",
    "\n",
    "#     fig1.show()\n",
    "#     fig2.show()"
   ]
  },
  {
   "cell_type": "code",
   "execution_count": 63,
   "metadata": {},
   "outputs": [],
   "source": [
    "# # Plotting for each sample on the same plot\n",
    "# for sample_id in df['Sample_ID'].unique():\n",
    "#     sample_df = df[df['Sample_ID'] == sample_id]\n",
    "\n",
    "#     # Plotting number and percentage of shared variants on the same plot\n",
    "#     fig = px.bar(sample_df, x='Filtered', y=['Shared_Percentage'],\n",
    "#                  title=f'Percentage of Shared Variants for {sample_id}',\n",
    "#                  labels={'value': 'Count', 'variable': 'Metric', 'Filtered': 'Filtered'},\n",
    "#                  color='Filtered', barmode='group')\n",
    "\n",
    "#     fig.show()\n",
    "\n",
    "#     # Plotting F1 Score for each Filtered\n",
    "#     fig_f1_score = px.bar(sample_df, x='Filtered', y='F1_Score',\n",
    "#                           title=f'F1 Score for {sample_id}',\n",
    "#                           labels={'F1_Score': 'F1 Score', 'Filtered': 'Filtered'},\n",
    "#                           color='Filtered')\n",
    "\n",
    "#     fig_f1_score.show()"
   ]
  },
  {
   "cell_type": "code",
   "execution_count": 76,
   "metadata": {},
   "outputs": [
    {
     "name": "stdout",
     "output_type": "stream",
     "text": [
      "      Filter_Type  Filtered Sample_ID  Shared_Percentage  Shared_Variants  \\\n",
      "7             Raw     False   HG00268         100.000000                9   \n",
      "8   Comprehensive      True   HG00268          44.444444                4   \n",
      "9          ASSESS      True   HG00268          55.555556                5   \n",
      "10           PASS      True   HG00268          66.666667                6   \n",
      "11         STRICT      True   HG00268          44.444444                4   \n",
      "12             SD      True   HG00268          66.666667                6   \n",
      "13   Ultra Strict      True   HG00268           0.000000                0   \n",
      "\n",
      "                                  Shared_Variants_VCF  Tool  \\\n",
      "7   [('1 162610688 L1_umary_LINE1_149', \"T ['<INS:...  MELT   \n",
      "8   [('1 208762813 ALU_umary_ALU_760', \"G ['<INS:M...  MELT   \n",
      "9   [('1 208762813 ALU_umary_ALU_760', \"G ['<INS:M...  MELT   \n",
      "10  [('1 162610688 L1_umary_LINE1_149', \"T ['<INS:...  MELT   \n",
      "11  [('1 208762813 ALU_umary_ALU_760', \"G ['<INS:M...  MELT   \n",
      "12  [('1 162610688 L1_umary_LINE1_149', \"T ['<INS:...  MELT   \n",
      "13                                                 []  MELT   \n",
      "\n",
      "    test_vcf_variants  truth_total_variants  True_Positives  False_Positives  \\\n",
      "7               16672                     9               9            16663   \n",
      "8                 962                     9               4              958   \n",
      "9                6911                     9               5             6906   \n",
      "10               1049                     9               6             1043   \n",
      "11                962                     9               4              958   \n",
      "12               1060                     9               6             1054   \n",
      "13                  0                     9               0                0   \n",
      "\n",
      "    False_Negatives  Total_variants  Precision    Recall  F1_Score  Accuracy  \n",
      "7                 0           16672   0.000540  1.000000  0.001079  1.000000  \n",
      "8                 5             962   0.004158  0.444444  0.008239  0.444444  \n",
      "9                 4            6911   0.000723  0.555556  0.001445  0.555556  \n",
      "10                3            1049   0.005720  0.666667  0.011342  0.666667  \n",
      "11                5             962   0.004158  0.444444  0.008239  0.444444  \n",
      "12                3            1060   0.005660  0.666667  0.011225  0.666667  \n",
      "13                9               0        NaN  0.000000       NaN  0.000000  \n"
     ]
    }
   ],
   "source": [
    "#Investigating HG00268\n",
    "sample_df_HG00268 = df[df['Sample_ID'] == \"HG00268\"]\n",
    "pprint.pprint(sample_df_HG00268, width=1)"
   ]
  },
  {
   "cell_type": "markdown",
   "metadata": {},
   "source": [
    "MULTIPLE FILTERS on MELT"
   ]
  },
  {
   "cell_type": "code",
   "execution_count": 77,
   "metadata": {},
   "outputs": [
    {
     "name": "stdout",
     "output_type": "stream",
     "text": [
      "     Filter_Type  Filtered Sample_ID  Shared_Percentage  Shared_Variants  \\\n",
      "0            Raw     False   HG00096         100.000000                3   \n",
      "1  Comprehensive      True   HG00096           0.000000                0   \n",
      "2         ASSESS      True   HG00096          33.333333                1   \n",
      "3           PASS      True   HG00096           0.000000                0   \n",
      "4         STRICT      True   HG00096           0.000000                0   \n",
      "\n",
      "                                 Shared_Variants_VCF  Tool  test_vcf_variants  \\\n",
      "0  [('6 164161734 ALU_umary_ALU_5748', \"A ['<INS:...  MELT              16632   \n",
      "1                                                 []  MELT                260   \n",
      "2  [('19 17752494 ALU_umary_ALU_11888', \"T ['<INS...  MELT               6909   \n",
      "3                                                 []  MELT                281   \n",
      "4                                                 []  MELT                260   \n",
      "\n",
      "   truth_total_variants  \n",
      "0                     3  \n",
      "1                     3  \n",
      "2                     3  \n",
      "3                     3  \n",
      "4                     3  \n",
      "      Filtered Sample_ID     Metric     Score\n",
      "2156     False   HG00096  Precision   0.00018\n",
      "2157      True   HG00096  Precision       0.0\n",
      "2158      True   HG00096  Precision  0.000145\n",
      "2159      True   HG00096  Precision       0.0\n",
      "2160      True   HG00096  Precision       0.0\n",
      "...        ...       ...        ...       ...\n",
      "2935      True   NA19240   Accuracy  0.769231\n",
      "2936      True   NA19240   Accuracy  0.076923\n",
      "2937      True   NA19240   Accuracy  0.076923\n",
      "2938      True   NA19240   Accuracy  0.076923\n",
      "2939      True   NA19240   Accuracy       0.0\n",
      "\n",
      "[588 rows x 4 columns]\n",
      "Empty DataFrame\n",
      "Columns: [Filter_Type, Filtered, Sample_ID, Shared_Percentage, Shared_Variants, Shared_Variants_VCF, Tool, test_vcf_variants, truth_total_variants, True_Positives, False_Positives, False_Negatives, Total_variants, Precision, Recall, F1_Score, Accuracy]\n",
      "Index: []\n"
     ]
    }
   ],
   "source": [
    "# Read data from the TSV file\n",
    "file_path = 'results_multi_filters_2024-03-11.csv'\n",
    "\n",
    "df_multi = pd.read_csv(file_path, sep=',')\n",
    "print(df_multi.head())\n",
    "# df['test_vcf_variants'] = total number of variants in the test VCF file\n",
    "# Calculate F1 detection, precision, and accuracy using test_vcf_variants and truth_total_variants\n",
    "df_multi['True_Positives'] = df_multi['Shared_Variants']\n",
    "df_multi['False_Positives'] = df_multi['test_vcf_variants'] - df_multi['True_Positives']\n",
    "df_multi['False_Negatives'] = df_multi['truth_total_variants'] - df_multi['True_Positives']\n",
    "df_multi['Total_variants'] = df_multi['test_vcf_variants']\n",
    "\n",
    "df_multi['Precision'] = df_multi['True_Positives'] / (df_multi['True_Positives'] + df_multi['False_Positives'])\n",
    "df_multi['Recall'] = df_multi['True_Positives'] / (df_multi['True_Positives'] + df_multi['False_Negatives'])\n",
    "df_multi['F1_Score'] = 2 * (df_multi['Precision'] * df_multi['Recall']) / (df_multi['Precision'] + df_multi['Recall'])\n",
    "df_multi['Accuracy'] = df_multi['True_Positives'] / df_multi['truth_total_variants']\n",
    "\n",
    "# Plotting\n",
    "df_multi_melted = df.melt(id_vars=['Filtered', 'Sample_ID'], var_name='Metric', value_name='Score')\n",
    "df_multi_melted = df_multi_melted[df_multi_melted['Metric'].isin(['F1_Score', 'Precision', 'Accuracy'])]\n",
    "print(df_multi_melted)\n",
    "# print ultra strict\n",
    "df_ultra_strict = df_multi[df_multi['Filtered'] == 'ultra_strict']\n",
    "print(df_ultra_strict) # ultra strict has virtually no shared variants."
   ]
  },
  {
   "cell_type": "code",
   "execution_count": 66,
   "metadata": {},
   "outputs": [
    {
     "name": "stdout",
     "output_type": "stream",
     "text": [
      "5.18.0 0.2.1\n"
     ]
    },
    {
     "data": {
      "application/vnd.plotly.v1+json": {
       "config": {
        "plotlyServerURL": "https://plot.ly"
       },
       "data": [
        {
         "alignmentgroup": "True",
         "hovertemplate": "Filter Type=%{x}<br>Average Total Variants=%{y}<extra></extra>",
         "legendgroup": "Raw",
         "marker": {
          "color": "#377eb8",
          "pattern": {
           "shape": ""
          }
         },
         "name": "Raw",
         "offsetgroup": "Raw",
         "orientation": "v",
         "showlegend": true,
         "textposition": "auto",
         "type": "bar",
         "x": [
          "Raw"
         ],
         "xaxis": "x",
         "y": [
          16634.64285714286
         ],
         "yaxis": "y"
        },
        {
         "alignmentgroup": "True",
         "hovertemplate": "Filter Type=%{x}<br>Average Total Variants=%{y}<extra></extra>",
         "legendgroup": "ASSESS",
         "marker": {
          "color": "#ff7f00",
          "pattern": {
           "shape": ""
          }
         },
         "name": "ASSESS",
         "offsetgroup": "ASSESS",
         "orientation": "v",
         "showlegend": true,
         "textposition": "auto",
         "type": "bar",
         "x": [
          "ASSESS"
         ],
         "xaxis": "x",
         "y": [
          6892.857142857143
         ],
         "yaxis": "y"
        },
        {
         "alignmentgroup": "True",
         "hovertemplate": "Filter Type=%{x}<br>Average Total Variants=%{y}<extra></extra>",
         "legendgroup": "PASS",
         "marker": {
          "color": "#4daf4a",
          "pattern": {
           "shape": ""
          }
         },
         "name": "PASS",
         "offsetgroup": "PASS",
         "orientation": "v",
         "showlegend": true,
         "textposition": "auto",
         "type": "bar",
         "x": [
          "PASS"
         ],
         "xaxis": "x",
         "y": [
          927.75
         ],
         "yaxis": "y"
        },
        {
         "alignmentgroup": "True",
         "hovertemplate": "Filter Type=%{x}<br>Average Total Variants=%{y}<extra></extra>",
         "legendgroup": "STRICT",
         "marker": {
          "color": "#f781bf",
          "pattern": {
           "shape": ""
          }
         },
         "name": "STRICT",
         "offsetgroup": "STRICT",
         "orientation": "v",
         "showlegend": true,
         "textposition": "auto",
         "type": "bar",
         "x": [
          "STRICT"
         ],
         "xaxis": "x",
         "y": [
          844.3571428571429
         ],
         "yaxis": "y"
        },
        {
         "alignmentgroup": "True",
         "hovertemplate": "Filter Type=%{x}<br>Average Total Variants=%{y}<extra></extra>",
         "legendgroup": "Comprehensive",
         "marker": {
          "color": "#a65628",
          "pattern": {
           "shape": ""
          }
         },
         "name": "Comprehensive",
         "offsetgroup": "Comprehensive",
         "orientation": "v",
         "showlegend": true,
         "textposition": "auto",
         "type": "bar",
         "x": [
          "Comprehensive"
         ],
         "xaxis": "x",
         "y": [
          844.3571428571429
         ],
         "yaxis": "y"
        },
        {
         "alignmentgroup": "True",
         "hovertemplate": "Filter Type=%{x}<br>Average Total Variants=%{y}<extra></extra>",
         "legendgroup": "Ultra Strict",
         "marker": {
          "color": "#984ea3",
          "pattern": {
           "shape": ""
          }
         },
         "name": "Ultra Strict",
         "offsetgroup": "Ultra Strict",
         "orientation": "v",
         "showlegend": true,
         "textposition": "auto",
         "type": "bar",
         "x": [
          "Ultra Strict"
         ],
         "xaxis": "x",
         "y": [
          0
         ],
         "yaxis": "y"
        },
        {
         "alignmentgroup": "True",
         "hovertemplate": "Filter Type=%{x}<br>Average Total Variants=%{y}<extra></extra>",
         "legendgroup": "SD",
         "marker": {
          "color": "#FF6692",
          "pattern": {
           "shape": ""
          }
         },
         "name": "SD",
         "offsetgroup": "SD",
         "orientation": "v",
         "showlegend": true,
         "textposition": "auto",
         "type": "bar",
         "x": [
          "SD"
         ],
         "xaxis": "x",
         "y": [
          946.5
         ],
         "yaxis": "y"
        }
       ],
       "layout": {
        "barmode": "relative",
        "legend": {
         "title": {
          "text": "Filter Type"
         },
         "tracegroupgap": 0
        },
        "template": {
         "data": {
          "bar": [
           {
            "error_x": {
             "color": "#2a3f5f"
            },
            "error_y": {
             "color": "#2a3f5f"
            },
            "marker": {
             "line": {
              "color": "#E5ECF6",
              "width": 0.5
             },
             "pattern": {
              "fillmode": "overlay",
              "size": 10,
              "solidity": 0.2
             }
            },
            "type": "bar"
           }
          ],
          "barpolar": [
           {
            "marker": {
             "line": {
              "color": "#E5ECF6",
              "width": 0.5
             },
             "pattern": {
              "fillmode": "overlay",
              "size": 10,
              "solidity": 0.2
             }
            },
            "type": "barpolar"
           }
          ],
          "carpet": [
           {
            "aaxis": {
             "endlinecolor": "#2a3f5f",
             "gridcolor": "white",
             "linecolor": "white",
             "minorgridcolor": "white",
             "startlinecolor": "#2a3f5f"
            },
            "baxis": {
             "endlinecolor": "#2a3f5f",
             "gridcolor": "white",
             "linecolor": "white",
             "minorgridcolor": "white",
             "startlinecolor": "#2a3f5f"
            },
            "type": "carpet"
           }
          ],
          "choropleth": [
           {
            "colorbar": {
             "outlinewidth": 0,
             "ticks": ""
            },
            "type": "choropleth"
           }
          ],
          "contour": [
           {
            "colorbar": {
             "outlinewidth": 0,
             "ticks": ""
            },
            "colorscale": [
             [
              0,
              "#0d0887"
             ],
             [
              0.1111111111111111,
              "#46039f"
             ],
             [
              0.2222222222222222,
              "#7201a8"
             ],
             [
              0.3333333333333333,
              "#9c179e"
             ],
             [
              0.4444444444444444,
              "#bd3786"
             ],
             [
              0.5555555555555556,
              "#d8576b"
             ],
             [
              0.6666666666666666,
              "#ed7953"
             ],
             [
              0.7777777777777778,
              "#fb9f3a"
             ],
             [
              0.8888888888888888,
              "#fdca26"
             ],
             [
              1,
              "#f0f921"
             ]
            ],
            "type": "contour"
           }
          ],
          "contourcarpet": [
           {
            "colorbar": {
             "outlinewidth": 0,
             "ticks": ""
            },
            "type": "contourcarpet"
           }
          ],
          "heatmap": [
           {
            "colorbar": {
             "outlinewidth": 0,
             "ticks": ""
            },
            "colorscale": [
             [
              0,
              "#0d0887"
             ],
             [
              0.1111111111111111,
              "#46039f"
             ],
             [
              0.2222222222222222,
              "#7201a8"
             ],
             [
              0.3333333333333333,
              "#9c179e"
             ],
             [
              0.4444444444444444,
              "#bd3786"
             ],
             [
              0.5555555555555556,
              "#d8576b"
             ],
             [
              0.6666666666666666,
              "#ed7953"
             ],
             [
              0.7777777777777778,
              "#fb9f3a"
             ],
             [
              0.8888888888888888,
              "#fdca26"
             ],
             [
              1,
              "#f0f921"
             ]
            ],
            "type": "heatmap"
           }
          ],
          "heatmapgl": [
           {
            "colorbar": {
             "outlinewidth": 0,
             "ticks": ""
            },
            "colorscale": [
             [
              0,
              "#0d0887"
             ],
             [
              0.1111111111111111,
              "#46039f"
             ],
             [
              0.2222222222222222,
              "#7201a8"
             ],
             [
              0.3333333333333333,
              "#9c179e"
             ],
             [
              0.4444444444444444,
              "#bd3786"
             ],
             [
              0.5555555555555556,
              "#d8576b"
             ],
             [
              0.6666666666666666,
              "#ed7953"
             ],
             [
              0.7777777777777778,
              "#fb9f3a"
             ],
             [
              0.8888888888888888,
              "#fdca26"
             ],
             [
              1,
              "#f0f921"
             ]
            ],
            "type": "heatmapgl"
           }
          ],
          "histogram": [
           {
            "marker": {
             "pattern": {
              "fillmode": "overlay",
              "size": 10,
              "solidity": 0.2
             }
            },
            "type": "histogram"
           }
          ],
          "histogram2d": [
           {
            "colorbar": {
             "outlinewidth": 0,
             "ticks": ""
            },
            "colorscale": [
             [
              0,
              "#0d0887"
             ],
             [
              0.1111111111111111,
              "#46039f"
             ],
             [
              0.2222222222222222,
              "#7201a8"
             ],
             [
              0.3333333333333333,
              "#9c179e"
             ],
             [
              0.4444444444444444,
              "#bd3786"
             ],
             [
              0.5555555555555556,
              "#d8576b"
             ],
             [
              0.6666666666666666,
              "#ed7953"
             ],
             [
              0.7777777777777778,
              "#fb9f3a"
             ],
             [
              0.8888888888888888,
              "#fdca26"
             ],
             [
              1,
              "#f0f921"
             ]
            ],
            "type": "histogram2d"
           }
          ],
          "histogram2dcontour": [
           {
            "colorbar": {
             "outlinewidth": 0,
             "ticks": ""
            },
            "colorscale": [
             [
              0,
              "#0d0887"
             ],
             [
              0.1111111111111111,
              "#46039f"
             ],
             [
              0.2222222222222222,
              "#7201a8"
             ],
             [
              0.3333333333333333,
              "#9c179e"
             ],
             [
              0.4444444444444444,
              "#bd3786"
             ],
             [
              0.5555555555555556,
              "#d8576b"
             ],
             [
              0.6666666666666666,
              "#ed7953"
             ],
             [
              0.7777777777777778,
              "#fb9f3a"
             ],
             [
              0.8888888888888888,
              "#fdca26"
             ],
             [
              1,
              "#f0f921"
             ]
            ],
            "type": "histogram2dcontour"
           }
          ],
          "mesh3d": [
           {
            "colorbar": {
             "outlinewidth": 0,
             "ticks": ""
            },
            "type": "mesh3d"
           }
          ],
          "parcoords": [
           {
            "line": {
             "colorbar": {
              "outlinewidth": 0,
              "ticks": ""
             }
            },
            "type": "parcoords"
           }
          ],
          "pie": [
           {
            "automargin": true,
            "type": "pie"
           }
          ],
          "scatter": [
           {
            "fillpattern": {
             "fillmode": "overlay",
             "size": 10,
             "solidity": 0.2
            },
            "type": "scatter"
           }
          ],
          "scatter3d": [
           {
            "line": {
             "colorbar": {
              "outlinewidth": 0,
              "ticks": ""
             }
            },
            "marker": {
             "colorbar": {
              "outlinewidth": 0,
              "ticks": ""
             }
            },
            "type": "scatter3d"
           }
          ],
          "scattercarpet": [
           {
            "marker": {
             "colorbar": {
              "outlinewidth": 0,
              "ticks": ""
             }
            },
            "type": "scattercarpet"
           }
          ],
          "scattergeo": [
           {
            "marker": {
             "colorbar": {
              "outlinewidth": 0,
              "ticks": ""
             }
            },
            "type": "scattergeo"
           }
          ],
          "scattergl": [
           {
            "marker": {
             "colorbar": {
              "outlinewidth": 0,
              "ticks": ""
             }
            },
            "type": "scattergl"
           }
          ],
          "scattermapbox": [
           {
            "marker": {
             "colorbar": {
              "outlinewidth": 0,
              "ticks": ""
             }
            },
            "type": "scattermapbox"
           }
          ],
          "scatterpolar": [
           {
            "marker": {
             "colorbar": {
              "outlinewidth": 0,
              "ticks": ""
             }
            },
            "type": "scatterpolar"
           }
          ],
          "scatterpolargl": [
           {
            "marker": {
             "colorbar": {
              "outlinewidth": 0,
              "ticks": ""
             }
            },
            "type": "scatterpolargl"
           }
          ],
          "scatterternary": [
           {
            "marker": {
             "colorbar": {
              "outlinewidth": 0,
              "ticks": ""
             }
            },
            "type": "scatterternary"
           }
          ],
          "surface": [
           {
            "colorbar": {
             "outlinewidth": 0,
             "ticks": ""
            },
            "colorscale": [
             [
              0,
              "#0d0887"
             ],
             [
              0.1111111111111111,
              "#46039f"
             ],
             [
              0.2222222222222222,
              "#7201a8"
             ],
             [
              0.3333333333333333,
              "#9c179e"
             ],
             [
              0.4444444444444444,
              "#bd3786"
             ],
             [
              0.5555555555555556,
              "#d8576b"
             ],
             [
              0.6666666666666666,
              "#ed7953"
             ],
             [
              0.7777777777777778,
              "#fb9f3a"
             ],
             [
              0.8888888888888888,
              "#fdca26"
             ],
             [
              1,
              "#f0f921"
             ]
            ],
            "type": "surface"
           }
          ],
          "table": [
           {
            "cells": {
             "fill": {
              "color": "#EBF0F8"
             },
             "line": {
              "color": "white"
             }
            },
            "header": {
             "fill": {
              "color": "#C8D4E3"
             },
             "line": {
              "color": "white"
             }
            },
            "type": "table"
           }
          ]
         },
         "layout": {
          "annotationdefaults": {
           "arrowcolor": "#2a3f5f",
           "arrowhead": 0,
           "arrowwidth": 1
          },
          "autotypenumbers": "strict",
          "coloraxis": {
           "colorbar": {
            "outlinewidth": 0,
            "ticks": ""
           }
          },
          "colorscale": {
           "diverging": [
            [
             0,
             "#8e0152"
            ],
            [
             0.1,
             "#c51b7d"
            ],
            [
             0.2,
             "#de77ae"
            ],
            [
             0.3,
             "#f1b6da"
            ],
            [
             0.4,
             "#fde0ef"
            ],
            [
             0.5,
             "#f7f7f7"
            ],
            [
             0.6,
             "#e6f5d0"
            ],
            [
             0.7,
             "#b8e186"
            ],
            [
             0.8,
             "#7fbc41"
            ],
            [
             0.9,
             "#4d9221"
            ],
            [
             1,
             "#276419"
            ]
           ],
           "sequential": [
            [
             0,
             "#0d0887"
            ],
            [
             0.1111111111111111,
             "#46039f"
            ],
            [
             0.2222222222222222,
             "#7201a8"
            ],
            [
             0.3333333333333333,
             "#9c179e"
            ],
            [
             0.4444444444444444,
             "#bd3786"
            ],
            [
             0.5555555555555556,
             "#d8576b"
            ],
            [
             0.6666666666666666,
             "#ed7953"
            ],
            [
             0.7777777777777778,
             "#fb9f3a"
            ],
            [
             0.8888888888888888,
             "#fdca26"
            ],
            [
             1,
             "#f0f921"
            ]
           ],
           "sequentialminus": [
            [
             0,
             "#0d0887"
            ],
            [
             0.1111111111111111,
             "#46039f"
            ],
            [
             0.2222222222222222,
             "#7201a8"
            ],
            [
             0.3333333333333333,
             "#9c179e"
            ],
            [
             0.4444444444444444,
             "#bd3786"
            ],
            [
             0.5555555555555556,
             "#d8576b"
            ],
            [
             0.6666666666666666,
             "#ed7953"
            ],
            [
             0.7777777777777778,
             "#fb9f3a"
            ],
            [
             0.8888888888888888,
             "#fdca26"
            ],
            [
             1,
             "#f0f921"
            ]
           ]
          },
          "colorway": [
           "#636efa",
           "#EF553B",
           "#00cc96",
           "#ab63fa",
           "#FFA15A",
           "#19d3f3",
           "#FF6692",
           "#B6E880",
           "#FF97FF",
           "#FECB52"
          ],
          "font": {
           "color": "#2a3f5f"
          },
          "geo": {
           "bgcolor": "white",
           "lakecolor": "white",
           "landcolor": "#E5ECF6",
           "showlakes": true,
           "showland": true,
           "subunitcolor": "white"
          },
          "hoverlabel": {
           "align": "left"
          },
          "hovermode": "closest",
          "mapbox": {
           "style": "light"
          },
          "paper_bgcolor": "white",
          "plot_bgcolor": "#E5ECF6",
          "polar": {
           "angularaxis": {
            "gridcolor": "white",
            "linecolor": "white",
            "ticks": ""
           },
           "bgcolor": "#E5ECF6",
           "radialaxis": {
            "gridcolor": "white",
            "linecolor": "white",
            "ticks": ""
           }
          },
          "scene": {
           "xaxis": {
            "backgroundcolor": "#E5ECF6",
            "gridcolor": "white",
            "gridwidth": 2,
            "linecolor": "white",
            "showbackground": true,
            "ticks": "",
            "zerolinecolor": "white"
           },
           "yaxis": {
            "backgroundcolor": "#E5ECF6",
            "gridcolor": "white",
            "gridwidth": 2,
            "linecolor": "white",
            "showbackground": true,
            "ticks": "",
            "zerolinecolor": "white"
           },
           "zaxis": {
            "backgroundcolor": "#E5ECF6",
            "gridcolor": "white",
            "gridwidth": 2,
            "linecolor": "white",
            "showbackground": true,
            "ticks": "",
            "zerolinecolor": "white"
           }
          },
          "shapedefaults": {
           "line": {
            "color": "#2a3f5f"
           }
          },
          "ternary": {
           "aaxis": {
            "gridcolor": "white",
            "linecolor": "white",
            "ticks": ""
           },
           "baxis": {
            "gridcolor": "white",
            "linecolor": "white",
            "ticks": ""
           },
           "bgcolor": "#E5ECF6",
           "caxis": {
            "gridcolor": "white",
            "linecolor": "white",
            "ticks": ""
           }
          },
          "title": {
           "x": 0.05
          },
          "xaxis": {
           "automargin": true,
           "gridcolor": "white",
           "linecolor": "white",
           "ticks": "",
           "title": {
            "standoff": 15
           },
           "zerolinecolor": "white",
           "zerolinewidth": 2
          },
          "yaxis": {
           "automargin": true,
           "gridcolor": "white",
           "linecolor": "white",
           "ticks": "",
           "title": {
            "standoff": 15
           },
           "zerolinecolor": "white",
           "zerolinewidth": 2
          }
         }
        },
        "title": {
         "text": "Average total variants for Each Filter"
        },
        "xaxis": {
         "anchor": "y",
         "categoryarray": [
          "Raw",
          "ASSESS",
          "PASS",
          "STRICT",
          "Comprehensive",
          "Ultra Strict",
          "SD"
         ],
         "categoryorder": "array",
         "domain": [
          0,
          1
         ],
         "title": {
          "text": "Filter Type"
         }
        },
        "yaxis": {
         "anchor": "x",
         "domain": [
          0,
          1
         ],
         "title": {
          "text": "Average Total Variants"
         }
        }
       }
      }
     },
     "metadata": {},
     "output_type": "display_data"
    },
    {
     "data": {
      "application/vnd.plotly.v1+json": {
       "config": {
        "plotlyServerURL": "https://plot.ly"
       },
       "data": [
        {
         "alignmentgroup": "True",
         "hovertemplate": "Filter Type=%{x}<br>Average Percentage of Postive MEIs found=%{y}<extra></extra>",
         "legendgroup": "Raw",
         "marker": {
          "color": "#377eb8",
          "pattern": {
           "shape": ""
          }
         },
         "name": "Raw",
         "offsetgroup": "Raw",
         "orientation": "v",
         "showlegend": true,
         "textposition": "auto",
         "type": "bar",
         "x": [
          "Raw"
         ],
         "xaxis": "x",
         "y": [
          99.12587412587413
         ],
         "yaxis": "y"
        },
        {
         "alignmentgroup": "True",
         "hovertemplate": "Filter Type=%{x}<br>Average Percentage of Postive MEIs found=%{y}<extra></extra>",
         "legendgroup": "ASSESS",
         "marker": {
          "color": "#ff7f00",
          "pattern": {
           "shape": ""
          }
         },
         "name": "ASSESS",
         "offsetgroup": "ASSESS",
         "orientation": "v",
         "showlegend": true,
         "textposition": "auto",
         "type": "bar",
         "x": [
          "ASSESS"
         ],
         "xaxis": "x",
         "y": [
          54.87469871398442
         ],
         "yaxis": "y"
        },
        {
         "alignmentgroup": "True",
         "hovertemplate": "Filter Type=%{x}<br>Average Percentage of Postive MEIs found=%{y}<extra></extra>",
         "legendgroup": "PASS",
         "marker": {
          "color": "#4daf4a",
          "pattern": {
           "shape": ""
          }
         },
         "name": "PASS",
         "offsetgroup": "PASS",
         "orientation": "v",
         "showlegend": true,
         "textposition": "auto",
         "type": "bar",
         "x": [
          "PASS"
         ],
         "xaxis": "x",
         "y": [
          51.48006363936815
         ],
         "yaxis": "y"
        },
        {
         "alignmentgroup": "True",
         "hovertemplate": "Filter Type=%{x}<br>Average Percentage of Postive MEIs found=%{y}<extra></extra>",
         "legendgroup": "STRICT",
         "marker": {
          "color": "#f781bf",
          "pattern": {
           "shape": ""
          }
         },
         "name": "STRICT",
         "offsetgroup": "STRICT",
         "orientation": "v",
         "showlegend": true,
         "textposition": "auto",
         "type": "bar",
         "x": [
          "STRICT"
         ],
         "xaxis": "x",
         "y": [
          38.23656632632196
         ],
         "yaxis": "y"
        },
        {
         "alignmentgroup": "True",
         "hovertemplate": "Filter Type=%{x}<br>Average Percentage of Postive MEIs found=%{y}<extra></extra>",
         "legendgroup": "Comprehensive",
         "marker": {
          "color": "#a65628",
          "pattern": {
           "shape": ""
          }
         },
         "name": "Comprehensive",
         "offsetgroup": "Comprehensive",
         "orientation": "v",
         "showlegend": true,
         "textposition": "auto",
         "type": "bar",
         "x": [
          "Comprehensive"
         ],
         "xaxis": "x",
         "y": [
          38.23656632632196
         ],
         "yaxis": "y"
        },
        {
         "alignmentgroup": "True",
         "hovertemplate": "Filter Type=%{x}<br>Average Percentage of Postive MEIs found=%{y}<extra></extra>",
         "legendgroup": "Ultra Strict",
         "marker": {
          "color": "#984ea3",
          "pattern": {
           "shape": ""
          }
         },
         "name": "Ultra Strict",
         "offsetgroup": "Ultra Strict",
         "orientation": "v",
         "showlegend": true,
         "textposition": "auto",
         "type": "bar",
         "x": [
          "Ultra Strict"
         ],
         "xaxis": "x",
         "y": [
          0
         ],
         "yaxis": "y"
        },
        {
         "alignmentgroup": "True",
         "hovertemplate": "Filter Type=%{x}<br>Average Percentage of Postive MEIs found=%{y}<extra></extra>",
         "legendgroup": "SD",
         "marker": {
          "color": "#FF6692",
          "pattern": {
           "shape": ""
          }
         },
         "name": "SD",
         "offsetgroup": "SD",
         "orientation": "v",
         "showlegend": true,
         "textposition": "auto",
         "type": "bar",
         "x": [
          "SD"
         ],
         "xaxis": "x",
         "y": [
          52.98106264036715
         ],
         "yaxis": "y"
        }
       ],
       "layout": {
        "barmode": "relative",
        "legend": {
         "title": {
          "text": "Filter Type"
         },
         "tracegroupgap": 0
        },
        "template": {
         "data": {
          "bar": [
           {
            "error_x": {
             "color": "#2a3f5f"
            },
            "error_y": {
             "color": "#2a3f5f"
            },
            "marker": {
             "line": {
              "color": "#E5ECF6",
              "width": 0.5
             },
             "pattern": {
              "fillmode": "overlay",
              "size": 10,
              "solidity": 0.2
             }
            },
            "type": "bar"
           }
          ],
          "barpolar": [
           {
            "marker": {
             "line": {
              "color": "#E5ECF6",
              "width": 0.5
             },
             "pattern": {
              "fillmode": "overlay",
              "size": 10,
              "solidity": 0.2
             }
            },
            "type": "barpolar"
           }
          ],
          "carpet": [
           {
            "aaxis": {
             "endlinecolor": "#2a3f5f",
             "gridcolor": "white",
             "linecolor": "white",
             "minorgridcolor": "white",
             "startlinecolor": "#2a3f5f"
            },
            "baxis": {
             "endlinecolor": "#2a3f5f",
             "gridcolor": "white",
             "linecolor": "white",
             "minorgridcolor": "white",
             "startlinecolor": "#2a3f5f"
            },
            "type": "carpet"
           }
          ],
          "choropleth": [
           {
            "colorbar": {
             "outlinewidth": 0,
             "ticks": ""
            },
            "type": "choropleth"
           }
          ],
          "contour": [
           {
            "colorbar": {
             "outlinewidth": 0,
             "ticks": ""
            },
            "colorscale": [
             [
              0,
              "#0d0887"
             ],
             [
              0.1111111111111111,
              "#46039f"
             ],
             [
              0.2222222222222222,
              "#7201a8"
             ],
             [
              0.3333333333333333,
              "#9c179e"
             ],
             [
              0.4444444444444444,
              "#bd3786"
             ],
             [
              0.5555555555555556,
              "#d8576b"
             ],
             [
              0.6666666666666666,
              "#ed7953"
             ],
             [
              0.7777777777777778,
              "#fb9f3a"
             ],
             [
              0.8888888888888888,
              "#fdca26"
             ],
             [
              1,
              "#f0f921"
             ]
            ],
            "type": "contour"
           }
          ],
          "contourcarpet": [
           {
            "colorbar": {
             "outlinewidth": 0,
             "ticks": ""
            },
            "type": "contourcarpet"
           }
          ],
          "heatmap": [
           {
            "colorbar": {
             "outlinewidth": 0,
             "ticks": ""
            },
            "colorscale": [
             [
              0,
              "#0d0887"
             ],
             [
              0.1111111111111111,
              "#46039f"
             ],
             [
              0.2222222222222222,
              "#7201a8"
             ],
             [
              0.3333333333333333,
              "#9c179e"
             ],
             [
              0.4444444444444444,
              "#bd3786"
             ],
             [
              0.5555555555555556,
              "#d8576b"
             ],
             [
              0.6666666666666666,
              "#ed7953"
             ],
             [
              0.7777777777777778,
              "#fb9f3a"
             ],
             [
              0.8888888888888888,
              "#fdca26"
             ],
             [
              1,
              "#f0f921"
             ]
            ],
            "type": "heatmap"
           }
          ],
          "heatmapgl": [
           {
            "colorbar": {
             "outlinewidth": 0,
             "ticks": ""
            },
            "colorscale": [
             [
              0,
              "#0d0887"
             ],
             [
              0.1111111111111111,
              "#46039f"
             ],
             [
              0.2222222222222222,
              "#7201a8"
             ],
             [
              0.3333333333333333,
              "#9c179e"
             ],
             [
              0.4444444444444444,
              "#bd3786"
             ],
             [
              0.5555555555555556,
              "#d8576b"
             ],
             [
              0.6666666666666666,
              "#ed7953"
             ],
             [
              0.7777777777777778,
              "#fb9f3a"
             ],
             [
              0.8888888888888888,
              "#fdca26"
             ],
             [
              1,
              "#f0f921"
             ]
            ],
            "type": "heatmapgl"
           }
          ],
          "histogram": [
           {
            "marker": {
             "pattern": {
              "fillmode": "overlay",
              "size": 10,
              "solidity": 0.2
             }
            },
            "type": "histogram"
           }
          ],
          "histogram2d": [
           {
            "colorbar": {
             "outlinewidth": 0,
             "ticks": ""
            },
            "colorscale": [
             [
              0,
              "#0d0887"
             ],
             [
              0.1111111111111111,
              "#46039f"
             ],
             [
              0.2222222222222222,
              "#7201a8"
             ],
             [
              0.3333333333333333,
              "#9c179e"
             ],
             [
              0.4444444444444444,
              "#bd3786"
             ],
             [
              0.5555555555555556,
              "#d8576b"
             ],
             [
              0.6666666666666666,
              "#ed7953"
             ],
             [
              0.7777777777777778,
              "#fb9f3a"
             ],
             [
              0.8888888888888888,
              "#fdca26"
             ],
             [
              1,
              "#f0f921"
             ]
            ],
            "type": "histogram2d"
           }
          ],
          "histogram2dcontour": [
           {
            "colorbar": {
             "outlinewidth": 0,
             "ticks": ""
            },
            "colorscale": [
             [
              0,
              "#0d0887"
             ],
             [
              0.1111111111111111,
              "#46039f"
             ],
             [
              0.2222222222222222,
              "#7201a8"
             ],
             [
              0.3333333333333333,
              "#9c179e"
             ],
             [
              0.4444444444444444,
              "#bd3786"
             ],
             [
              0.5555555555555556,
              "#d8576b"
             ],
             [
              0.6666666666666666,
              "#ed7953"
             ],
             [
              0.7777777777777778,
              "#fb9f3a"
             ],
             [
              0.8888888888888888,
              "#fdca26"
             ],
             [
              1,
              "#f0f921"
             ]
            ],
            "type": "histogram2dcontour"
           }
          ],
          "mesh3d": [
           {
            "colorbar": {
             "outlinewidth": 0,
             "ticks": ""
            },
            "type": "mesh3d"
           }
          ],
          "parcoords": [
           {
            "line": {
             "colorbar": {
              "outlinewidth": 0,
              "ticks": ""
             }
            },
            "type": "parcoords"
           }
          ],
          "pie": [
           {
            "automargin": true,
            "type": "pie"
           }
          ],
          "scatter": [
           {
            "fillpattern": {
             "fillmode": "overlay",
             "size": 10,
             "solidity": 0.2
            },
            "type": "scatter"
           }
          ],
          "scatter3d": [
           {
            "line": {
             "colorbar": {
              "outlinewidth": 0,
              "ticks": ""
             }
            },
            "marker": {
             "colorbar": {
              "outlinewidth": 0,
              "ticks": ""
             }
            },
            "type": "scatter3d"
           }
          ],
          "scattercarpet": [
           {
            "marker": {
             "colorbar": {
              "outlinewidth": 0,
              "ticks": ""
             }
            },
            "type": "scattercarpet"
           }
          ],
          "scattergeo": [
           {
            "marker": {
             "colorbar": {
              "outlinewidth": 0,
              "ticks": ""
             }
            },
            "type": "scattergeo"
           }
          ],
          "scattergl": [
           {
            "marker": {
             "colorbar": {
              "outlinewidth": 0,
              "ticks": ""
             }
            },
            "type": "scattergl"
           }
          ],
          "scattermapbox": [
           {
            "marker": {
             "colorbar": {
              "outlinewidth": 0,
              "ticks": ""
             }
            },
            "type": "scattermapbox"
           }
          ],
          "scatterpolar": [
           {
            "marker": {
             "colorbar": {
              "outlinewidth": 0,
              "ticks": ""
             }
            },
            "type": "scatterpolar"
           }
          ],
          "scatterpolargl": [
           {
            "marker": {
             "colorbar": {
              "outlinewidth": 0,
              "ticks": ""
             }
            },
            "type": "scatterpolargl"
           }
          ],
          "scatterternary": [
           {
            "marker": {
             "colorbar": {
              "outlinewidth": 0,
              "ticks": ""
             }
            },
            "type": "scatterternary"
           }
          ],
          "surface": [
           {
            "colorbar": {
             "outlinewidth": 0,
             "ticks": ""
            },
            "colorscale": [
             [
              0,
              "#0d0887"
             ],
             [
              0.1111111111111111,
              "#46039f"
             ],
             [
              0.2222222222222222,
              "#7201a8"
             ],
             [
              0.3333333333333333,
              "#9c179e"
             ],
             [
              0.4444444444444444,
              "#bd3786"
             ],
             [
              0.5555555555555556,
              "#d8576b"
             ],
             [
              0.6666666666666666,
              "#ed7953"
             ],
             [
              0.7777777777777778,
              "#fb9f3a"
             ],
             [
              0.8888888888888888,
              "#fdca26"
             ],
             [
              1,
              "#f0f921"
             ]
            ],
            "type": "surface"
           }
          ],
          "table": [
           {
            "cells": {
             "fill": {
              "color": "#EBF0F8"
             },
             "line": {
              "color": "white"
             }
            },
            "header": {
             "fill": {
              "color": "#C8D4E3"
             },
             "line": {
              "color": "white"
             }
            },
            "type": "table"
           }
          ]
         },
         "layout": {
          "annotationdefaults": {
           "arrowcolor": "#2a3f5f",
           "arrowhead": 0,
           "arrowwidth": 1
          },
          "autotypenumbers": "strict",
          "coloraxis": {
           "colorbar": {
            "outlinewidth": 0,
            "ticks": ""
           }
          },
          "colorscale": {
           "diverging": [
            [
             0,
             "#8e0152"
            ],
            [
             0.1,
             "#c51b7d"
            ],
            [
             0.2,
             "#de77ae"
            ],
            [
             0.3,
             "#f1b6da"
            ],
            [
             0.4,
             "#fde0ef"
            ],
            [
             0.5,
             "#f7f7f7"
            ],
            [
             0.6,
             "#e6f5d0"
            ],
            [
             0.7,
             "#b8e186"
            ],
            [
             0.8,
             "#7fbc41"
            ],
            [
             0.9,
             "#4d9221"
            ],
            [
             1,
             "#276419"
            ]
           ],
           "sequential": [
            [
             0,
             "#0d0887"
            ],
            [
             0.1111111111111111,
             "#46039f"
            ],
            [
             0.2222222222222222,
             "#7201a8"
            ],
            [
             0.3333333333333333,
             "#9c179e"
            ],
            [
             0.4444444444444444,
             "#bd3786"
            ],
            [
             0.5555555555555556,
             "#d8576b"
            ],
            [
             0.6666666666666666,
             "#ed7953"
            ],
            [
             0.7777777777777778,
             "#fb9f3a"
            ],
            [
             0.8888888888888888,
             "#fdca26"
            ],
            [
             1,
             "#f0f921"
            ]
           ],
           "sequentialminus": [
            [
             0,
             "#0d0887"
            ],
            [
             0.1111111111111111,
             "#46039f"
            ],
            [
             0.2222222222222222,
             "#7201a8"
            ],
            [
             0.3333333333333333,
             "#9c179e"
            ],
            [
             0.4444444444444444,
             "#bd3786"
            ],
            [
             0.5555555555555556,
             "#d8576b"
            ],
            [
             0.6666666666666666,
             "#ed7953"
            ],
            [
             0.7777777777777778,
             "#fb9f3a"
            ],
            [
             0.8888888888888888,
             "#fdca26"
            ],
            [
             1,
             "#f0f921"
            ]
           ]
          },
          "colorway": [
           "#636efa",
           "#EF553B",
           "#00cc96",
           "#ab63fa",
           "#FFA15A",
           "#19d3f3",
           "#FF6692",
           "#B6E880",
           "#FF97FF",
           "#FECB52"
          ],
          "font": {
           "color": "#2a3f5f"
          },
          "geo": {
           "bgcolor": "white",
           "lakecolor": "white",
           "landcolor": "#E5ECF6",
           "showlakes": true,
           "showland": true,
           "subunitcolor": "white"
          },
          "hoverlabel": {
           "align": "left"
          },
          "hovermode": "closest",
          "mapbox": {
           "style": "light"
          },
          "paper_bgcolor": "white",
          "plot_bgcolor": "#E5ECF6",
          "polar": {
           "angularaxis": {
            "gridcolor": "white",
            "linecolor": "white",
            "ticks": ""
           },
           "bgcolor": "#E5ECF6",
           "radialaxis": {
            "gridcolor": "white",
            "linecolor": "white",
            "ticks": ""
           }
          },
          "scene": {
           "xaxis": {
            "backgroundcolor": "#E5ECF6",
            "gridcolor": "white",
            "gridwidth": 2,
            "linecolor": "white",
            "showbackground": true,
            "ticks": "",
            "zerolinecolor": "white"
           },
           "yaxis": {
            "backgroundcolor": "#E5ECF6",
            "gridcolor": "white",
            "gridwidth": 2,
            "linecolor": "white",
            "showbackground": true,
            "ticks": "",
            "zerolinecolor": "white"
           },
           "zaxis": {
            "backgroundcolor": "#E5ECF6",
            "gridcolor": "white",
            "gridwidth": 2,
            "linecolor": "white",
            "showbackground": true,
            "ticks": "",
            "zerolinecolor": "white"
           }
          },
          "shapedefaults": {
           "line": {
            "color": "#2a3f5f"
           }
          },
          "ternary": {
           "aaxis": {
            "gridcolor": "white",
            "linecolor": "white",
            "ticks": ""
           },
           "baxis": {
            "gridcolor": "white",
            "linecolor": "white",
            "ticks": ""
           },
           "bgcolor": "#E5ECF6",
           "caxis": {
            "gridcolor": "white",
            "linecolor": "white",
            "ticks": ""
           }
          },
          "title": {
           "x": 0.05
          },
          "xaxis": {
           "automargin": true,
           "gridcolor": "white",
           "linecolor": "white",
           "ticks": "",
           "title": {
            "standoff": 15
           },
           "zerolinecolor": "white",
           "zerolinewidth": 2
          },
          "yaxis": {
           "automargin": true,
           "gridcolor": "white",
           "linecolor": "white",
           "ticks": "",
           "title": {
            "standoff": 15
           },
           "zerolinecolor": "white",
           "zerolinewidth": 2
          }
         }
        },
        "title": {
         "text": "Average Percentage of Postive MEIs found for Each Filter Type"
        },
        "xaxis": {
         "anchor": "y",
         "categoryarray": [
          "Raw",
          "ASSESS",
          "PASS",
          "STRICT",
          "Comprehensive",
          "Ultra Strict",
          "SD"
         ],
         "categoryorder": "array",
         "domain": [
          0,
          1
         ],
         "title": {
          "text": "Filter Type"
         }
        },
        "yaxis": {
         "anchor": "x",
         "domain": [
          0,
          1
         ],
         "title": {
          "text": "Average Percentage of Postive MEIs found"
         }
        }
       }
      }
     },
     "metadata": {},
     "output_type": "display_data"
    }
   ],
   "source": [
    "import plotly.io as pio\n",
    "import plotly\n",
    "import kaleido\n",
    "\n",
    "print(plotly.__version__, kaleido.__version__)\n",
    "\n",
    "# Calculate average percentage of shared variants for each Filtered\n",
    "avg_total_variants_multi = df_multi.groupby('Filter_Type')['test_vcf_variants'].mean().reset_index()\n",
    "\n",
    "# Calculate average percentage of shared variants for each Filtered\n",
    "avg_shared_percentage_multi = df_multi.groupby('Filter_Type')['Shared_Percentage'].mean().reset_index()\n",
    "\n",
    "#Plot settings - order and color palette\n",
    "column_order = ['Raw', 'ASSESS', 'PASS', 'STRICT', 'Comprehensive', 'Ultra Strict']\n",
    "\n",
    "CB_color_cycle = ['#377eb8', '#ff7f00', '#4daf4a',\n",
    "                  '#f781bf', '#a65628', '#984ea3',\n",
    "                  '#999999', '#e41a1c', '#dede00']\n",
    "colours = {\n",
    "    'Raw': CB_color_cycle[0],\n",
    "    'ASSESS': CB_color_cycle[1],\n",
    "    'PASS': CB_color_cycle[2],\n",
    "    'STRICT': CB_color_cycle[3],\n",
    "    'Comprehensive': CB_color_cycle[4],\n",
    "    'Ultra Strict': CB_color_cycle[5]\n",
    "}\n",
    "\n",
    "# Plotting Average Percentage of Postive MEIs found\n",
    "fig = px.bar(avg_total_variants_multi, x='Filter_Type',\n",
    "             y='test_vcf_variants', title='Average total variants for Each Filter',\n",
    "             category_orders={'Filter_Type': column_order},\n",
    "             labels={'test_vcf_variants': 'Average Total Variants', 'Filter_Type': 'Filter Type'},\n",
    "             color='Filter_Type', color_discrete_map=colours)\n",
    "\n",
    "fig.show()\n",
    "#fig.write_image(\"Average_total_variants_for_Each_Filter.png\")\n",
    "fig.write_image(\"Average_total_variants_for_Each_Filter.png\", width=800, height=600, scale=2.0, format=\"png\")\n",
    "# Plotting Average Percentage of Postive MEIs found\n",
    "fig = px.bar(avg_shared_percentage_multi, x='Filter_Type',\n",
    "             y='Shared_Percentage',\n",
    "             title='Average Percentage of Postive MEIs found for Each Filter Type',\n",
    "             category_orders={'Filter_Type': column_order},\n",
    "             labels={\n",
    "                 'Shared_Percentage': 'Average Percentage of Postive MEIs found', 'Filter_Type': 'Filter Type'\n",
    "                 },\n",
    "             color='Filter_Type', color_discrete_map=colours)\n",
    "\n",
    "fig.show()\n",
    "#fig.write_image(\"Average_Percentage_of_Postive_MEIs_found_for_Each_Filter_Type.png\")\n",
    "fig.write_image(\"Average_Percentage_of_Postive_MEIs_found_for_Each_Filter_Type.png\", width=800, height=600, scale=2.0, format=\"png\")"
   ]
  },
  {
   "cell_type": "code",
   "execution_count": 67,
   "metadata": {},
   "outputs": [
    {
     "data": {
      "application/vnd.plotly.v1+json": {
       "config": {
        "plotlyServerURL": "https://plot.ly"
       },
       "data": [
        {
         "hovertemplate": "Filter Type=%{x}<br>F1 Score=%{y}<extra></extra>",
         "legendgroup": "Raw",
         "marker": {
          "color": "#377eb8",
          "symbol": "circle"
         },
         "mode": "markers",
         "name": "Raw",
         "orientation": "v",
         "showlegend": true,
         "type": "scatter",
         "x": [
          "Raw",
          "Raw",
          "Raw",
          "Raw",
          "Raw",
          "Raw",
          "Raw",
          "Raw",
          "Raw",
          "Raw",
          "Raw",
          "Raw",
          "Raw",
          "Raw",
          "Raw",
          "Raw",
          "Raw",
          "Raw",
          "Raw",
          "Raw",
          "Raw",
          "Raw",
          "Raw",
          "Raw",
          "Raw",
          "Raw",
          "Raw",
          "Raw"
         ],
         "xaxis": "x",
         "y": [
          0.0003606853020739404,
          0.0010790719980816497,
          0.0014363516667664136,
          0.0013193403298350824,
          0.0009511354179051242,
          0.0008413461538461537,
          0.0013164193393968406,
          0.0005983724269985639,
          0.0006010337780983291,
          0.0011984659635666346,
          0.002260559190957763,
          0.002271911993303838,
          0.003341288782816229,
          0.0011985377839036375,
          0.0031117228173059663,
          0.0008400840084008402,
          0.0011994722322178244,
          0.0008409418548774628,
          0.0011961722488038277,
          0.002880900936292804,
          0.002376002376002376,
          0.0015562339139282935,
          0.0006009254251547382,
          0.0013202112337974074,
          0.0010787486515641855,
          0.0016795633135384801,
          0.0019206530220274892,
          0.0015602496399423906
         ],
         "yaxis": "y"
        },
        {
         "hovertemplate": "Filter Type=%{x}<br>F1 Score=%{y}<extra></extra>",
         "legendgroup": "ASSESS",
         "marker": {
          "color": "#ff7f00",
          "symbol": "circle"
         },
         "mode": "markers",
         "name": "ASSESS",
         "orientation": "v",
         "showlegend": true,
         "type": "scatter",
         "x": [
          "ASSESS",
          "ASSESS",
          "ASSESS",
          "ASSESS",
          "ASSESS",
          "ASSESS",
          "ASSESS",
          "ASSESS",
          "ASSESS",
          "ASSESS",
          "ASSESS",
          "ASSESS",
          "ASSESS",
          "ASSESS",
          "ASSESS",
          "ASSESS",
          "ASSESS",
          "ASSESS",
          "ASSESS",
          "ASSESS",
          "ASSESS",
          "ASSESS",
          "ASSESS",
          "ASSESS",
          "ASSESS",
          "ASSESS",
          "ASSESS",
          "ASSESS"
         ],
         "xaxis": "x",
         "y": [
          0.00028935185185185184,
          0.001445086705202312,
          0.0020213687554143803,
          0.0017328519855595668,
          0.0011562364503540973,
          0.0008675534991324465,
          0.0017328519855595668,
          0.0005775339301183944,
          0.0011570726063060456,
          0.002309135517390677,
          0.0028864193967383456,
          0.002596278667243617,
          0.00402703868833597,
          0.002022244691607684,
          0.004317167937832781,
          0.0014446691707598958,
          0.0011545677586953385,
          0.0014457134595923088,
          0.0014444604940054887,
          0.0031441597233139444,
          0.003172314347512617,
          0.0014444604940054887,
          0.0008678044547295343,
          0.0011547344110854503,
          0.0014442518775274408,
          0.002311136790408782,
          0.002888086642599278,
          0.002889338341519792
         ],
         "yaxis": "y"
        },
        {
         "hovertemplate": "Filter Type=%{x}<br>F1 Score=%{y}<extra></extra>",
         "legendgroup": "PASS",
         "marker": {
          "color": "#4daf4a",
          "symbol": "circle"
         },
         "mode": "markers",
         "name": "PASS",
         "orientation": "v",
         "showlegend": true,
         "type": "scatter",
         "x": [
          "PASS",
          "PASS",
          "PASS",
          "PASS",
          "PASS",
          "PASS",
          "PASS",
          "PASS",
          "PASS",
          "PASS",
          "PASS",
          "PASS",
          "PASS",
          "PASS",
          "PASS",
          "PASS",
          "PASS",
          "PASS",
          "PASS",
          "PASS",
          "PASS",
          "PASS",
          "PASS",
          "PASS",
          "PASS",
          "PASS",
          "PASS",
          "PASS"
         ],
         "xaxis": "x",
         "y": [
          null,
          0.011342155009451797,
          0.00970873786407767,
          0.012704174228675136,
          0.010704727921498663,
          null,
          0.012367491166077738,
          0.005240174672489083,
          null,
          0.012477718360071303,
          0.02418745275888133,
          0.02279202279202279,
          0.03370786516853933,
          0.012704174228675136,
          0.02861035422343324,
          0.005415162454873647,
          0.011976047904191616,
          0.004089979550102249,
          0.012332990750256937,
          0.030063291139240503,
          0.020186335403726708,
          0.02046511627906977,
          null,
          0.01352493660185968,
          0.010389610389610391,
          0.014962593516209476,
          0.016997167138810197,
          0.007272727272727272
         ],
         "yaxis": "y"
        },
        {
         "hovertemplate": "Filter Type=%{x}<br>F1 Score=%{y}<extra></extra>",
         "legendgroup": "STRICT",
         "marker": {
          "color": "#FF6692",
          "symbol": "circle"
         },
         "mode": "markers",
         "name": "STRICT",
         "orientation": "v",
         "showlegend": true,
         "type": "scatter",
         "x": [
          "STRICT",
          "STRICT",
          "STRICT",
          "STRICT",
          "STRICT",
          "STRICT",
          "STRICT",
          "STRICT",
          "STRICT",
          "STRICT",
          "STRICT",
          "STRICT",
          "STRICT",
          "STRICT",
          "STRICT",
          "STRICT",
          "STRICT",
          "STRICT",
          "STRICT",
          "STRICT",
          "STRICT",
          "STRICT",
          "STRICT",
          "STRICT",
          "STRICT",
          "STRICT",
          "STRICT",
          "STRICT"
         ],
         "xaxis": "x",
         "y": [
          null,
          0.008238928939237899,
          0.008602150537634409,
          0.011881188118811881,
          0.008113590263691683,
          null,
          0.007797270955165692,
          0.00570884871550904,
          null,
          0.011516314779270634,
          0.01943462897526502,
          0.016207455429497572,
          0.02511773940345369,
          0.011753183153770812,
          0.024078254326561327,
          0.0038314176245210726,
          0.010660980810234543,
          0.004329004329004329,
          0.00662251655629139,
          0.026041666666666664,
          0.013900955690703735,
          0.01644398766700925,
          null,
          0.007266121707538601,
          0.011225444340505144,
          0.016348773841961855,
          0.018575851393188854,
          0.008130081300813007
         ],
         "yaxis": "y"
        },
        {
         "hovertemplate": "Filter Type=%{x}<br>F1 Score=%{y}<extra></extra>",
         "legendgroup": "Comprehensive",
         "marker": {
          "color": "#a65628",
          "symbol": "circle"
         },
         "mode": "markers",
         "name": "Comprehensive",
         "orientation": "v",
         "showlegend": true,
         "type": "scatter",
         "x": [
          "Comprehensive",
          "Comprehensive",
          "Comprehensive",
          "Comprehensive",
          "Comprehensive",
          "Comprehensive",
          "Comprehensive",
          "Comprehensive",
          "Comprehensive",
          "Comprehensive",
          "Comprehensive",
          "Comprehensive",
          "Comprehensive",
          "Comprehensive",
          "Comprehensive",
          "Comprehensive",
          "Comprehensive",
          "Comprehensive",
          "Comprehensive",
          "Comprehensive",
          "Comprehensive",
          "Comprehensive",
          "Comprehensive",
          "Comprehensive",
          "Comprehensive",
          "Comprehensive",
          "Comprehensive",
          "Comprehensive"
         ],
         "xaxis": "x",
         "y": [
          null,
          0.008238928939237899,
          0.008602150537634409,
          0.011881188118811881,
          0.008113590263691683,
          null,
          0.007797270955165692,
          0.00570884871550904,
          null,
          0.011516314779270634,
          0.01943462897526502,
          0.016207455429497572,
          0.02511773940345369,
          0.011753183153770812,
          0.024078254326561327,
          0.0038314176245210726,
          0.010660980810234543,
          0.004329004329004329,
          0.00662251655629139,
          0.026041666666666664,
          0.013900955690703735,
          0.01644398766700925,
          null,
          0.007266121707538601,
          0.011225444340505144,
          0.016348773841961855,
          0.018575851393188854,
          0.008130081300813007
         ],
         "yaxis": "y"
        },
        {
         "hovertemplate": "Filter Type=%{x}<br>F1 Score=%{y}<extra></extra>",
         "legendgroup": "Ultra Strict",
         "marker": {
          "color": "#984ea3",
          "symbol": "circle"
         },
         "mode": "markers",
         "name": "Ultra Strict",
         "orientation": "v",
         "showlegend": true,
         "type": "scatter",
         "x": [
          "Ultra Strict",
          "Ultra Strict",
          "Ultra Strict",
          "Ultra Strict",
          "Ultra Strict",
          "Ultra Strict",
          "Ultra Strict",
          "Ultra Strict",
          "Ultra Strict",
          "Ultra Strict",
          "Ultra Strict",
          "Ultra Strict",
          "Ultra Strict",
          "Ultra Strict",
          "Ultra Strict",
          "Ultra Strict",
          "Ultra Strict",
          "Ultra Strict",
          "Ultra Strict",
          "Ultra Strict",
          "Ultra Strict",
          "Ultra Strict",
          "Ultra Strict",
          "Ultra Strict",
          "Ultra Strict",
          "Ultra Strict",
          "Ultra Strict",
          "Ultra Strict"
         ],
         "xaxis": "x",
         "y": [
          null,
          null,
          null,
          null,
          null,
          null,
          null,
          null,
          null,
          null,
          null,
          null,
          null,
          null,
          null,
          null,
          null,
          null,
          null,
          null,
          null,
          null,
          null,
          null,
          null,
          null,
          null,
          null
         ],
         "yaxis": "y"
        },
        {
         "hovertemplate": "Filter Type=%{x}<br>F1 Score=%{y}<extra></extra>",
         "legendgroup": "SD",
         "marker": {
          "color": "#B6E880",
          "symbol": "circle"
         },
         "mode": "markers",
         "name": "SD",
         "orientation": "v",
         "showlegend": true,
         "type": "scatter",
         "x": [
          "SD",
          "SD",
          "SD",
          "SD",
          "SD",
          "SD",
          "SD",
          "SD",
          "SD",
          "SD",
          "SD",
          "SD",
          "SD",
          "SD",
          "SD",
          "SD",
          "SD",
          "SD",
          "SD",
          "SD",
          "SD",
          "SD",
          "SD",
          "SD",
          "SD",
          "SD",
          "SD",
          "SD"
         ],
         "xaxis": "x",
         "y": [
          null,
          0.011225444340505144,
          0.00946969696969697,
          0.01595744680851064,
          0.010517090271691499,
          null,
          0.011874469889737064,
          0.006773920406435225,
          null,
          0.012100259291270527,
          0.023827252419955324,
          0.022222222222222223,
          0.032809295967190705,
          0.01248884924174844,
          0.029431438127090304,
          0.005323868677905945,
          0.01160541586073501,
          0.004052684903748733,
          0.012307692307692308,
          0.02952602952602953,
          0.01992337164750958,
          0.02005469462169553,
          null,
          0.013136288998357962,
          0.010221465076660987,
          0.014851485148514853,
          0.01694915254237288,
          0.007272727272727272
         ],
         "yaxis": "y"
        }
       ],
       "layout": {
        "legend": {
         "title": {
          "text": "Filter Type"
         },
         "tracegroupgap": 0
        },
        "template": {
         "data": {
          "bar": [
           {
            "error_x": {
             "color": "#2a3f5f"
            },
            "error_y": {
             "color": "#2a3f5f"
            },
            "marker": {
             "line": {
              "color": "#E5ECF6",
              "width": 0.5
             },
             "pattern": {
              "fillmode": "overlay",
              "size": 10,
              "solidity": 0.2
             }
            },
            "type": "bar"
           }
          ],
          "barpolar": [
           {
            "marker": {
             "line": {
              "color": "#E5ECF6",
              "width": 0.5
             },
             "pattern": {
              "fillmode": "overlay",
              "size": 10,
              "solidity": 0.2
             }
            },
            "type": "barpolar"
           }
          ],
          "carpet": [
           {
            "aaxis": {
             "endlinecolor": "#2a3f5f",
             "gridcolor": "white",
             "linecolor": "white",
             "minorgridcolor": "white",
             "startlinecolor": "#2a3f5f"
            },
            "baxis": {
             "endlinecolor": "#2a3f5f",
             "gridcolor": "white",
             "linecolor": "white",
             "minorgridcolor": "white",
             "startlinecolor": "#2a3f5f"
            },
            "type": "carpet"
           }
          ],
          "choropleth": [
           {
            "colorbar": {
             "outlinewidth": 0,
             "ticks": ""
            },
            "type": "choropleth"
           }
          ],
          "contour": [
           {
            "colorbar": {
             "outlinewidth": 0,
             "ticks": ""
            },
            "colorscale": [
             [
              0,
              "#0d0887"
             ],
             [
              0.1111111111111111,
              "#46039f"
             ],
             [
              0.2222222222222222,
              "#7201a8"
             ],
             [
              0.3333333333333333,
              "#9c179e"
             ],
             [
              0.4444444444444444,
              "#bd3786"
             ],
             [
              0.5555555555555556,
              "#d8576b"
             ],
             [
              0.6666666666666666,
              "#ed7953"
             ],
             [
              0.7777777777777778,
              "#fb9f3a"
             ],
             [
              0.8888888888888888,
              "#fdca26"
             ],
             [
              1,
              "#f0f921"
             ]
            ],
            "type": "contour"
           }
          ],
          "contourcarpet": [
           {
            "colorbar": {
             "outlinewidth": 0,
             "ticks": ""
            },
            "type": "contourcarpet"
           }
          ],
          "heatmap": [
           {
            "colorbar": {
             "outlinewidth": 0,
             "ticks": ""
            },
            "colorscale": [
             [
              0,
              "#0d0887"
             ],
             [
              0.1111111111111111,
              "#46039f"
             ],
             [
              0.2222222222222222,
              "#7201a8"
             ],
             [
              0.3333333333333333,
              "#9c179e"
             ],
             [
              0.4444444444444444,
              "#bd3786"
             ],
             [
              0.5555555555555556,
              "#d8576b"
             ],
             [
              0.6666666666666666,
              "#ed7953"
             ],
             [
              0.7777777777777778,
              "#fb9f3a"
             ],
             [
              0.8888888888888888,
              "#fdca26"
             ],
             [
              1,
              "#f0f921"
             ]
            ],
            "type": "heatmap"
           }
          ],
          "heatmapgl": [
           {
            "colorbar": {
             "outlinewidth": 0,
             "ticks": ""
            },
            "colorscale": [
             [
              0,
              "#0d0887"
             ],
             [
              0.1111111111111111,
              "#46039f"
             ],
             [
              0.2222222222222222,
              "#7201a8"
             ],
             [
              0.3333333333333333,
              "#9c179e"
             ],
             [
              0.4444444444444444,
              "#bd3786"
             ],
             [
              0.5555555555555556,
              "#d8576b"
             ],
             [
              0.6666666666666666,
              "#ed7953"
             ],
             [
              0.7777777777777778,
              "#fb9f3a"
             ],
             [
              0.8888888888888888,
              "#fdca26"
             ],
             [
              1,
              "#f0f921"
             ]
            ],
            "type": "heatmapgl"
           }
          ],
          "histogram": [
           {
            "marker": {
             "pattern": {
              "fillmode": "overlay",
              "size": 10,
              "solidity": 0.2
             }
            },
            "type": "histogram"
           }
          ],
          "histogram2d": [
           {
            "colorbar": {
             "outlinewidth": 0,
             "ticks": ""
            },
            "colorscale": [
             [
              0,
              "#0d0887"
             ],
             [
              0.1111111111111111,
              "#46039f"
             ],
             [
              0.2222222222222222,
              "#7201a8"
             ],
             [
              0.3333333333333333,
              "#9c179e"
             ],
             [
              0.4444444444444444,
              "#bd3786"
             ],
             [
              0.5555555555555556,
              "#d8576b"
             ],
             [
              0.6666666666666666,
              "#ed7953"
             ],
             [
              0.7777777777777778,
              "#fb9f3a"
             ],
             [
              0.8888888888888888,
              "#fdca26"
             ],
             [
              1,
              "#f0f921"
             ]
            ],
            "type": "histogram2d"
           }
          ],
          "histogram2dcontour": [
           {
            "colorbar": {
             "outlinewidth": 0,
             "ticks": ""
            },
            "colorscale": [
             [
              0,
              "#0d0887"
             ],
             [
              0.1111111111111111,
              "#46039f"
             ],
             [
              0.2222222222222222,
              "#7201a8"
             ],
             [
              0.3333333333333333,
              "#9c179e"
             ],
             [
              0.4444444444444444,
              "#bd3786"
             ],
             [
              0.5555555555555556,
              "#d8576b"
             ],
             [
              0.6666666666666666,
              "#ed7953"
             ],
             [
              0.7777777777777778,
              "#fb9f3a"
             ],
             [
              0.8888888888888888,
              "#fdca26"
             ],
             [
              1,
              "#f0f921"
             ]
            ],
            "type": "histogram2dcontour"
           }
          ],
          "mesh3d": [
           {
            "colorbar": {
             "outlinewidth": 0,
             "ticks": ""
            },
            "type": "mesh3d"
           }
          ],
          "parcoords": [
           {
            "line": {
             "colorbar": {
              "outlinewidth": 0,
              "ticks": ""
             }
            },
            "type": "parcoords"
           }
          ],
          "pie": [
           {
            "automargin": true,
            "type": "pie"
           }
          ],
          "scatter": [
           {
            "fillpattern": {
             "fillmode": "overlay",
             "size": 10,
             "solidity": 0.2
            },
            "type": "scatter"
           }
          ],
          "scatter3d": [
           {
            "line": {
             "colorbar": {
              "outlinewidth": 0,
              "ticks": ""
             }
            },
            "marker": {
             "colorbar": {
              "outlinewidth": 0,
              "ticks": ""
             }
            },
            "type": "scatter3d"
           }
          ],
          "scattercarpet": [
           {
            "marker": {
             "colorbar": {
              "outlinewidth": 0,
              "ticks": ""
             }
            },
            "type": "scattercarpet"
           }
          ],
          "scattergeo": [
           {
            "marker": {
             "colorbar": {
              "outlinewidth": 0,
              "ticks": ""
             }
            },
            "type": "scattergeo"
           }
          ],
          "scattergl": [
           {
            "marker": {
             "colorbar": {
              "outlinewidth": 0,
              "ticks": ""
             }
            },
            "type": "scattergl"
           }
          ],
          "scattermapbox": [
           {
            "marker": {
             "colorbar": {
              "outlinewidth": 0,
              "ticks": ""
             }
            },
            "type": "scattermapbox"
           }
          ],
          "scatterpolar": [
           {
            "marker": {
             "colorbar": {
              "outlinewidth": 0,
              "ticks": ""
             }
            },
            "type": "scatterpolar"
           }
          ],
          "scatterpolargl": [
           {
            "marker": {
             "colorbar": {
              "outlinewidth": 0,
              "ticks": ""
             }
            },
            "type": "scatterpolargl"
           }
          ],
          "scatterternary": [
           {
            "marker": {
             "colorbar": {
              "outlinewidth": 0,
              "ticks": ""
             }
            },
            "type": "scatterternary"
           }
          ],
          "surface": [
           {
            "colorbar": {
             "outlinewidth": 0,
             "ticks": ""
            },
            "colorscale": [
             [
              0,
              "#0d0887"
             ],
             [
              0.1111111111111111,
              "#46039f"
             ],
             [
              0.2222222222222222,
              "#7201a8"
             ],
             [
              0.3333333333333333,
              "#9c179e"
             ],
             [
              0.4444444444444444,
              "#bd3786"
             ],
             [
              0.5555555555555556,
              "#d8576b"
             ],
             [
              0.6666666666666666,
              "#ed7953"
             ],
             [
              0.7777777777777778,
              "#fb9f3a"
             ],
             [
              0.8888888888888888,
              "#fdca26"
             ],
             [
              1,
              "#f0f921"
             ]
            ],
            "type": "surface"
           }
          ],
          "table": [
           {
            "cells": {
             "fill": {
              "color": "#EBF0F8"
             },
             "line": {
              "color": "white"
             }
            },
            "header": {
             "fill": {
              "color": "#C8D4E3"
             },
             "line": {
              "color": "white"
             }
            },
            "type": "table"
           }
          ]
         },
         "layout": {
          "annotationdefaults": {
           "arrowcolor": "#2a3f5f",
           "arrowhead": 0,
           "arrowwidth": 1
          },
          "autotypenumbers": "strict",
          "coloraxis": {
           "colorbar": {
            "outlinewidth": 0,
            "ticks": ""
           }
          },
          "colorscale": {
           "diverging": [
            [
             0,
             "#8e0152"
            ],
            [
             0.1,
             "#c51b7d"
            ],
            [
             0.2,
             "#de77ae"
            ],
            [
             0.3,
             "#f1b6da"
            ],
            [
             0.4,
             "#fde0ef"
            ],
            [
             0.5,
             "#f7f7f7"
            ],
            [
             0.6,
             "#e6f5d0"
            ],
            [
             0.7,
             "#b8e186"
            ],
            [
             0.8,
             "#7fbc41"
            ],
            [
             0.9,
             "#4d9221"
            ],
            [
             1,
             "#276419"
            ]
           ],
           "sequential": [
            [
             0,
             "#0d0887"
            ],
            [
             0.1111111111111111,
             "#46039f"
            ],
            [
             0.2222222222222222,
             "#7201a8"
            ],
            [
             0.3333333333333333,
             "#9c179e"
            ],
            [
             0.4444444444444444,
             "#bd3786"
            ],
            [
             0.5555555555555556,
             "#d8576b"
            ],
            [
             0.6666666666666666,
             "#ed7953"
            ],
            [
             0.7777777777777778,
             "#fb9f3a"
            ],
            [
             0.8888888888888888,
             "#fdca26"
            ],
            [
             1,
             "#f0f921"
            ]
           ],
           "sequentialminus": [
            [
             0,
             "#0d0887"
            ],
            [
             0.1111111111111111,
             "#46039f"
            ],
            [
             0.2222222222222222,
             "#7201a8"
            ],
            [
             0.3333333333333333,
             "#9c179e"
            ],
            [
             0.4444444444444444,
             "#bd3786"
            ],
            [
             0.5555555555555556,
             "#d8576b"
            ],
            [
             0.6666666666666666,
             "#ed7953"
            ],
            [
             0.7777777777777778,
             "#fb9f3a"
            ],
            [
             0.8888888888888888,
             "#fdca26"
            ],
            [
             1,
             "#f0f921"
            ]
           ]
          },
          "colorway": [
           "#636efa",
           "#EF553B",
           "#00cc96",
           "#ab63fa",
           "#FFA15A",
           "#19d3f3",
           "#FF6692",
           "#B6E880",
           "#FF97FF",
           "#FECB52"
          ],
          "font": {
           "color": "#2a3f5f"
          },
          "geo": {
           "bgcolor": "white",
           "lakecolor": "white",
           "landcolor": "#E5ECF6",
           "showlakes": true,
           "showland": true,
           "subunitcolor": "white"
          },
          "hoverlabel": {
           "align": "left"
          },
          "hovermode": "closest",
          "mapbox": {
           "style": "light"
          },
          "paper_bgcolor": "white",
          "plot_bgcolor": "#E5ECF6",
          "polar": {
           "angularaxis": {
            "gridcolor": "white",
            "linecolor": "white",
            "ticks": ""
           },
           "bgcolor": "#E5ECF6",
           "radialaxis": {
            "gridcolor": "white",
            "linecolor": "white",
            "ticks": ""
           }
          },
          "scene": {
           "xaxis": {
            "backgroundcolor": "#E5ECF6",
            "gridcolor": "white",
            "gridwidth": 2,
            "linecolor": "white",
            "showbackground": true,
            "ticks": "",
            "zerolinecolor": "white"
           },
           "yaxis": {
            "backgroundcolor": "#E5ECF6",
            "gridcolor": "white",
            "gridwidth": 2,
            "linecolor": "white",
            "showbackground": true,
            "ticks": "",
            "zerolinecolor": "white"
           },
           "zaxis": {
            "backgroundcolor": "#E5ECF6",
            "gridcolor": "white",
            "gridwidth": 2,
            "linecolor": "white",
            "showbackground": true,
            "ticks": "",
            "zerolinecolor": "white"
           }
          },
          "shapedefaults": {
           "line": {
            "color": "#2a3f5f"
           }
          },
          "ternary": {
           "aaxis": {
            "gridcolor": "white",
            "linecolor": "white",
            "ticks": ""
           },
           "baxis": {
            "gridcolor": "white",
            "linecolor": "white",
            "ticks": ""
           },
           "bgcolor": "#E5ECF6",
           "caxis": {
            "gridcolor": "white",
            "linecolor": "white",
            "ticks": ""
           }
          },
          "title": {
           "x": 0.05
          },
          "xaxis": {
           "automargin": true,
           "gridcolor": "white",
           "linecolor": "white",
           "ticks": "",
           "title": {
            "standoff": 15
           },
           "zerolinecolor": "white",
           "zerolinewidth": 2
          },
          "yaxis": {
           "automargin": true,
           "gridcolor": "white",
           "linecolor": "white",
           "ticks": "",
           "title": {
            "standoff": 15
           },
           "zerolinecolor": "white",
           "zerolinewidth": 2
          }
         }
        },
        "title": {
         "text": "F1 Score for Variant Detection"
        },
        "xaxis": {
         "anchor": "y",
         "categoryarray": [
          "Raw",
          "ASSESS",
          "PASS",
          "STRICT",
          "Comprehensive",
          "Ultra Strict",
          "SD"
         ],
         "categoryorder": "array",
         "domain": [
          0,
          1
         ],
         "title": {
          "text": "Filter Type"
         }
        },
        "yaxis": {
         "anchor": "x",
         "domain": [
          0,
          1
         ],
         "title": {
          "text": "F1 Score"
         }
        }
       }
      }
     },
     "metadata": {},
     "output_type": "display_data"
    },
    {
     "data": {
      "application/vnd.plotly.v1+json": {
       "config": {
        "plotlyServerURL": "https://plot.ly"
       },
       "data": [
        {
         "hovertemplate": "Filter Type=%{x}<br>F1 Score=%{y}<extra></extra>",
         "legendgroup": "Raw",
         "marker": {
          "color": "#377eb8",
          "symbol": "circle"
         },
         "mode": "markers",
         "name": "Raw",
         "orientation": "v",
         "showlegend": true,
         "type": "scatter",
         "x": [
          "Raw",
          "Raw",
          "Raw",
          "Raw",
          "Raw",
          "Raw",
          "Raw",
          "Raw",
          "Raw",
          "Raw",
          "Raw",
          "Raw",
          "Raw",
          "Raw",
          "Raw",
          "Raw",
          "Raw",
          "Raw",
          "Raw",
          "Raw",
          "Raw",
          "Raw",
          "Raw",
          "Raw",
          "Raw",
          "Raw",
          "Raw",
          "Raw"
         ],
         "xaxis": "x",
         "y": [
          0.0003606853020739404,
          0.0010790719980816497,
          0.0014363516667664136,
          0.0013193403298350824,
          0.0009511354179051242,
          0.0008413461538461537,
          0.0013164193393968406,
          0.0005983724269985639,
          0.0006010337780983291,
          0.0011984659635666346,
          0.002260559190957763,
          0.002271911993303838,
          0.003341288782816229,
          0.0011985377839036375,
          0.0031117228173059663,
          0.0008400840084008402,
          0.0011994722322178244,
          0.0008409418548774628,
          0.0011961722488038277,
          0.002880900936292804,
          0.002376002376002376,
          0.0015562339139282935,
          0.0006009254251547382,
          0.0013202112337974074,
          0.0010787486515641855,
          0.0016795633135384801,
          0.0019206530220274892,
          0.0015602496399423906
         ],
         "yaxis": "y"
        },
        {
         "hovertemplate": "Filter Type=%{x}<br>F1 Score=%{y}<extra></extra>",
         "legendgroup": "ASSESS",
         "marker": {
          "color": "#ff7f00",
          "symbol": "circle"
         },
         "mode": "markers",
         "name": "ASSESS",
         "orientation": "v",
         "showlegend": true,
         "type": "scatter",
         "x": [
          "ASSESS",
          "ASSESS",
          "ASSESS",
          "ASSESS",
          "ASSESS",
          "ASSESS",
          "ASSESS",
          "ASSESS",
          "ASSESS",
          "ASSESS",
          "ASSESS",
          "ASSESS",
          "ASSESS",
          "ASSESS",
          "ASSESS",
          "ASSESS",
          "ASSESS",
          "ASSESS",
          "ASSESS",
          "ASSESS",
          "ASSESS",
          "ASSESS",
          "ASSESS",
          "ASSESS",
          "ASSESS",
          "ASSESS",
          "ASSESS",
          "ASSESS"
         ],
         "xaxis": "x",
         "y": [
          0.00028935185185185184,
          0.001445086705202312,
          0.0020213687554143803,
          0.0017328519855595668,
          0.0011562364503540973,
          0.0008675534991324465,
          0.0017328519855595668,
          0.0005775339301183944,
          0.0011570726063060456,
          0.002309135517390677,
          0.0028864193967383456,
          0.002596278667243617,
          0.00402703868833597,
          0.002022244691607684,
          0.004317167937832781,
          0.0014446691707598958,
          0.0011545677586953385,
          0.0014457134595923088,
          0.0014444604940054887,
          0.0031441597233139444,
          0.003172314347512617,
          0.0014444604940054887,
          0.0008678044547295343,
          0.0011547344110854503,
          0.0014442518775274408,
          0.002311136790408782,
          0.002888086642599278,
          0.002889338341519792
         ],
         "yaxis": "y"
        },
        {
         "hovertemplate": "Filter Type=%{x}<br>F1 Score=%{y}<extra></extra>",
         "legendgroup": "PASS",
         "marker": {
          "color": "#4daf4a",
          "symbol": "circle"
         },
         "mode": "markers",
         "name": "PASS",
         "orientation": "v",
         "showlegend": true,
         "type": "scatter",
         "x": [
          "PASS",
          "PASS",
          "PASS",
          "PASS",
          "PASS",
          "PASS",
          "PASS",
          "PASS",
          "PASS",
          "PASS",
          "PASS",
          "PASS",
          "PASS",
          "PASS",
          "PASS",
          "PASS",
          "PASS",
          "PASS",
          "PASS",
          "PASS",
          "PASS",
          "PASS",
          "PASS",
          "PASS",
          "PASS",
          "PASS",
          "PASS",
          "PASS"
         ],
         "xaxis": "x",
         "y": [
          null,
          0.011342155009451797,
          0.00970873786407767,
          0.012704174228675136,
          0.010704727921498663,
          null,
          0.012367491166077738,
          0.005240174672489083,
          null,
          0.012477718360071303,
          0.02418745275888133,
          0.02279202279202279,
          0.03370786516853933,
          0.012704174228675136,
          0.02861035422343324,
          0.005415162454873647,
          0.011976047904191616,
          0.004089979550102249,
          0.012332990750256937,
          0.030063291139240503,
          0.020186335403726708,
          0.02046511627906977,
          null,
          0.01352493660185968,
          0.010389610389610391,
          0.014962593516209476,
          0.016997167138810197,
          0.007272727272727272
         ],
         "yaxis": "y"
        },
        {
         "hovertemplate": "Filter Type=%{x}<br>F1 Score=%{y}<extra></extra>",
         "legendgroup": "STRICT",
         "marker": {
          "color": "#FF6692",
          "symbol": "circle"
         },
         "mode": "markers",
         "name": "STRICT",
         "orientation": "v",
         "showlegend": true,
         "type": "scatter",
         "x": [
          "STRICT",
          "STRICT",
          "STRICT",
          "STRICT",
          "STRICT",
          "STRICT",
          "STRICT",
          "STRICT",
          "STRICT",
          "STRICT",
          "STRICT",
          "STRICT",
          "STRICT",
          "STRICT",
          "STRICT",
          "STRICT",
          "STRICT",
          "STRICT",
          "STRICT",
          "STRICT",
          "STRICT",
          "STRICT",
          "STRICT",
          "STRICT",
          "STRICT",
          "STRICT",
          "STRICT",
          "STRICT"
         ],
         "xaxis": "x",
         "y": [
          null,
          0.008238928939237899,
          0.008602150537634409,
          0.011881188118811881,
          0.008113590263691683,
          null,
          0.007797270955165692,
          0.00570884871550904,
          null,
          0.011516314779270634,
          0.01943462897526502,
          0.016207455429497572,
          0.02511773940345369,
          0.011753183153770812,
          0.024078254326561327,
          0.0038314176245210726,
          0.010660980810234543,
          0.004329004329004329,
          0.00662251655629139,
          0.026041666666666664,
          0.013900955690703735,
          0.01644398766700925,
          null,
          0.007266121707538601,
          0.011225444340505144,
          0.016348773841961855,
          0.018575851393188854,
          0.008130081300813007
         ],
         "yaxis": "y"
        },
        {
         "hovertemplate": "Filter Type=%{x}<br>F1 Score=%{y}<extra></extra>",
         "legendgroup": "Comprehensive",
         "marker": {
          "color": "#a65628",
          "symbol": "circle"
         },
         "mode": "markers",
         "name": "Comprehensive",
         "orientation": "v",
         "showlegend": true,
         "type": "scatter",
         "x": [
          "Comprehensive",
          "Comprehensive",
          "Comprehensive",
          "Comprehensive",
          "Comprehensive",
          "Comprehensive",
          "Comprehensive",
          "Comprehensive",
          "Comprehensive",
          "Comprehensive",
          "Comprehensive",
          "Comprehensive",
          "Comprehensive",
          "Comprehensive",
          "Comprehensive",
          "Comprehensive",
          "Comprehensive",
          "Comprehensive",
          "Comprehensive",
          "Comprehensive",
          "Comprehensive",
          "Comprehensive",
          "Comprehensive",
          "Comprehensive",
          "Comprehensive",
          "Comprehensive",
          "Comprehensive",
          "Comprehensive"
         ],
         "xaxis": "x",
         "y": [
          null,
          0.008238928939237899,
          0.008602150537634409,
          0.011881188118811881,
          0.008113590263691683,
          null,
          0.007797270955165692,
          0.00570884871550904,
          null,
          0.011516314779270634,
          0.01943462897526502,
          0.016207455429497572,
          0.02511773940345369,
          0.011753183153770812,
          0.024078254326561327,
          0.0038314176245210726,
          0.010660980810234543,
          0.004329004329004329,
          0.00662251655629139,
          0.026041666666666664,
          0.013900955690703735,
          0.01644398766700925,
          null,
          0.007266121707538601,
          0.011225444340505144,
          0.016348773841961855,
          0.018575851393188854,
          0.008130081300813007
         ],
         "yaxis": "y"
        },
        {
         "hovertemplate": "Filter Type=%{x}<br>F1 Score=%{y}<extra></extra>",
         "legendgroup": "Ultra Strict",
         "marker": {
          "color": "#984ea3",
          "symbol": "circle"
         },
         "mode": "markers",
         "name": "Ultra Strict",
         "orientation": "v",
         "showlegend": true,
         "type": "scatter",
         "x": [
          "Ultra Strict",
          "Ultra Strict",
          "Ultra Strict",
          "Ultra Strict",
          "Ultra Strict",
          "Ultra Strict",
          "Ultra Strict",
          "Ultra Strict",
          "Ultra Strict",
          "Ultra Strict",
          "Ultra Strict",
          "Ultra Strict",
          "Ultra Strict",
          "Ultra Strict",
          "Ultra Strict",
          "Ultra Strict",
          "Ultra Strict",
          "Ultra Strict",
          "Ultra Strict",
          "Ultra Strict",
          "Ultra Strict",
          "Ultra Strict",
          "Ultra Strict",
          "Ultra Strict",
          "Ultra Strict",
          "Ultra Strict",
          "Ultra Strict",
          "Ultra Strict"
         ],
         "xaxis": "x",
         "y": [
          null,
          null,
          null,
          null,
          null,
          null,
          null,
          null,
          null,
          null,
          null,
          null,
          null,
          null,
          null,
          null,
          null,
          null,
          null,
          null,
          null,
          null,
          null,
          null,
          null,
          null,
          null,
          null
         ],
         "yaxis": "y"
        },
        {
         "hovertemplate": "Filter Type=%{x}<br>F1 Score=%{y}<extra></extra>",
         "legendgroup": "SD",
         "marker": {
          "color": "#B6E880",
          "symbol": "circle"
         },
         "mode": "markers",
         "name": "SD",
         "orientation": "v",
         "showlegend": true,
         "type": "scatter",
         "x": [
          "SD",
          "SD",
          "SD",
          "SD",
          "SD",
          "SD",
          "SD",
          "SD",
          "SD",
          "SD",
          "SD",
          "SD",
          "SD",
          "SD",
          "SD",
          "SD",
          "SD",
          "SD",
          "SD",
          "SD",
          "SD",
          "SD",
          "SD",
          "SD",
          "SD",
          "SD",
          "SD",
          "SD"
         ],
         "xaxis": "x",
         "y": [
          null,
          0.011225444340505144,
          0.00946969696969697,
          0.01595744680851064,
          0.010517090271691499,
          null,
          0.011874469889737064,
          0.006773920406435225,
          null,
          0.012100259291270527,
          0.023827252419955324,
          0.022222222222222223,
          0.032809295967190705,
          0.01248884924174844,
          0.029431438127090304,
          0.005323868677905945,
          0.01160541586073501,
          0.004052684903748733,
          0.012307692307692308,
          0.02952602952602953,
          0.01992337164750958,
          0.02005469462169553,
          null,
          0.013136288998357962,
          0.010221465076660987,
          0.014851485148514853,
          0.01694915254237288,
          0.007272727272727272
         ],
         "yaxis": "y"
        }
       ],
       "layout": {
        "legend": {
         "title": {
          "text": "Filter Type"
         },
         "tracegroupgap": 0
        },
        "template": {
         "data": {
          "bar": [
           {
            "error_x": {
             "color": "#2a3f5f"
            },
            "error_y": {
             "color": "#2a3f5f"
            },
            "marker": {
             "line": {
              "color": "#E5ECF6",
              "width": 0.5
             },
             "pattern": {
              "fillmode": "overlay",
              "size": 10,
              "solidity": 0.2
             }
            },
            "type": "bar"
           }
          ],
          "barpolar": [
           {
            "marker": {
             "line": {
              "color": "#E5ECF6",
              "width": 0.5
             },
             "pattern": {
              "fillmode": "overlay",
              "size": 10,
              "solidity": 0.2
             }
            },
            "type": "barpolar"
           }
          ],
          "carpet": [
           {
            "aaxis": {
             "endlinecolor": "#2a3f5f",
             "gridcolor": "white",
             "linecolor": "white",
             "minorgridcolor": "white",
             "startlinecolor": "#2a3f5f"
            },
            "baxis": {
             "endlinecolor": "#2a3f5f",
             "gridcolor": "white",
             "linecolor": "white",
             "minorgridcolor": "white",
             "startlinecolor": "#2a3f5f"
            },
            "type": "carpet"
           }
          ],
          "choropleth": [
           {
            "colorbar": {
             "outlinewidth": 0,
             "ticks": ""
            },
            "type": "choropleth"
           }
          ],
          "contour": [
           {
            "colorbar": {
             "outlinewidth": 0,
             "ticks": ""
            },
            "colorscale": [
             [
              0,
              "#0d0887"
             ],
             [
              0.1111111111111111,
              "#46039f"
             ],
             [
              0.2222222222222222,
              "#7201a8"
             ],
             [
              0.3333333333333333,
              "#9c179e"
             ],
             [
              0.4444444444444444,
              "#bd3786"
             ],
             [
              0.5555555555555556,
              "#d8576b"
             ],
             [
              0.6666666666666666,
              "#ed7953"
             ],
             [
              0.7777777777777778,
              "#fb9f3a"
             ],
             [
              0.8888888888888888,
              "#fdca26"
             ],
             [
              1,
              "#f0f921"
             ]
            ],
            "type": "contour"
           }
          ],
          "contourcarpet": [
           {
            "colorbar": {
             "outlinewidth": 0,
             "ticks": ""
            },
            "type": "contourcarpet"
           }
          ],
          "heatmap": [
           {
            "colorbar": {
             "outlinewidth": 0,
             "ticks": ""
            },
            "colorscale": [
             [
              0,
              "#0d0887"
             ],
             [
              0.1111111111111111,
              "#46039f"
             ],
             [
              0.2222222222222222,
              "#7201a8"
             ],
             [
              0.3333333333333333,
              "#9c179e"
             ],
             [
              0.4444444444444444,
              "#bd3786"
             ],
             [
              0.5555555555555556,
              "#d8576b"
             ],
             [
              0.6666666666666666,
              "#ed7953"
             ],
             [
              0.7777777777777778,
              "#fb9f3a"
             ],
             [
              0.8888888888888888,
              "#fdca26"
             ],
             [
              1,
              "#f0f921"
             ]
            ],
            "type": "heatmap"
           }
          ],
          "heatmapgl": [
           {
            "colorbar": {
             "outlinewidth": 0,
             "ticks": ""
            },
            "colorscale": [
             [
              0,
              "#0d0887"
             ],
             [
              0.1111111111111111,
              "#46039f"
             ],
             [
              0.2222222222222222,
              "#7201a8"
             ],
             [
              0.3333333333333333,
              "#9c179e"
             ],
             [
              0.4444444444444444,
              "#bd3786"
             ],
             [
              0.5555555555555556,
              "#d8576b"
             ],
             [
              0.6666666666666666,
              "#ed7953"
             ],
             [
              0.7777777777777778,
              "#fb9f3a"
             ],
             [
              0.8888888888888888,
              "#fdca26"
             ],
             [
              1,
              "#f0f921"
             ]
            ],
            "type": "heatmapgl"
           }
          ],
          "histogram": [
           {
            "marker": {
             "pattern": {
              "fillmode": "overlay",
              "size": 10,
              "solidity": 0.2
             }
            },
            "type": "histogram"
           }
          ],
          "histogram2d": [
           {
            "colorbar": {
             "outlinewidth": 0,
             "ticks": ""
            },
            "colorscale": [
             [
              0,
              "#0d0887"
             ],
             [
              0.1111111111111111,
              "#46039f"
             ],
             [
              0.2222222222222222,
              "#7201a8"
             ],
             [
              0.3333333333333333,
              "#9c179e"
             ],
             [
              0.4444444444444444,
              "#bd3786"
             ],
             [
              0.5555555555555556,
              "#d8576b"
             ],
             [
              0.6666666666666666,
              "#ed7953"
             ],
             [
              0.7777777777777778,
              "#fb9f3a"
             ],
             [
              0.8888888888888888,
              "#fdca26"
             ],
             [
              1,
              "#f0f921"
             ]
            ],
            "type": "histogram2d"
           }
          ],
          "histogram2dcontour": [
           {
            "colorbar": {
             "outlinewidth": 0,
             "ticks": ""
            },
            "colorscale": [
             [
              0,
              "#0d0887"
             ],
             [
              0.1111111111111111,
              "#46039f"
             ],
             [
              0.2222222222222222,
              "#7201a8"
             ],
             [
              0.3333333333333333,
              "#9c179e"
             ],
             [
              0.4444444444444444,
              "#bd3786"
             ],
             [
              0.5555555555555556,
              "#d8576b"
             ],
             [
              0.6666666666666666,
              "#ed7953"
             ],
             [
              0.7777777777777778,
              "#fb9f3a"
             ],
             [
              0.8888888888888888,
              "#fdca26"
             ],
             [
              1,
              "#f0f921"
             ]
            ],
            "type": "histogram2dcontour"
           }
          ],
          "mesh3d": [
           {
            "colorbar": {
             "outlinewidth": 0,
             "ticks": ""
            },
            "type": "mesh3d"
           }
          ],
          "parcoords": [
           {
            "line": {
             "colorbar": {
              "outlinewidth": 0,
              "ticks": ""
             }
            },
            "type": "parcoords"
           }
          ],
          "pie": [
           {
            "automargin": true,
            "type": "pie"
           }
          ],
          "scatter": [
           {
            "fillpattern": {
             "fillmode": "overlay",
             "size": 10,
             "solidity": 0.2
            },
            "type": "scatter"
           }
          ],
          "scatter3d": [
           {
            "line": {
             "colorbar": {
              "outlinewidth": 0,
              "ticks": ""
             }
            },
            "marker": {
             "colorbar": {
              "outlinewidth": 0,
              "ticks": ""
             }
            },
            "type": "scatter3d"
           }
          ],
          "scattercarpet": [
           {
            "marker": {
             "colorbar": {
              "outlinewidth": 0,
              "ticks": ""
             }
            },
            "type": "scattercarpet"
           }
          ],
          "scattergeo": [
           {
            "marker": {
             "colorbar": {
              "outlinewidth": 0,
              "ticks": ""
             }
            },
            "type": "scattergeo"
           }
          ],
          "scattergl": [
           {
            "marker": {
             "colorbar": {
              "outlinewidth": 0,
              "ticks": ""
             }
            },
            "type": "scattergl"
           }
          ],
          "scattermapbox": [
           {
            "marker": {
             "colorbar": {
              "outlinewidth": 0,
              "ticks": ""
             }
            },
            "type": "scattermapbox"
           }
          ],
          "scatterpolar": [
           {
            "marker": {
             "colorbar": {
              "outlinewidth": 0,
              "ticks": ""
             }
            },
            "type": "scatterpolar"
           }
          ],
          "scatterpolargl": [
           {
            "marker": {
             "colorbar": {
              "outlinewidth": 0,
              "ticks": ""
             }
            },
            "type": "scatterpolargl"
           }
          ],
          "scatterternary": [
           {
            "marker": {
             "colorbar": {
              "outlinewidth": 0,
              "ticks": ""
             }
            },
            "type": "scatterternary"
           }
          ],
          "surface": [
           {
            "colorbar": {
             "outlinewidth": 0,
             "ticks": ""
            },
            "colorscale": [
             [
              0,
              "#0d0887"
             ],
             [
              0.1111111111111111,
              "#46039f"
             ],
             [
              0.2222222222222222,
              "#7201a8"
             ],
             [
              0.3333333333333333,
              "#9c179e"
             ],
             [
              0.4444444444444444,
              "#bd3786"
             ],
             [
              0.5555555555555556,
              "#d8576b"
             ],
             [
              0.6666666666666666,
              "#ed7953"
             ],
             [
              0.7777777777777778,
              "#fb9f3a"
             ],
             [
              0.8888888888888888,
              "#fdca26"
             ],
             [
              1,
              "#f0f921"
             ]
            ],
            "type": "surface"
           }
          ],
          "table": [
           {
            "cells": {
             "fill": {
              "color": "#EBF0F8"
             },
             "line": {
              "color": "white"
             }
            },
            "header": {
             "fill": {
              "color": "#C8D4E3"
             },
             "line": {
              "color": "white"
             }
            },
            "type": "table"
           }
          ]
         },
         "layout": {
          "annotationdefaults": {
           "arrowcolor": "#2a3f5f",
           "arrowhead": 0,
           "arrowwidth": 1
          },
          "autotypenumbers": "strict",
          "coloraxis": {
           "colorbar": {
            "outlinewidth": 0,
            "ticks": ""
           }
          },
          "colorscale": {
           "diverging": [
            [
             0,
             "#8e0152"
            ],
            [
             0.1,
             "#c51b7d"
            ],
            [
             0.2,
             "#de77ae"
            ],
            [
             0.3,
             "#f1b6da"
            ],
            [
             0.4,
             "#fde0ef"
            ],
            [
             0.5,
             "#f7f7f7"
            ],
            [
             0.6,
             "#e6f5d0"
            ],
            [
             0.7,
             "#b8e186"
            ],
            [
             0.8,
             "#7fbc41"
            ],
            [
             0.9,
             "#4d9221"
            ],
            [
             1,
             "#276419"
            ]
           ],
           "sequential": [
            [
             0,
             "#0d0887"
            ],
            [
             0.1111111111111111,
             "#46039f"
            ],
            [
             0.2222222222222222,
             "#7201a8"
            ],
            [
             0.3333333333333333,
             "#9c179e"
            ],
            [
             0.4444444444444444,
             "#bd3786"
            ],
            [
             0.5555555555555556,
             "#d8576b"
            ],
            [
             0.6666666666666666,
             "#ed7953"
            ],
            [
             0.7777777777777778,
             "#fb9f3a"
            ],
            [
             0.8888888888888888,
             "#fdca26"
            ],
            [
             1,
             "#f0f921"
            ]
           ],
           "sequentialminus": [
            [
             0,
             "#0d0887"
            ],
            [
             0.1111111111111111,
             "#46039f"
            ],
            [
             0.2222222222222222,
             "#7201a8"
            ],
            [
             0.3333333333333333,
             "#9c179e"
            ],
            [
             0.4444444444444444,
             "#bd3786"
            ],
            [
             0.5555555555555556,
             "#d8576b"
            ],
            [
             0.6666666666666666,
             "#ed7953"
            ],
            [
             0.7777777777777778,
             "#fb9f3a"
            ],
            [
             0.8888888888888888,
             "#fdca26"
            ],
            [
             1,
             "#f0f921"
            ]
           ]
          },
          "colorway": [
           "#636efa",
           "#EF553B",
           "#00cc96",
           "#ab63fa",
           "#FFA15A",
           "#19d3f3",
           "#FF6692",
           "#B6E880",
           "#FF97FF",
           "#FECB52"
          ],
          "font": {
           "color": "#2a3f5f"
          },
          "geo": {
           "bgcolor": "white",
           "lakecolor": "white",
           "landcolor": "#E5ECF6",
           "showlakes": true,
           "showland": true,
           "subunitcolor": "white"
          },
          "hoverlabel": {
           "align": "left"
          },
          "hovermode": "closest",
          "mapbox": {
           "style": "light"
          },
          "paper_bgcolor": "white",
          "plot_bgcolor": "#E5ECF6",
          "polar": {
           "angularaxis": {
            "gridcolor": "white",
            "linecolor": "white",
            "ticks": ""
           },
           "bgcolor": "#E5ECF6",
           "radialaxis": {
            "gridcolor": "white",
            "linecolor": "white",
            "ticks": ""
           }
          },
          "scene": {
           "xaxis": {
            "backgroundcolor": "#E5ECF6",
            "gridcolor": "white",
            "gridwidth": 2,
            "linecolor": "white",
            "showbackground": true,
            "ticks": "",
            "zerolinecolor": "white"
           },
           "yaxis": {
            "backgroundcolor": "#E5ECF6",
            "gridcolor": "white",
            "gridwidth": 2,
            "linecolor": "white",
            "showbackground": true,
            "ticks": "",
            "zerolinecolor": "white"
           },
           "zaxis": {
            "backgroundcolor": "#E5ECF6",
            "gridcolor": "white",
            "gridwidth": 2,
            "linecolor": "white",
            "showbackground": true,
            "ticks": "",
            "zerolinecolor": "white"
           }
          },
          "shapedefaults": {
           "line": {
            "color": "#2a3f5f"
           }
          },
          "ternary": {
           "aaxis": {
            "gridcolor": "white",
            "linecolor": "white",
            "ticks": ""
           },
           "baxis": {
            "gridcolor": "white",
            "linecolor": "white",
            "ticks": ""
           },
           "bgcolor": "#E5ECF6",
           "caxis": {
            "gridcolor": "white",
            "linecolor": "white",
            "ticks": ""
           }
          },
          "title": {
           "x": 0.05
          },
          "xaxis": {
           "automargin": true,
           "gridcolor": "white",
           "linecolor": "white",
           "ticks": "",
           "title": {
            "standoff": 15
           },
           "zerolinecolor": "white",
           "zerolinewidth": 2
          },
          "yaxis": {
           "automargin": true,
           "gridcolor": "white",
           "linecolor": "white",
           "ticks": "",
           "title": {
            "standoff": 15
           },
           "zerolinecolor": "white",
           "zerolinewidth": 2
          }
         }
        },
        "title": {
         "text": "F1 Score for Variant Detection"
        },
        "xaxis": {
         "anchor": "y",
         "categoryarray": [
          "Raw",
          "ASSESS",
          "PASS",
          "STRICT",
          "Comprehensive",
          "Ultra Strict",
          "SD"
         ],
         "categoryorder": "array",
         "domain": [
          0,
          1
         ],
         "title": {
          "text": "Filter Type"
         }
        },
        "yaxis": {
         "anchor": "x",
         "domain": [
          0,
          1
         ],
         "title": {
          "text": "Log F1 Score"
         },
         "type": "log"
        }
       }
      }
     },
     "metadata": {},
     "output_type": "display_data"
    }
   ],
   "source": [
    "# Plot Settings\n",
    "\n",
    "#Plot settings - order and color palette\n",
    "column_order = ['Raw', 'ASSESS', 'PASS', 'STRICT', 'Comprehensive', 'Ultra Strict']\n",
    "CB_color_cycle = ['#377eb8', '#ff7f00', '#4daf4a',\n",
    "                  '#f781bf', '#a65628', '#984ea3',\n",
    "                  '#999999', '#e41a1c', '#dede00']\n",
    "colours = {\n",
    "    'Raw': CB_color_cycle[0],\n",
    "    'ASSESS': CB_color_cycle[1],\n",
    "    'PASS': CB_color_cycle[2],\n",
    "    'Strict': CB_color_cycle[3],\n",
    "    'Comprehensive': CB_color_cycle[4],\n",
    "    'Ultra Strict': CB_color_cycle[5]\n",
    "}\n",
    "\n",
    "# Plotting F1 metrics\n",
    "fig = px.scatter(df_multi, x='Filter_Type', y='F1_Score', title='F1 Score for Variant Detection',\n",
    "             labels={'F1_Score': 'F1 Score', 'Filter_Type': 'Filter Type'},\n",
    "             category_orders={'Filter_Type': column_order},\n",
    "             color='Filter_Type', color_discrete_map=colours)\n",
    "\n",
    "fig.show()\n",
    "fig.write_image(\"F1_Score.png\", format=\"png\")\n",
    "# Set y-axis to log scale\n",
    "fig.update_layout(yaxis_type=\"log\", yaxis_title='Log F1 Score')\n",
    "\n",
    "fig.show()\n",
    "fig.write_image(\"F1_Score_log_scale.png\", format=\"png\")"
   ]
  },
  {
   "cell_type": "code",
   "execution_count": 68,
   "metadata": {},
   "outputs": [
    {
     "data": {
      "application/vnd.plotly.v1+json": {
       "config": {
        "plotlyServerURL": "https://plot.ly"
       },
       "data": [
        {
         "marker": {
          "color": "#377eb8"
         },
         "type": "bar",
         "x": [
          "ASSESS>=1",
          "ASSESS>=2",
          "ASSESS>=3",
          "ASSESS>=4",
          "ASSESS=5"
         ],
         "y": [
          0.9904761904761905,
          0.9520838790061479,
          0.8642257054336886,
          0.721491604340178,
          0.5470239349573714
         ]
        }
       ],
       "layout": {
        "template": {
         "data": {
          "bar": [
           {
            "error_x": {
             "color": "#2a3f5f"
            },
            "error_y": {
             "color": "#2a3f5f"
            },
            "marker": {
             "line": {
              "color": "#E5ECF6",
              "width": 0.5
             },
             "pattern": {
              "fillmode": "overlay",
              "size": 10,
              "solidity": 0.2
             }
            },
            "type": "bar"
           }
          ],
          "barpolar": [
           {
            "marker": {
             "line": {
              "color": "#E5ECF6",
              "width": 0.5
             },
             "pattern": {
              "fillmode": "overlay",
              "size": 10,
              "solidity": 0.2
             }
            },
            "type": "barpolar"
           }
          ],
          "carpet": [
           {
            "aaxis": {
             "endlinecolor": "#2a3f5f",
             "gridcolor": "white",
             "linecolor": "white",
             "minorgridcolor": "white",
             "startlinecolor": "#2a3f5f"
            },
            "baxis": {
             "endlinecolor": "#2a3f5f",
             "gridcolor": "white",
             "linecolor": "white",
             "minorgridcolor": "white",
             "startlinecolor": "#2a3f5f"
            },
            "type": "carpet"
           }
          ],
          "choropleth": [
           {
            "colorbar": {
             "outlinewidth": 0,
             "ticks": ""
            },
            "type": "choropleth"
           }
          ],
          "contour": [
           {
            "colorbar": {
             "outlinewidth": 0,
             "ticks": ""
            },
            "colorscale": [
             [
              0,
              "#0d0887"
             ],
             [
              0.1111111111111111,
              "#46039f"
             ],
             [
              0.2222222222222222,
              "#7201a8"
             ],
             [
              0.3333333333333333,
              "#9c179e"
             ],
             [
              0.4444444444444444,
              "#bd3786"
             ],
             [
              0.5555555555555556,
              "#d8576b"
             ],
             [
              0.6666666666666666,
              "#ed7953"
             ],
             [
              0.7777777777777778,
              "#fb9f3a"
             ],
             [
              0.8888888888888888,
              "#fdca26"
             ],
             [
              1,
              "#f0f921"
             ]
            ],
            "type": "contour"
           }
          ],
          "contourcarpet": [
           {
            "colorbar": {
             "outlinewidth": 0,
             "ticks": ""
            },
            "type": "contourcarpet"
           }
          ],
          "heatmap": [
           {
            "colorbar": {
             "outlinewidth": 0,
             "ticks": ""
            },
            "colorscale": [
             [
              0,
              "#0d0887"
             ],
             [
              0.1111111111111111,
              "#46039f"
             ],
             [
              0.2222222222222222,
              "#7201a8"
             ],
             [
              0.3333333333333333,
              "#9c179e"
             ],
             [
              0.4444444444444444,
              "#bd3786"
             ],
             [
              0.5555555555555556,
              "#d8576b"
             ],
             [
              0.6666666666666666,
              "#ed7953"
             ],
             [
              0.7777777777777778,
              "#fb9f3a"
             ],
             [
              0.8888888888888888,
              "#fdca26"
             ],
             [
              1,
              "#f0f921"
             ]
            ],
            "type": "heatmap"
           }
          ],
          "heatmapgl": [
           {
            "colorbar": {
             "outlinewidth": 0,
             "ticks": ""
            },
            "colorscale": [
             [
              0,
              "#0d0887"
             ],
             [
              0.1111111111111111,
              "#46039f"
             ],
             [
              0.2222222222222222,
              "#7201a8"
             ],
             [
              0.3333333333333333,
              "#9c179e"
             ],
             [
              0.4444444444444444,
              "#bd3786"
             ],
             [
              0.5555555555555556,
              "#d8576b"
             ],
             [
              0.6666666666666666,
              "#ed7953"
             ],
             [
              0.7777777777777778,
              "#fb9f3a"
             ],
             [
              0.8888888888888888,
              "#fdca26"
             ],
             [
              1,
              "#f0f921"
             ]
            ],
            "type": "heatmapgl"
           }
          ],
          "histogram": [
           {
            "marker": {
             "pattern": {
              "fillmode": "overlay",
              "size": 10,
              "solidity": 0.2
             }
            },
            "type": "histogram"
           }
          ],
          "histogram2d": [
           {
            "colorbar": {
             "outlinewidth": 0,
             "ticks": ""
            },
            "colorscale": [
             [
              0,
              "#0d0887"
             ],
             [
              0.1111111111111111,
              "#46039f"
             ],
             [
              0.2222222222222222,
              "#7201a8"
             ],
             [
              0.3333333333333333,
              "#9c179e"
             ],
             [
              0.4444444444444444,
              "#bd3786"
             ],
             [
              0.5555555555555556,
              "#d8576b"
             ],
             [
              0.6666666666666666,
              "#ed7953"
             ],
             [
              0.7777777777777778,
              "#fb9f3a"
             ],
             [
              0.8888888888888888,
              "#fdca26"
             ],
             [
              1,
              "#f0f921"
             ]
            ],
            "type": "histogram2d"
           }
          ],
          "histogram2dcontour": [
           {
            "colorbar": {
             "outlinewidth": 0,
             "ticks": ""
            },
            "colorscale": [
             [
              0,
              "#0d0887"
             ],
             [
              0.1111111111111111,
              "#46039f"
             ],
             [
              0.2222222222222222,
              "#7201a8"
             ],
             [
              0.3333333333333333,
              "#9c179e"
             ],
             [
              0.4444444444444444,
              "#bd3786"
             ],
             [
              0.5555555555555556,
              "#d8576b"
             ],
             [
              0.6666666666666666,
              "#ed7953"
             ],
             [
              0.7777777777777778,
              "#fb9f3a"
             ],
             [
              0.8888888888888888,
              "#fdca26"
             ],
             [
              1,
              "#f0f921"
             ]
            ],
            "type": "histogram2dcontour"
           }
          ],
          "mesh3d": [
           {
            "colorbar": {
             "outlinewidth": 0,
             "ticks": ""
            },
            "type": "mesh3d"
           }
          ],
          "parcoords": [
           {
            "line": {
             "colorbar": {
              "outlinewidth": 0,
              "ticks": ""
             }
            },
            "type": "parcoords"
           }
          ],
          "pie": [
           {
            "automargin": true,
            "type": "pie"
           }
          ],
          "scatter": [
           {
            "fillpattern": {
             "fillmode": "overlay",
             "size": 10,
             "solidity": 0.2
            },
            "type": "scatter"
           }
          ],
          "scatter3d": [
           {
            "line": {
             "colorbar": {
              "outlinewidth": 0,
              "ticks": ""
             }
            },
            "marker": {
             "colorbar": {
              "outlinewidth": 0,
              "ticks": ""
             }
            },
            "type": "scatter3d"
           }
          ],
          "scattercarpet": [
           {
            "marker": {
             "colorbar": {
              "outlinewidth": 0,
              "ticks": ""
             }
            },
            "type": "scattercarpet"
           }
          ],
          "scattergeo": [
           {
            "marker": {
             "colorbar": {
              "outlinewidth": 0,
              "ticks": ""
             }
            },
            "type": "scattergeo"
           }
          ],
          "scattergl": [
           {
            "marker": {
             "colorbar": {
              "outlinewidth": 0,
              "ticks": ""
             }
            },
            "type": "scattergl"
           }
          ],
          "scattermapbox": [
           {
            "marker": {
             "colorbar": {
              "outlinewidth": 0,
              "ticks": ""
             }
            },
            "type": "scattermapbox"
           }
          ],
          "scatterpolar": [
           {
            "marker": {
             "colorbar": {
              "outlinewidth": 0,
              "ticks": ""
             }
            },
            "type": "scatterpolar"
           }
          ],
          "scatterpolargl": [
           {
            "marker": {
             "colorbar": {
              "outlinewidth": 0,
              "ticks": ""
             }
            },
            "type": "scatterpolargl"
           }
          ],
          "scatterternary": [
           {
            "marker": {
             "colorbar": {
              "outlinewidth": 0,
              "ticks": ""
             }
            },
            "type": "scatterternary"
           }
          ],
          "surface": [
           {
            "colorbar": {
             "outlinewidth": 0,
             "ticks": ""
            },
            "colorscale": [
             [
              0,
              "#0d0887"
             ],
             [
              0.1111111111111111,
              "#46039f"
             ],
             [
              0.2222222222222222,
              "#7201a8"
             ],
             [
              0.3333333333333333,
              "#9c179e"
             ],
             [
              0.4444444444444444,
              "#bd3786"
             ],
             [
              0.5555555555555556,
              "#d8576b"
             ],
             [
              0.6666666666666666,
              "#ed7953"
             ],
             [
              0.7777777777777778,
              "#fb9f3a"
             ],
             [
              0.8888888888888888,
              "#fdca26"
             ],
             [
              1,
              "#f0f921"
             ]
            ],
            "type": "surface"
           }
          ],
          "table": [
           {
            "cells": {
             "fill": {
              "color": "#EBF0F8"
             },
             "line": {
              "color": "white"
             }
            },
            "header": {
             "fill": {
              "color": "#C8D4E3"
             },
             "line": {
              "color": "white"
             }
            },
            "type": "table"
           }
          ]
         },
         "layout": {
          "annotationdefaults": {
           "arrowcolor": "#2a3f5f",
           "arrowhead": 0,
           "arrowwidth": 1
          },
          "autotypenumbers": "strict",
          "coloraxis": {
           "colorbar": {
            "outlinewidth": 0,
            "ticks": ""
           }
          },
          "colorscale": {
           "diverging": [
            [
             0,
             "#8e0152"
            ],
            [
             0.1,
             "#c51b7d"
            ],
            [
             0.2,
             "#de77ae"
            ],
            [
             0.3,
             "#f1b6da"
            ],
            [
             0.4,
             "#fde0ef"
            ],
            [
             0.5,
             "#f7f7f7"
            ],
            [
             0.6,
             "#e6f5d0"
            ],
            [
             0.7,
             "#b8e186"
            ],
            [
             0.8,
             "#7fbc41"
            ],
            [
             0.9,
             "#4d9221"
            ],
            [
             1,
             "#276419"
            ]
           ],
           "sequential": [
            [
             0,
             "#0d0887"
            ],
            [
             0.1111111111111111,
             "#46039f"
            ],
            [
             0.2222222222222222,
             "#7201a8"
            ],
            [
             0.3333333333333333,
             "#9c179e"
            ],
            [
             0.4444444444444444,
             "#bd3786"
            ],
            [
             0.5555555555555556,
             "#d8576b"
            ],
            [
             0.6666666666666666,
             "#ed7953"
            ],
            [
             0.7777777777777778,
             "#fb9f3a"
            ],
            [
             0.8888888888888888,
             "#fdca26"
            ],
            [
             1,
             "#f0f921"
            ]
           ],
           "sequentialminus": [
            [
             0,
             "#0d0887"
            ],
            [
             0.1111111111111111,
             "#46039f"
            ],
            [
             0.2222222222222222,
             "#7201a8"
            ],
            [
             0.3333333333333333,
             "#9c179e"
            ],
            [
             0.4444444444444444,
             "#bd3786"
            ],
            [
             0.5555555555555556,
             "#d8576b"
            ],
            [
             0.6666666666666666,
             "#ed7953"
            ],
            [
             0.7777777777777778,
             "#fb9f3a"
            ],
            [
             0.8888888888888888,
             "#fdca26"
            ],
            [
             1,
             "#f0f921"
            ]
           ]
          },
          "colorway": [
           "#636efa",
           "#EF553B",
           "#00cc96",
           "#ab63fa",
           "#FFA15A",
           "#19d3f3",
           "#FF6692",
           "#B6E880",
           "#FF97FF",
           "#FECB52"
          ],
          "font": {
           "color": "#2a3f5f"
          },
          "geo": {
           "bgcolor": "white",
           "lakecolor": "white",
           "landcolor": "#E5ECF6",
           "showlakes": true,
           "showland": true,
           "subunitcolor": "white"
          },
          "hoverlabel": {
           "align": "left"
          },
          "hovermode": "closest",
          "mapbox": {
           "style": "light"
          },
          "paper_bgcolor": "white",
          "plot_bgcolor": "#E5ECF6",
          "polar": {
           "angularaxis": {
            "gridcolor": "white",
            "linecolor": "white",
            "ticks": ""
           },
           "bgcolor": "#E5ECF6",
           "radialaxis": {
            "gridcolor": "white",
            "linecolor": "white",
            "ticks": ""
           }
          },
          "scene": {
           "xaxis": {
            "backgroundcolor": "#E5ECF6",
            "gridcolor": "white",
            "gridwidth": 2,
            "linecolor": "white",
            "showbackground": true,
            "ticks": "",
            "zerolinecolor": "white"
           },
           "yaxis": {
            "backgroundcolor": "#E5ECF6",
            "gridcolor": "white",
            "gridwidth": 2,
            "linecolor": "white",
            "showbackground": true,
            "ticks": "",
            "zerolinecolor": "white"
           },
           "zaxis": {
            "backgroundcolor": "#E5ECF6",
            "gridcolor": "white",
            "gridwidth": 2,
            "linecolor": "white",
            "showbackground": true,
            "ticks": "",
            "zerolinecolor": "white"
           }
          },
          "shapedefaults": {
           "line": {
            "color": "#2a3f5f"
           }
          },
          "ternary": {
           "aaxis": {
            "gridcolor": "white",
            "linecolor": "white",
            "ticks": ""
           },
           "baxis": {
            "gridcolor": "white",
            "linecolor": "white",
            "ticks": ""
           },
           "bgcolor": "#E5ECF6",
           "caxis": {
            "gridcolor": "white",
            "linecolor": "white",
            "ticks": ""
           }
          },
          "title": {
           "x": 0.05
          },
          "xaxis": {
           "automargin": true,
           "gridcolor": "white",
           "linecolor": "white",
           "ticks": "",
           "title": {
            "standoff": 15
           },
           "zerolinecolor": "white",
           "zerolinewidth": 2
          },
          "yaxis": {
           "automargin": true,
           "gridcolor": "white",
           "linecolor": "white",
           "ticks": "",
           "title": {
            "standoff": 15
           },
           "zerolinecolor": "white",
           "zerolinewidth": 2
          }
         }
        },
        "title": {
         "text": "Recall for Different ASSESS Filters"
        },
        "xaxis": {
         "title": {
          "text": "ASSESS Filter"
         }
        },
        "yaxis": {
         "title": {
          "text": "Recall"
         }
        }
       }
      }
     },
     "metadata": {},
     "output_type": "display_data"
    },
    {
     "data": {
      "application/vnd.plotly.v1+json": {
       "config": {
        "plotlyServerURL": "https://plot.ly"
       },
       "data": [
        {
         "marker": {
          "color": "#377eb8"
         },
         "type": "bar",
         "x": [
          "ASSESS>=1",
          "ASSESS>=2",
          "ASSESS>=3",
          "ASSESS>=4",
          "ASSESS=5"
         ],
         "y": [
          14886.392857142857,
          13512.67857142857,
          13379.32142857143,
          10006.107142857143,
          6386.25
         ]
        }
       ],
       "layout": {
        "template": {
         "data": {
          "bar": [
           {
            "error_x": {
             "color": "#2a3f5f"
            },
            "error_y": {
             "color": "#2a3f5f"
            },
            "marker": {
             "line": {
              "color": "#E5ECF6",
              "width": 0.5
             },
             "pattern": {
              "fillmode": "overlay",
              "size": 10,
              "solidity": 0.2
             }
            },
            "type": "bar"
           }
          ],
          "barpolar": [
           {
            "marker": {
             "line": {
              "color": "#E5ECF6",
              "width": 0.5
             },
             "pattern": {
              "fillmode": "overlay",
              "size": 10,
              "solidity": 0.2
             }
            },
            "type": "barpolar"
           }
          ],
          "carpet": [
           {
            "aaxis": {
             "endlinecolor": "#2a3f5f",
             "gridcolor": "white",
             "linecolor": "white",
             "minorgridcolor": "white",
             "startlinecolor": "#2a3f5f"
            },
            "baxis": {
             "endlinecolor": "#2a3f5f",
             "gridcolor": "white",
             "linecolor": "white",
             "minorgridcolor": "white",
             "startlinecolor": "#2a3f5f"
            },
            "type": "carpet"
           }
          ],
          "choropleth": [
           {
            "colorbar": {
             "outlinewidth": 0,
             "ticks": ""
            },
            "type": "choropleth"
           }
          ],
          "contour": [
           {
            "colorbar": {
             "outlinewidth": 0,
             "ticks": ""
            },
            "colorscale": [
             [
              0,
              "#0d0887"
             ],
             [
              0.1111111111111111,
              "#46039f"
             ],
             [
              0.2222222222222222,
              "#7201a8"
             ],
             [
              0.3333333333333333,
              "#9c179e"
             ],
             [
              0.4444444444444444,
              "#bd3786"
             ],
             [
              0.5555555555555556,
              "#d8576b"
             ],
             [
              0.6666666666666666,
              "#ed7953"
             ],
             [
              0.7777777777777778,
              "#fb9f3a"
             ],
             [
              0.8888888888888888,
              "#fdca26"
             ],
             [
              1,
              "#f0f921"
             ]
            ],
            "type": "contour"
           }
          ],
          "contourcarpet": [
           {
            "colorbar": {
             "outlinewidth": 0,
             "ticks": ""
            },
            "type": "contourcarpet"
           }
          ],
          "heatmap": [
           {
            "colorbar": {
             "outlinewidth": 0,
             "ticks": ""
            },
            "colorscale": [
             [
              0,
              "#0d0887"
             ],
             [
              0.1111111111111111,
              "#46039f"
             ],
             [
              0.2222222222222222,
              "#7201a8"
             ],
             [
              0.3333333333333333,
              "#9c179e"
             ],
             [
              0.4444444444444444,
              "#bd3786"
             ],
             [
              0.5555555555555556,
              "#d8576b"
             ],
             [
              0.6666666666666666,
              "#ed7953"
             ],
             [
              0.7777777777777778,
              "#fb9f3a"
             ],
             [
              0.8888888888888888,
              "#fdca26"
             ],
             [
              1,
              "#f0f921"
             ]
            ],
            "type": "heatmap"
           }
          ],
          "heatmapgl": [
           {
            "colorbar": {
             "outlinewidth": 0,
             "ticks": ""
            },
            "colorscale": [
             [
              0,
              "#0d0887"
             ],
             [
              0.1111111111111111,
              "#46039f"
             ],
             [
              0.2222222222222222,
              "#7201a8"
             ],
             [
              0.3333333333333333,
              "#9c179e"
             ],
             [
              0.4444444444444444,
              "#bd3786"
             ],
             [
              0.5555555555555556,
              "#d8576b"
             ],
             [
              0.6666666666666666,
              "#ed7953"
             ],
             [
              0.7777777777777778,
              "#fb9f3a"
             ],
             [
              0.8888888888888888,
              "#fdca26"
             ],
             [
              1,
              "#f0f921"
             ]
            ],
            "type": "heatmapgl"
           }
          ],
          "histogram": [
           {
            "marker": {
             "pattern": {
              "fillmode": "overlay",
              "size": 10,
              "solidity": 0.2
             }
            },
            "type": "histogram"
           }
          ],
          "histogram2d": [
           {
            "colorbar": {
             "outlinewidth": 0,
             "ticks": ""
            },
            "colorscale": [
             [
              0,
              "#0d0887"
             ],
             [
              0.1111111111111111,
              "#46039f"
             ],
             [
              0.2222222222222222,
              "#7201a8"
             ],
             [
              0.3333333333333333,
              "#9c179e"
             ],
             [
              0.4444444444444444,
              "#bd3786"
             ],
             [
              0.5555555555555556,
              "#d8576b"
             ],
             [
              0.6666666666666666,
              "#ed7953"
             ],
             [
              0.7777777777777778,
              "#fb9f3a"
             ],
             [
              0.8888888888888888,
              "#fdca26"
             ],
             [
              1,
              "#f0f921"
             ]
            ],
            "type": "histogram2d"
           }
          ],
          "histogram2dcontour": [
           {
            "colorbar": {
             "outlinewidth": 0,
             "ticks": ""
            },
            "colorscale": [
             [
              0,
              "#0d0887"
             ],
             [
              0.1111111111111111,
              "#46039f"
             ],
             [
              0.2222222222222222,
              "#7201a8"
             ],
             [
              0.3333333333333333,
              "#9c179e"
             ],
             [
              0.4444444444444444,
              "#bd3786"
             ],
             [
              0.5555555555555556,
              "#d8576b"
             ],
             [
              0.6666666666666666,
              "#ed7953"
             ],
             [
              0.7777777777777778,
              "#fb9f3a"
             ],
             [
              0.8888888888888888,
              "#fdca26"
             ],
             [
              1,
              "#f0f921"
             ]
            ],
            "type": "histogram2dcontour"
           }
          ],
          "mesh3d": [
           {
            "colorbar": {
             "outlinewidth": 0,
             "ticks": ""
            },
            "type": "mesh3d"
           }
          ],
          "parcoords": [
           {
            "line": {
             "colorbar": {
              "outlinewidth": 0,
              "ticks": ""
             }
            },
            "type": "parcoords"
           }
          ],
          "pie": [
           {
            "automargin": true,
            "type": "pie"
           }
          ],
          "scatter": [
           {
            "fillpattern": {
             "fillmode": "overlay",
             "size": 10,
             "solidity": 0.2
            },
            "type": "scatter"
           }
          ],
          "scatter3d": [
           {
            "line": {
             "colorbar": {
              "outlinewidth": 0,
              "ticks": ""
             }
            },
            "marker": {
             "colorbar": {
              "outlinewidth": 0,
              "ticks": ""
             }
            },
            "type": "scatter3d"
           }
          ],
          "scattercarpet": [
           {
            "marker": {
             "colorbar": {
              "outlinewidth": 0,
              "ticks": ""
             }
            },
            "type": "scattercarpet"
           }
          ],
          "scattergeo": [
           {
            "marker": {
             "colorbar": {
              "outlinewidth": 0,
              "ticks": ""
             }
            },
            "type": "scattergeo"
           }
          ],
          "scattergl": [
           {
            "marker": {
             "colorbar": {
              "outlinewidth": 0,
              "ticks": ""
             }
            },
            "type": "scattergl"
           }
          ],
          "scattermapbox": [
           {
            "marker": {
             "colorbar": {
              "outlinewidth": 0,
              "ticks": ""
             }
            },
            "type": "scattermapbox"
           }
          ],
          "scatterpolar": [
           {
            "marker": {
             "colorbar": {
              "outlinewidth": 0,
              "ticks": ""
             }
            },
            "type": "scatterpolar"
           }
          ],
          "scatterpolargl": [
           {
            "marker": {
             "colorbar": {
              "outlinewidth": 0,
              "ticks": ""
             }
            },
            "type": "scatterpolargl"
           }
          ],
          "scatterternary": [
           {
            "marker": {
             "colorbar": {
              "outlinewidth": 0,
              "ticks": ""
             }
            },
            "type": "scatterternary"
           }
          ],
          "surface": [
           {
            "colorbar": {
             "outlinewidth": 0,
             "ticks": ""
            },
            "colorscale": [
             [
              0,
              "#0d0887"
             ],
             [
              0.1111111111111111,
              "#46039f"
             ],
             [
              0.2222222222222222,
              "#7201a8"
             ],
             [
              0.3333333333333333,
              "#9c179e"
             ],
             [
              0.4444444444444444,
              "#bd3786"
             ],
             [
              0.5555555555555556,
              "#d8576b"
             ],
             [
              0.6666666666666666,
              "#ed7953"
             ],
             [
              0.7777777777777778,
              "#fb9f3a"
             ],
             [
              0.8888888888888888,
              "#fdca26"
             ],
             [
              1,
              "#f0f921"
             ]
            ],
            "type": "surface"
           }
          ],
          "table": [
           {
            "cells": {
             "fill": {
              "color": "#EBF0F8"
             },
             "line": {
              "color": "white"
             }
            },
            "header": {
             "fill": {
              "color": "#C8D4E3"
             },
             "line": {
              "color": "white"
             }
            },
            "type": "table"
           }
          ]
         },
         "layout": {
          "annotationdefaults": {
           "arrowcolor": "#2a3f5f",
           "arrowhead": 0,
           "arrowwidth": 1
          },
          "autotypenumbers": "strict",
          "coloraxis": {
           "colorbar": {
            "outlinewidth": 0,
            "ticks": ""
           }
          },
          "colorscale": {
           "diverging": [
            [
             0,
             "#8e0152"
            ],
            [
             0.1,
             "#c51b7d"
            ],
            [
             0.2,
             "#de77ae"
            ],
            [
             0.3,
             "#f1b6da"
            ],
            [
             0.4,
             "#fde0ef"
            ],
            [
             0.5,
             "#f7f7f7"
            ],
            [
             0.6,
             "#e6f5d0"
            ],
            [
             0.7,
             "#b8e186"
            ],
            [
             0.8,
             "#7fbc41"
            ],
            [
             0.9,
             "#4d9221"
            ],
            [
             1,
             "#276419"
            ]
           ],
           "sequential": [
            [
             0,
             "#0d0887"
            ],
            [
             0.1111111111111111,
             "#46039f"
            ],
            [
             0.2222222222222222,
             "#7201a8"
            ],
            [
             0.3333333333333333,
             "#9c179e"
            ],
            [
             0.4444444444444444,
             "#bd3786"
            ],
            [
             0.5555555555555556,
             "#d8576b"
            ],
            [
             0.6666666666666666,
             "#ed7953"
            ],
            [
             0.7777777777777778,
             "#fb9f3a"
            ],
            [
             0.8888888888888888,
             "#fdca26"
            ],
            [
             1,
             "#f0f921"
            ]
           ],
           "sequentialminus": [
            [
             0,
             "#0d0887"
            ],
            [
             0.1111111111111111,
             "#46039f"
            ],
            [
             0.2222222222222222,
             "#7201a8"
            ],
            [
             0.3333333333333333,
             "#9c179e"
            ],
            [
             0.4444444444444444,
             "#bd3786"
            ],
            [
             0.5555555555555556,
             "#d8576b"
            ],
            [
             0.6666666666666666,
             "#ed7953"
            ],
            [
             0.7777777777777778,
             "#fb9f3a"
            ],
            [
             0.8888888888888888,
             "#fdca26"
            ],
            [
             1,
             "#f0f921"
            ]
           ]
          },
          "colorway": [
           "#636efa",
           "#EF553B",
           "#00cc96",
           "#ab63fa",
           "#FFA15A",
           "#19d3f3",
           "#FF6692",
           "#B6E880",
           "#FF97FF",
           "#FECB52"
          ],
          "font": {
           "color": "#2a3f5f"
          },
          "geo": {
           "bgcolor": "white",
           "lakecolor": "white",
           "landcolor": "#E5ECF6",
           "showlakes": true,
           "showland": true,
           "subunitcolor": "white"
          },
          "hoverlabel": {
           "align": "left"
          },
          "hovermode": "closest",
          "mapbox": {
           "style": "light"
          },
          "paper_bgcolor": "white",
          "plot_bgcolor": "#E5ECF6",
          "polar": {
           "angularaxis": {
            "gridcolor": "white",
            "linecolor": "white",
            "ticks": ""
           },
           "bgcolor": "#E5ECF6",
           "radialaxis": {
            "gridcolor": "white",
            "linecolor": "white",
            "ticks": ""
           }
          },
          "scene": {
           "xaxis": {
            "backgroundcolor": "#E5ECF6",
            "gridcolor": "white",
            "gridwidth": 2,
            "linecolor": "white",
            "showbackground": true,
            "ticks": "",
            "zerolinecolor": "white"
           },
           "yaxis": {
            "backgroundcolor": "#E5ECF6",
            "gridcolor": "white",
            "gridwidth": 2,
            "linecolor": "white",
            "showbackground": true,
            "ticks": "",
            "zerolinecolor": "white"
           },
           "zaxis": {
            "backgroundcolor": "#E5ECF6",
            "gridcolor": "white",
            "gridwidth": 2,
            "linecolor": "white",
            "showbackground": true,
            "ticks": "",
            "zerolinecolor": "white"
           }
          },
          "shapedefaults": {
           "line": {
            "color": "#2a3f5f"
           }
          },
          "ternary": {
           "aaxis": {
            "gridcolor": "white",
            "linecolor": "white",
            "ticks": ""
           },
           "baxis": {
            "gridcolor": "white",
            "linecolor": "white",
            "ticks": ""
           },
           "bgcolor": "#E5ECF6",
           "caxis": {
            "gridcolor": "white",
            "linecolor": "white",
            "ticks": ""
           }
          },
          "title": {
           "x": 0.05
          },
          "xaxis": {
           "automargin": true,
           "gridcolor": "white",
           "linecolor": "white",
           "ticks": "",
           "title": {
            "standoff": 15
           },
           "zerolinecolor": "white",
           "zerolinewidth": 2
          },
          "yaxis": {
           "automargin": true,
           "gridcolor": "white",
           "linecolor": "white",
           "ticks": "",
           "title": {
            "standoff": 15
           },
           "zerolinecolor": "white",
           "zerolinewidth": 2
          }
         }
        },
        "title": {
         "text": "Number of Total Variants for Different ASSESS Filters"
        },
        "xaxis": {
         "title": {
          "text": "ASSESS Filter"
         }
        },
        "yaxis": {
         "title": {
          "text": "Total Variants"
         }
        }
       }
      }
     },
     "metadata": {},
     "output_type": "display_data"
    },
    {
     "name": "stderr",
     "output_type": "stream",
     "text": [
      "/tmp/ipykernel_23249/1789510058.py:66: SettingWithCopyWarning:\n",
      "\n",
      "\n",
      "A value is trying to be set on a copy of a slice from a DataFrame.\n",
      "Try using .loc[row_indexer,col_indexer] = value instead\n",
      "\n",
      "See the caveats in the documentation: https://pandas.pydata.org/pandas-docs/stable/user_guide/indexing.html#returning-a-view-versus-a-copy\n",
      "\n"
     ]
    },
    {
     "data": {
      "application/vnd.plotly.v1+json": {
       "config": {
        "plotlyServerURL": "https://plot.ly"
       },
       "data": [
        {
         "customdata": [
          [
           "HG00096"
          ],
          [
           "HG00268"
          ],
          [
           "HG00419"
          ],
          [
           "HG00759"
          ],
          [
           "HG01051"
          ],
          [
           "HG01112"
          ],
          [
           "HG01500"
          ],
          [
           "HG01565"
          ],
          [
           "HG01583"
          ],
          [
           "HG01595"
          ],
          [
           "HG01879"
          ],
          [
           "HG02568"
          ],
          [
           "HG02922"
          ],
          [
           "HG03006"
          ],
          [
           "HG03052"
          ],
          [
           "HG03642"
          ],
          [
           "HG03742"
          ],
          [
           "NA18525"
          ],
          [
           "NA18939"
          ],
          [
           "NA19017"
          ],
          [
           "NA19625"
          ],
          [
           "NA19648"
          ],
          [
           "NA20502"
          ],
          [
           "NA20845"
          ],
          [
           "NA12878"
          ],
          [
           "NA19238"
          ],
          [
           "NA19239"
          ],
          [
           "NA19240"
          ]
         ],
         "hovertemplate": "Filter_Type=ASSESS>=1<br>Total_variants=%{x}<br>Recall=%{y}<br>Sample_ID=%{customdata[0]}<extra></extra>",
         "legendgroup": "ASSESS>=1",
         "marker": {
          "color": "#636efa",
          "opacity": 0.65,
          "symbol": "circle"
         },
         "mode": "markers",
         "name": "ASSESS>=1",
         "orientation": "v",
         "showlegend": true,
         "type": "scatter",
         "x": [
          14897,
          14919,
          14945,
          14918,
          15025,
          14897,
          14941,
          14946,
          14899,
          14927,
          15014,
          14953,
          14970,
          14931,
          14935,
          14922,
          14916,
          14907,
          14967,
          13543,
          15032,
          14934,
          14900,
          14913,
          14930,
          14918,
          14907,
          14913
         ],
         "xaxis": "x",
         "y": [
          1,
          1,
          1,
          1,
          1,
          1,
          1,
          1,
          1,
          1,
          1,
          1,
          1,
          1,
          1,
          1,
          0.9,
          1,
          1,
          0.8333333333333334,
          1,
          1,
          1,
          1,
          1,
          1,
          1,
          1
         ],
         "yaxis": "y"
        },
        {
         "customdata": [
          [
           "HG00096"
          ],
          [
           "HG00268"
          ],
          [
           "HG00419"
          ],
          [
           "HG00759"
          ],
          [
           "HG01051"
          ],
          [
           "HG01112"
          ],
          [
           "HG01500"
          ],
          [
           "HG01565"
          ],
          [
           "HG01583"
          ],
          [
           "HG01595"
          ],
          [
           "HG01879"
          ],
          [
           "HG02568"
          ],
          [
           "HG02922"
          ],
          [
           "HG03006"
          ],
          [
           "HG03052"
          ],
          [
           "HG03642"
          ],
          [
           "HG03742"
          ],
          [
           "NA18525"
          ],
          [
           "NA18939"
          ],
          [
           "NA19017"
          ],
          [
           "NA19625"
          ],
          [
           "NA19648"
          ],
          [
           "NA20502"
          ],
          [
           "NA20845"
          ],
          [
           "NA12878"
          ],
          [
           "NA19238"
          ],
          [
           "NA19239"
          ],
          [
           "NA19240"
          ]
         ],
         "hovertemplate": "Filter_Type=ASSESS>=2<br>Total_variants=%{x}<br>Recall=%{y}<br>Sample_ID=%{customdata[0]}<extra></extra>",
         "legendgroup": "ASSESS>=2",
         "marker": {
          "color": "#EF553B",
          "opacity": 0.65,
          "symbol": "circle"
         },
         "mode": "markers",
         "name": "ASSESS>=2",
         "orientation": "v",
         "showlegend": true,
         "type": "scatter",
         "x": [
          13529,
          13543,
          13575,
          13550,
          13654,
          13529,
          13570,
          13569,
          13529,
          13556,
          13643,
          13575,
          13570,
          13549,
          13556,
          13551,
          13547,
          13536,
          13541,
          12305,
          13593,
          13557,
          13529,
          13544,
          13560,
          13533,
          13533,
          13529
         ],
         "xaxis": "x",
         "y": [
          0.6666666666666666,
          1,
          1,
          1,
          0.875,
          1,
          1,
          1,
          1,
          1,
          0.8823529411764706,
          1,
          0.92,
          1,
          0.96,
          1,
          0.9,
          1,
          1,
          0.8333333333333334,
          0.95,
          0.8333333333333334,
          1,
          0.9090909090909091,
          1,
          0.9285714285714286,
          1,
          1
         ],
         "yaxis": "y"
        },
        {
         "customdata": [
          [
           "HG00096"
          ],
          [
           "HG00268"
          ],
          [
           "HG00419"
          ],
          [
           "HG00759"
          ],
          [
           "HG01051"
          ],
          [
           "HG01112"
          ],
          [
           "HG01500"
          ],
          [
           "HG01565"
          ],
          [
           "HG01583"
          ],
          [
           "HG01595"
          ],
          [
           "HG01879"
          ],
          [
           "HG02568"
          ],
          [
           "HG02922"
          ],
          [
           "HG03006"
          ],
          [
           "HG03052"
          ],
          [
           "HG03642"
          ],
          [
           "HG03742"
          ],
          [
           "NA18525"
          ],
          [
           "NA18939"
          ],
          [
           "NA19017"
          ],
          [
           "NA19625"
          ],
          [
           "NA19648"
          ],
          [
           "NA20502"
          ],
          [
           "NA20845"
          ],
          [
           "NA12878"
          ],
          [
           "NA19238"
          ],
          [
           "NA19239"
          ],
          [
           "NA19240"
          ]
         ],
         "hovertemplate": "Filter_Type=ASSESS>=3<br>Total_variants=%{x}<br>Recall=%{y}<br>Sample_ID=%{customdata[0]}<extra></extra>",
         "legendgroup": "ASSESS>=3",
         "marker": {
          "color": "#00cc96",
          "opacity": 0.65,
          "symbol": "circle"
         },
         "mode": "markers",
         "name": "ASSESS>=3",
         "orientation": "v",
         "showlegend": true,
         "type": "scatter",
         "x": [
          13411,
          13420,
          13429,
          13420,
          13427,
          13411,
          13431,
          13437,
          13411,
          13427,
          13421,
          13431,
          13450,
          13429,
          13437,
          13430,
          13424,
          13418,
          13422,
          12191,
          13430,
          13422,
          13411,
          13424,
          13419,
          13414,
          13413,
          13411
         ],
         "xaxis": "x",
         "y": [
          0.3333333333333333,
          0.8571428571428571,
          0.9090909090909091,
          0.9090909090909091,
          0.875,
          0.8571428571428571,
          0.9,
          1,
          1,
          0.9,
          0.8823529411764706,
          1,
          0.8,
          0.8888888888888888,
          0.88,
          0.8571428571428571,
          0.8,
          0.8571428571428571,
          0.9,
          0.7916666666666666,
          0.9,
          0.75,
          0.8,
          0.8181818181818182,
          1,
          0.8571428571428571,
          0.875,
          1
         ],
         "yaxis": "y"
        },
        {
         "customdata": [
          [
           "HG00096"
          ],
          [
           "HG00268"
          ],
          [
           "HG00419"
          ],
          [
           "HG00759"
          ],
          [
           "HG01051"
          ],
          [
           "HG01112"
          ],
          [
           "HG01500"
          ],
          [
           "HG01565"
          ],
          [
           "HG01583"
          ],
          [
           "HG01595"
          ],
          [
           "HG01879"
          ],
          [
           "HG02568"
          ],
          [
           "HG02922"
          ],
          [
           "HG03006"
          ],
          [
           "HG03052"
          ],
          [
           "HG03642"
          ],
          [
           "HG03742"
          ],
          [
           "NA18525"
          ],
          [
           "NA18939"
          ],
          [
           "NA19017"
          ],
          [
           "NA19625"
          ],
          [
           "NA19648"
          ],
          [
           "NA20502"
          ],
          [
           "NA20845"
          ],
          [
           "NA12878"
          ],
          [
           "NA19238"
          ],
          [
           "NA19239"
          ],
          [
           "NA19240"
          ]
         ],
         "hovertemplate": "Filter_Type=ASSESS>=4<br>Total_variants=%{x}<br>Recall=%{y}<br>Sample_ID=%{customdata[0]}<extra></extra>",
         "legendgroup": "ASSESS>=4",
         "marker": {
          "color": "#ab63fa",
          "opacity": 0.65,
          "symbol": "circle"
         },
         "mode": "markers",
         "name": "ASSESS>=4",
         "orientation": "v",
         "showlegend": true,
         "type": "scatter",
         "x": [
          10029,
          10036,
          10047,
          10038,
          10038,
          10029,
          10048,
          10053,
          10029,
          10051,
          10033,
          10044,
          10063,
          10042,
          10052,
          10044,
          10041,
          10036,
          10040,
          9096,
          10045,
          10038,
          10029,
          10043,
          10038,
          10030,
          10030,
          10029
         ],
         "xaxis": "x",
         "y": [
          0.3333333333333333,
          0.7142857142857143,
          0.8181818181818182,
          0.9090909090909091,
          0.625,
          0.7142857142857143,
          0.6,
          0.8,
          1,
          0.8,
          0.6470588235294118,
          0.631578947368421,
          0.64,
          0.8888888888888888,
          0.72,
          0.7142857142857143,
          0.7,
          0.7142857142857143,
          0.7,
          0.6666666666666666,
          0.65,
          0.75,
          0.6,
          0.5454545454545454,
          1,
          0.7857142857142857,
          0.6875,
          0.8461538461538461
         ],
         "yaxis": "y"
        },
        {
         "customdata": [
          [
           "HG00096"
          ],
          [
           "HG00268"
          ],
          [
           "HG00419"
          ],
          [
           "HG00759"
          ],
          [
           "HG01051"
          ],
          [
           "HG01112"
          ],
          [
           "HG01500"
          ],
          [
           "HG01565"
          ],
          [
           "HG01583"
          ],
          [
           "HG01595"
          ],
          [
           "HG01879"
          ],
          [
           "HG02568"
          ],
          [
           "HG02922"
          ],
          [
           "HG03006"
          ],
          [
           "HG03052"
          ],
          [
           "HG03642"
          ],
          [
           "HG03742"
          ],
          [
           "NA18525"
          ],
          [
           "NA18939"
          ],
          [
           "NA19017"
          ],
          [
           "NA19625"
          ],
          [
           "NA19648"
          ],
          [
           "NA20502"
          ],
          [
           "NA20845"
          ],
          [
           "NA12878"
          ],
          [
           "NA19238"
          ],
          [
           "NA19239"
          ],
          [
           "NA19240"
          ]
         ],
         "hovertemplate": "Filter_Type=ASSESS=5<br>Total_variants=%{x}<br>Recall=%{y}<br>Sample_ID=%{customdata[0]}<extra></extra>",
         "legendgroup": "ASSESS=5",
         "marker": {
          "color": "#FFA15A",
          "opacity": 0.65,
          "symbol": "circle"
         },
         "mode": "markers",
         "name": "ASSESS=5",
         "orientation": "v",
         "showlegend": true,
         "type": "scatter",
         "x": [
          6403,
          6405,
          6408,
          6407,
          6405,
          6403,
          6408,
          6411,
          6403,
          6412,
          6404,
          6405,
          6418,
          6407,
          6417,
          6409,
          6411,
          6404,
          6407,
          5827,
          6408,
          6403,
          6403,
          6409,
          6409,
          6403,
          6403,
          6403
         ],
         "xaxis": "x",
         "y": [
          0.3333333333333333,
          0.5714285714285714,
          0.6363636363636364,
          0.5454545454545454,
          0.5,
          0.42857142857142855,
          0.5,
          0.4,
          0.8,
          0.8,
          0.5294117647058824,
          0.47368421052631576,
          0.56,
          0.6666666666666666,
          0.6,
          0.7142857142857143,
          0.3,
          0.7142857142857143,
          0.5,
          0.375,
          0.55,
          0.3333333333333333,
          0.6,
          0.36363636363636365,
          0.5555555555555556,
          0.5714285714285714,
          0.625,
          0.7692307692307693
         ],
         "yaxis": "y"
        }
       ],
       "layout": {
        "legend": {
         "title": {
          "text": "Filter_Type"
         },
         "tracegroupgap": 0
        },
        "margin": {
         "t": 60
        },
        "template": {
         "data": {
          "bar": [
           {
            "error_x": {
             "color": "#2a3f5f"
            },
            "error_y": {
             "color": "#2a3f5f"
            },
            "marker": {
             "line": {
              "color": "#E5ECF6",
              "width": 0.5
             },
             "pattern": {
              "fillmode": "overlay",
              "size": 10,
              "solidity": 0.2
             }
            },
            "type": "bar"
           }
          ],
          "barpolar": [
           {
            "marker": {
             "line": {
              "color": "#E5ECF6",
              "width": 0.5
             },
             "pattern": {
              "fillmode": "overlay",
              "size": 10,
              "solidity": 0.2
             }
            },
            "type": "barpolar"
           }
          ],
          "carpet": [
           {
            "aaxis": {
             "endlinecolor": "#2a3f5f",
             "gridcolor": "white",
             "linecolor": "white",
             "minorgridcolor": "white",
             "startlinecolor": "#2a3f5f"
            },
            "baxis": {
             "endlinecolor": "#2a3f5f",
             "gridcolor": "white",
             "linecolor": "white",
             "minorgridcolor": "white",
             "startlinecolor": "#2a3f5f"
            },
            "type": "carpet"
           }
          ],
          "choropleth": [
           {
            "colorbar": {
             "outlinewidth": 0,
             "ticks": ""
            },
            "type": "choropleth"
           }
          ],
          "contour": [
           {
            "colorbar": {
             "outlinewidth": 0,
             "ticks": ""
            },
            "colorscale": [
             [
              0,
              "#0d0887"
             ],
             [
              0.1111111111111111,
              "#46039f"
             ],
             [
              0.2222222222222222,
              "#7201a8"
             ],
             [
              0.3333333333333333,
              "#9c179e"
             ],
             [
              0.4444444444444444,
              "#bd3786"
             ],
             [
              0.5555555555555556,
              "#d8576b"
             ],
             [
              0.6666666666666666,
              "#ed7953"
             ],
             [
              0.7777777777777778,
              "#fb9f3a"
             ],
             [
              0.8888888888888888,
              "#fdca26"
             ],
             [
              1,
              "#f0f921"
             ]
            ],
            "type": "contour"
           }
          ],
          "contourcarpet": [
           {
            "colorbar": {
             "outlinewidth": 0,
             "ticks": ""
            },
            "type": "contourcarpet"
           }
          ],
          "heatmap": [
           {
            "colorbar": {
             "outlinewidth": 0,
             "ticks": ""
            },
            "colorscale": [
             [
              0,
              "#0d0887"
             ],
             [
              0.1111111111111111,
              "#46039f"
             ],
             [
              0.2222222222222222,
              "#7201a8"
             ],
             [
              0.3333333333333333,
              "#9c179e"
             ],
             [
              0.4444444444444444,
              "#bd3786"
             ],
             [
              0.5555555555555556,
              "#d8576b"
             ],
             [
              0.6666666666666666,
              "#ed7953"
             ],
             [
              0.7777777777777778,
              "#fb9f3a"
             ],
             [
              0.8888888888888888,
              "#fdca26"
             ],
             [
              1,
              "#f0f921"
             ]
            ],
            "type": "heatmap"
           }
          ],
          "heatmapgl": [
           {
            "colorbar": {
             "outlinewidth": 0,
             "ticks": ""
            },
            "colorscale": [
             [
              0,
              "#0d0887"
             ],
             [
              0.1111111111111111,
              "#46039f"
             ],
             [
              0.2222222222222222,
              "#7201a8"
             ],
             [
              0.3333333333333333,
              "#9c179e"
             ],
             [
              0.4444444444444444,
              "#bd3786"
             ],
             [
              0.5555555555555556,
              "#d8576b"
             ],
             [
              0.6666666666666666,
              "#ed7953"
             ],
             [
              0.7777777777777778,
              "#fb9f3a"
             ],
             [
              0.8888888888888888,
              "#fdca26"
             ],
             [
              1,
              "#f0f921"
             ]
            ],
            "type": "heatmapgl"
           }
          ],
          "histogram": [
           {
            "marker": {
             "pattern": {
              "fillmode": "overlay",
              "size": 10,
              "solidity": 0.2
             }
            },
            "type": "histogram"
           }
          ],
          "histogram2d": [
           {
            "colorbar": {
             "outlinewidth": 0,
             "ticks": ""
            },
            "colorscale": [
             [
              0,
              "#0d0887"
             ],
             [
              0.1111111111111111,
              "#46039f"
             ],
             [
              0.2222222222222222,
              "#7201a8"
             ],
             [
              0.3333333333333333,
              "#9c179e"
             ],
             [
              0.4444444444444444,
              "#bd3786"
             ],
             [
              0.5555555555555556,
              "#d8576b"
             ],
             [
              0.6666666666666666,
              "#ed7953"
             ],
             [
              0.7777777777777778,
              "#fb9f3a"
             ],
             [
              0.8888888888888888,
              "#fdca26"
             ],
             [
              1,
              "#f0f921"
             ]
            ],
            "type": "histogram2d"
           }
          ],
          "histogram2dcontour": [
           {
            "colorbar": {
             "outlinewidth": 0,
             "ticks": ""
            },
            "colorscale": [
             [
              0,
              "#0d0887"
             ],
             [
              0.1111111111111111,
              "#46039f"
             ],
             [
              0.2222222222222222,
              "#7201a8"
             ],
             [
              0.3333333333333333,
              "#9c179e"
             ],
             [
              0.4444444444444444,
              "#bd3786"
             ],
             [
              0.5555555555555556,
              "#d8576b"
             ],
             [
              0.6666666666666666,
              "#ed7953"
             ],
             [
              0.7777777777777778,
              "#fb9f3a"
             ],
             [
              0.8888888888888888,
              "#fdca26"
             ],
             [
              1,
              "#f0f921"
             ]
            ],
            "type": "histogram2dcontour"
           }
          ],
          "mesh3d": [
           {
            "colorbar": {
             "outlinewidth": 0,
             "ticks": ""
            },
            "type": "mesh3d"
           }
          ],
          "parcoords": [
           {
            "line": {
             "colorbar": {
              "outlinewidth": 0,
              "ticks": ""
             }
            },
            "type": "parcoords"
           }
          ],
          "pie": [
           {
            "automargin": true,
            "type": "pie"
           }
          ],
          "scatter": [
           {
            "fillpattern": {
             "fillmode": "overlay",
             "size": 10,
             "solidity": 0.2
            },
            "type": "scatter"
           }
          ],
          "scatter3d": [
           {
            "line": {
             "colorbar": {
              "outlinewidth": 0,
              "ticks": ""
             }
            },
            "marker": {
             "colorbar": {
              "outlinewidth": 0,
              "ticks": ""
             }
            },
            "type": "scatter3d"
           }
          ],
          "scattercarpet": [
           {
            "marker": {
             "colorbar": {
              "outlinewidth": 0,
              "ticks": ""
             }
            },
            "type": "scattercarpet"
           }
          ],
          "scattergeo": [
           {
            "marker": {
             "colorbar": {
              "outlinewidth": 0,
              "ticks": ""
             }
            },
            "type": "scattergeo"
           }
          ],
          "scattergl": [
           {
            "marker": {
             "colorbar": {
              "outlinewidth": 0,
              "ticks": ""
             }
            },
            "type": "scattergl"
           }
          ],
          "scattermapbox": [
           {
            "marker": {
             "colorbar": {
              "outlinewidth": 0,
              "ticks": ""
             }
            },
            "type": "scattermapbox"
           }
          ],
          "scatterpolar": [
           {
            "marker": {
             "colorbar": {
              "outlinewidth": 0,
              "ticks": ""
             }
            },
            "type": "scatterpolar"
           }
          ],
          "scatterpolargl": [
           {
            "marker": {
             "colorbar": {
              "outlinewidth": 0,
              "ticks": ""
             }
            },
            "type": "scatterpolargl"
           }
          ],
          "scatterternary": [
           {
            "marker": {
             "colorbar": {
              "outlinewidth": 0,
              "ticks": ""
             }
            },
            "type": "scatterternary"
           }
          ],
          "surface": [
           {
            "colorbar": {
             "outlinewidth": 0,
             "ticks": ""
            },
            "colorscale": [
             [
              0,
              "#0d0887"
             ],
             [
              0.1111111111111111,
              "#46039f"
             ],
             [
              0.2222222222222222,
              "#7201a8"
             ],
             [
              0.3333333333333333,
              "#9c179e"
             ],
             [
              0.4444444444444444,
              "#bd3786"
             ],
             [
              0.5555555555555556,
              "#d8576b"
             ],
             [
              0.6666666666666666,
              "#ed7953"
             ],
             [
              0.7777777777777778,
              "#fb9f3a"
             ],
             [
              0.8888888888888888,
              "#fdca26"
             ],
             [
              1,
              "#f0f921"
             ]
            ],
            "type": "surface"
           }
          ],
          "table": [
           {
            "cells": {
             "fill": {
              "color": "#EBF0F8"
             },
             "line": {
              "color": "white"
             }
            },
            "header": {
             "fill": {
              "color": "#C8D4E3"
             },
             "line": {
              "color": "white"
             }
            },
            "type": "table"
           }
          ]
         },
         "layout": {
          "annotationdefaults": {
           "arrowcolor": "#2a3f5f",
           "arrowhead": 0,
           "arrowwidth": 1
          },
          "autotypenumbers": "strict",
          "coloraxis": {
           "colorbar": {
            "outlinewidth": 0,
            "ticks": ""
           }
          },
          "colorscale": {
           "diverging": [
            [
             0,
             "#8e0152"
            ],
            [
             0.1,
             "#c51b7d"
            ],
            [
             0.2,
             "#de77ae"
            ],
            [
             0.3,
             "#f1b6da"
            ],
            [
             0.4,
             "#fde0ef"
            ],
            [
             0.5,
             "#f7f7f7"
            ],
            [
             0.6,
             "#e6f5d0"
            ],
            [
             0.7,
             "#b8e186"
            ],
            [
             0.8,
             "#7fbc41"
            ],
            [
             0.9,
             "#4d9221"
            ],
            [
             1,
             "#276419"
            ]
           ],
           "sequential": [
            [
             0,
             "#0d0887"
            ],
            [
             0.1111111111111111,
             "#46039f"
            ],
            [
             0.2222222222222222,
             "#7201a8"
            ],
            [
             0.3333333333333333,
             "#9c179e"
            ],
            [
             0.4444444444444444,
             "#bd3786"
            ],
            [
             0.5555555555555556,
             "#d8576b"
            ],
            [
             0.6666666666666666,
             "#ed7953"
            ],
            [
             0.7777777777777778,
             "#fb9f3a"
            ],
            [
             0.8888888888888888,
             "#fdca26"
            ],
            [
             1,
             "#f0f921"
            ]
           ],
           "sequentialminus": [
            [
             0,
             "#0d0887"
            ],
            [
             0.1111111111111111,
             "#46039f"
            ],
            [
             0.2222222222222222,
             "#7201a8"
            ],
            [
             0.3333333333333333,
             "#9c179e"
            ],
            [
             0.4444444444444444,
             "#bd3786"
            ],
            [
             0.5555555555555556,
             "#d8576b"
            ],
            [
             0.6666666666666666,
             "#ed7953"
            ],
            [
             0.7777777777777778,
             "#fb9f3a"
            ],
            [
             0.8888888888888888,
             "#fdca26"
            ],
            [
             1,
             "#f0f921"
            ]
           ]
          },
          "colorway": [
           "#636efa",
           "#EF553B",
           "#00cc96",
           "#ab63fa",
           "#FFA15A",
           "#19d3f3",
           "#FF6692",
           "#B6E880",
           "#FF97FF",
           "#FECB52"
          ],
          "font": {
           "color": "#2a3f5f"
          },
          "geo": {
           "bgcolor": "white",
           "lakecolor": "white",
           "landcolor": "#E5ECF6",
           "showlakes": true,
           "showland": true,
           "subunitcolor": "white"
          },
          "hoverlabel": {
           "align": "left"
          },
          "hovermode": "closest",
          "mapbox": {
           "style": "light"
          },
          "paper_bgcolor": "white",
          "plot_bgcolor": "#E5ECF6",
          "polar": {
           "angularaxis": {
            "gridcolor": "white",
            "linecolor": "white",
            "ticks": ""
           },
           "bgcolor": "#E5ECF6",
           "radialaxis": {
            "gridcolor": "white",
            "linecolor": "white",
            "ticks": ""
           }
          },
          "scene": {
           "xaxis": {
            "backgroundcolor": "#E5ECF6",
            "gridcolor": "white",
            "gridwidth": 2,
            "linecolor": "white",
            "showbackground": true,
            "ticks": "",
            "zerolinecolor": "white"
           },
           "yaxis": {
            "backgroundcolor": "#E5ECF6",
            "gridcolor": "white",
            "gridwidth": 2,
            "linecolor": "white",
            "showbackground": true,
            "ticks": "",
            "zerolinecolor": "white"
           },
           "zaxis": {
            "backgroundcolor": "#E5ECF6",
            "gridcolor": "white",
            "gridwidth": 2,
            "linecolor": "white",
            "showbackground": true,
            "ticks": "",
            "zerolinecolor": "white"
           }
          },
          "shapedefaults": {
           "line": {
            "color": "#2a3f5f"
           }
          },
          "ternary": {
           "aaxis": {
            "gridcolor": "white",
            "linecolor": "white",
            "ticks": ""
           },
           "baxis": {
            "gridcolor": "white",
            "linecolor": "white",
            "ticks": ""
           },
           "bgcolor": "#E5ECF6",
           "caxis": {
            "gridcolor": "white",
            "linecolor": "white",
            "ticks": ""
           }
          },
          "title": {
           "x": 0.05
          },
          "xaxis": {
           "automargin": true,
           "gridcolor": "white",
           "linecolor": "white",
           "ticks": "",
           "title": {
            "standoff": 15
           },
           "zerolinecolor": "white",
           "zerolinewidth": 2
          },
          "yaxis": {
           "automargin": true,
           "gridcolor": "white",
           "linecolor": "white",
           "ticks": "",
           "title": {
            "standoff": 15
           },
           "zerolinecolor": "white",
           "zerolinewidth": 2
          }
         }
        },
        "title": {
         "text": "Total Variants vs Recall for ASSESS Filters"
        },
        "xaxis": {
         "anchor": "y",
         "domain": [
          0,
          1
         ],
         "title": {
          "text": "Total Variants"
         }
        },
        "yaxis": {
         "anchor": "x",
         "domain": [
          0,
          1
         ],
         "title": {
          "text": "Recall"
         }
        }
       }
      }
     },
     "metadata": {},
     "output_type": "display_data"
    }
   ],
   "source": [
    "import numpy as np\n",
    "import pandas as pd\n",
    "import plotly.graph_objects as go\n",
    "\n",
    "# Read data from the CSV file\n",
    "file_path = 'ASSESS_results_2024-03-07.csv'\n",
    "df = pd.read_csv(file_path)\n",
    "\n",
    "# Calculate F1 detection, precision, and accuracy\n",
    "df['True_Positives'] = df['Shared_Variants']\n",
    "df['False_Positives'] = df['test_vcf_variants'] - df['True_Positives']\n",
    "df['False_Negatives'] = df['truth_total_variants'] - df['True_Positives']\n",
    "df['Total_variants'] = df['test_vcf_variants']\n",
    "\n",
    "df['Precision'] = df['True_Positives'] / (df['True_Positives'] + df['False_Positives'])\n",
    "df['Recall'] = df['True_Positives'] / (df['True_Positives'] + df['False_Negatives'])\n",
    "df['F1_Score'] = 2 * (df['Precision'] * df['Recall']) / (df['Precision'] + df['Recall'])\n",
    "df['Accuracy'] = df['True_Positives'] / df['truth_total_variants']\n",
    "# remove raw filter\n",
    "df_filtered = df[df['Filter_Type'] != 'Raw']\n",
    "# calculate average precision and recall for each filter\n",
    "df_filtered = df_filtered.groupby('Filter_Type')[['Precision', 'Recall']].mean().reset_index()\n",
    "# rename filter types in df\n",
    "df_filtered['Filter_Type'] = df_filtered['Filter_Type'].replace({'ASSESS_1': 'ASSESS>=1', 'ASSESS_2': 'ASSESS>=2', 'ASSESS_3': 'ASSESS>=3', 'ASSESS_4': 'ASSESS>=4', 'ASSESS_5': 'ASSESS=5'})\n",
    "# Plotting the recall for different ASSESS filters\n",
    "fig = go.Figure(data=go.Bar(x=df_filtered['Filter_Type'], y=df_filtered['Recall'], marker_color=CB_color_cycle[0]))\n",
    "\n",
    "fig.update_layout(title='Recall for Different ASSESS Filters',\n",
    "                  xaxis_title='ASSESS Filter',\n",
    "                  yaxis_title='Recall')\n",
    "\n",
    "fig.show()\n",
    "\n",
    "# Plotting the number of total variants for each ASSESS filter\n",
    "df_filtered2 = df\n",
    "# remove raw filter\n",
    "df_filtered2 = df_filtered2[df_filtered2['Filter_Type'] != 'Raw']\n",
    "# calculate average total variants for each filter\n",
    "df_filtered2 = df_filtered2.groupby('Filter_Type')['Total_variants'].mean().reset_index()\n",
    "# rename filter types in df\n",
    "df_filtered2['Filter_Type'] = df_filtered2['Filter_Type'].replace({'ASSESS_1': 'ASSESS>=1', 'ASSESS_2': 'ASSESS>=2', 'ASSESS_3': 'ASSESS>=3', 'ASSESS_4': 'ASSESS>=4', 'ASSESS_5': 'ASSESS=5'})\n",
    "CB_color_cycle = ['#377eb8', '#ff7f00', '#4daf4a',\n",
    "                  '#f781bf', '#a65628', '#984ea3',\n",
    "                  '#999999', '#e41a1c', '#dede00']\n",
    "\n",
    "colours = {\n",
    "    'ASSESS>=1': CB_color_cycle[0],\n",
    "    'ASSESS>=2': CB_color_cycle[1],\n",
    "    'ASSESS>=3': CB_color_cycle[2],\n",
    "    'ASSESS>=4': CB_color_cycle[3],\n",
    "    'ASSESS=5': CB_color_cycle[4],\n",
    "}\n",
    "\n",
    "fig2 = go.Figure(data=go.Bar(x=df_filtered2['Filter_Type'], y=df_filtered2['Total_variants'], marker_color=CB_color_cycle[0]))\n",
    "\n",
    "fig2.update_layout(title='Number of Total Variants for Different ASSESS Filters',\n",
    "                  xaxis_title='ASSESS Filter',\n",
    "                  yaxis_title='Total Variants')\n",
    "\n",
    "fig2.show()\n",
    "\n",
    "# new df\n",
    "df_filtered3 = df\n",
    "# remove raw filter\n",
    "df_filtered3 = df_filtered3[df_filtered3['Filter_Type'] != 'Raw']\n",
    "df_filtered3['Filter_Type'] = df_filtered3['Filter_Type'].replace({'ASSESS_1': 'ASSESS>=1', 'ASSESS_2': 'ASSESS>=2', 'ASSESS_3': 'ASSESS>=3', 'ASSESS_4': 'ASSESS>=4', 'ASSESS_5': 'ASSESS=5'})\n",
    "\n",
    "#write scatter plot for total variants vs recall\n",
    "import plotly.express as px\n",
    "\n",
    "fig3 = px.scatter(df_filtered3, x='Total_variants', y='Recall', color='Filter_Type', opacity=0.65, hover_data=['Sample_ID'])\n",
    "\n",
    "fig3.update_layout(title='Total Variants vs Recall for ASSESS Filters',\n",
    "                   xaxis_title='Total Variants',\n",
    "                   yaxis_title='Recall')\n",
    "\n",
    "fig3.show()\n",
    "#fig3.write_image(\"Total_Variants_vs_Recall_for_ASSESS_Filters.png\")\n"
   ]
  },
  {
   "cell_type": "markdown",
   "metadata": {},
   "source": [
    "** Statistics **"
   ]
  },
  {
   "cell_type": "code",
   "execution_count": 69,
   "metadata": {},
   "outputs": [
    {
     "name": "stdout",
     "output_type": "stream",
     "text": [
      "     Filter_Type  Filtered Sample_ID  Shared_Percentage  Shared_Variants  \\\n",
      "0            Raw     False   HG00096         100.000000                3   \n",
      "1  Comprehensive      True   HG00096           0.000000                0   \n",
      "2         ASSESS      True   HG00096          33.333333                1   \n",
      "3           PASS      True   HG00096           0.000000                0   \n",
      "4         STRICT      True   HG00096           0.000000                0   \n",
      "\n",
      "                                 Shared_Variants_VCF  Tool  test_vcf_variants  \\\n",
      "0  [('6 164161734 ALU_umary_ALU_5748', \"A ['<INS:...  MELT              16632   \n",
      "1                                                 []  MELT                260   \n",
      "2  [('19 17752494 ALU_umary_ALU_11888', \"T ['<INS...  MELT               6909   \n",
      "3                                                 []  MELT                281   \n",
      "4                                                 []  MELT                260   \n",
      "\n",
      "   truth_total_variants  \n",
      "0                     3  \n",
      "1                     3  \n",
      "2                     3  \n",
      "3                     3  \n",
      "4                     3  \n",
      "      Filtered Sample_ID     Metric     Score\n",
      "2156     False   HG00096  Precision   0.00018\n",
      "2157      True   HG00096  Precision       0.0\n",
      "2158      True   HG00096  Precision  0.000145\n",
      "2159      True   HG00096  Precision       0.0\n",
      "2160      True   HG00096  Precision       0.0\n",
      "...        ...       ...        ...       ...\n",
      "2935      True   NA19240   Accuracy  0.769231\n",
      "2936      True   NA19240   Accuracy  0.076923\n",
      "2937      True   NA19240   Accuracy  0.076923\n",
      "2938      True   NA19240   Accuracy  0.076923\n",
      "2939      True   NA19240   Accuracy       0.0\n",
      "\n",
      "[588 rows x 4 columns]\n"
     ]
    }
   ],
   "source": [
    "# Read data from the TSV file\n",
    "#file_path = 'MELT_filter_Comparison_results.csv' # Outdated missing data and only some filters\n",
    "file_path = 'results_multi_filters_2024-03-11.csv'\n",
    "df = pd.read_csv(file_path, sep=',')\n",
    "print(df.head())\n",
    "# df_multi['test_vcf_variants'] = total number of variants in the test VCF file\n",
    "# Calculate F1 detection, precision, and accuracy using test_vcf_variants and truth_total_variants\n",
    "df['True_Positives'] = df['Shared_Variants']\n",
    "df['False_Positives'] = df['test_vcf_variants'] - df['True_Positives']\n",
    "df['False_Negatives'] = df['truth_total_variants'] - df['True_Positives']\n",
    "df['Total_variants'] = df['test_vcf_variants']\n",
    "\n",
    "df['Precision'] = df['True_Positives'] / (df['True_Positives'] + df['False_Positives'])\n",
    "df['Recall'] = df['True_Positives'] / (df['True_Positives'] + df['False_Negatives'])\n",
    "df['F1_Score'] = 2 * (df['Precision'] * df['Recall']) / (df['Precision'] + df['Recall'])\n",
    "df['Accuracy'] = df['True_Positives'] / df['truth_total_variants']\n",
    "\n",
    "# Plotting\n",
    "df_melted = df.melt(id_vars=['Filtered', 'Sample_ID'], var_name='Metric', value_name='Score')\n",
    "df_melted = df_melted[df_melted['Metric'].isin(['F1_Score', 'Precision', 'Accuracy'])]\n",
    "print(df_melted)"
   ]
  },
  {
   "cell_type": "code",
   "execution_count": 70,
   "metadata": {},
   "outputs": [
    {
     "name": "stdout",
     "output_type": "stream",
     "text": [
      "    Filter_Type  Filtered Sample_ID  Shared_Percentage  Shared_Variants  \\\n",
      "0           Raw     False   HG00096         100.000000                3   \n",
      "2        ASSESS      True   HG00096          33.333333                1   \n",
      "3          PASS      True   HG00096           0.000000                0   \n",
      "4        STRICT      True   HG00096           0.000000                0   \n",
      "5            SD      True   HG00096           0.000000                0   \n",
      "..          ...       ...       ...                ...              ...   \n",
      "189         Raw     False   NA19240         100.000000               13   \n",
      "191      ASSESS      True   NA19240          76.923077               10   \n",
      "192        PASS      True   NA19240           7.692308                1   \n",
      "193      STRICT      True   NA19240           7.692308                1   \n",
      "194          SD      True   NA19240           7.692308                1   \n",
      "\n",
      "                                   Shared_Variants_VCF  Tool  \\\n",
      "0    [('6 164161734 ALU_umary_ALU_5748', \"A ['<INS:...  MELT   \n",
      "2    [('19 17752494 ALU_umary_ALU_11888', \"T ['<INS...  MELT   \n",
      "3                                                   []  MELT   \n",
      "4                                                   []  MELT   \n",
      "5                                                   []  MELT   \n",
      "..                                                 ...   ...   \n",
      "189  [('2 45309245 SVA_umary_SVA_104', \"C ['<INS:ME...  MELT   \n",
      "191  [('2 45309245 SVA_umary_SVA_104', \"C ['<INS:ME...  MELT   \n",
      "192  [('3 12227657 ALU_umary_ALU_2158', \"A ['<INS:M...  MELT   \n",
      "193  [('3 12227657 ALU_umary_ALU_2158', \"A ['<INS:M...  MELT   \n",
      "194  [('3 12227657 ALU_umary_ALU_2158', \"A ['<INS:M...  MELT   \n",
      "\n",
      "     test_vcf_variants  truth_total_variants  True_Positives  False_Positives  \\\n",
      "0                16632                     3               3            16629   \n",
      "2                 6909                     3               1             6908   \n",
      "3                  281                     3               0              281   \n",
      "4                  260                     3               0              260   \n",
      "5                  282                     3               0              282   \n",
      "..                 ...                   ...             ...              ...   \n",
      "189              16651                    13              13            16638   \n",
      "191               6909                    13              10             6899   \n",
      "192                262                    13               1              261   \n",
      "193                233                    13               1              232   \n",
      "194                262                    13               1              261   \n",
      "\n",
      "     False_Negatives  Total_variants  Precision    Recall  F1_Score  Accuracy  \n",
      "0                  0           16632   0.000180  1.000000  0.000361  1.000000  \n",
      "2                  2            6909   0.000145  0.333333  0.000289  0.333333  \n",
      "3                  3             281   0.000000  0.000000       NaN  0.000000  \n",
      "4                  3             260   0.000000  0.000000       NaN  0.000000  \n",
      "5                  3             282   0.000000  0.000000       NaN  0.000000  \n",
      "..               ...             ...        ...       ...       ...       ...  \n",
      "189                0           16651   0.000781  1.000000  0.001560  1.000000  \n",
      "191                3            6909   0.001447  0.769231  0.002889  0.769231  \n",
      "192               12             262   0.003817  0.076923  0.007273  0.076923  \n",
      "193               12             233   0.004292  0.076923  0.008130  0.076923  \n",
      "194               12             262   0.003817  0.076923  0.007273  0.076923  \n",
      "\n",
      "[140 rows x 17 columns]\n"
     ]
    },
    {
     "data": {
      "text/html": [
       "<div>\n",
       "<style scoped>\n",
       "    .dataframe tbody tr th:only-of-type {\n",
       "        vertical-align: middle;\n",
       "    }\n",
       "\n",
       "    .dataframe tbody tr th {\n",
       "        vertical-align: top;\n",
       "    }\n",
       "\n",
       "    .dataframe thead th {\n",
       "        text-align: right;\n",
       "    }\n",
       "</style>\n",
       "<table border=\"1\" class=\"dataframe\">\n",
       "  <thead>\n",
       "    <tr style=\"text-align: right;\">\n",
       "      <th></th>\n",
       "      <th>df</th>\n",
       "      <th>sum_sq</th>\n",
       "      <th>mean_sq</th>\n",
       "      <th>F</th>\n",
       "      <th>PR(&gt;F)</th>\n",
       "    </tr>\n",
       "  </thead>\n",
       "  <tbody>\n",
       "    <tr>\n",
       "      <th>C(Filter_Type)</th>\n",
       "      <td>4.0</td>\n",
       "      <td>60211.880167</td>\n",
       "      <td>15052.970042</td>\n",
       "      <td>30.284497</td>\n",
       "      <td>5.534019e-18</td>\n",
       "    </tr>\n",
       "    <tr>\n",
       "      <th>Residual</th>\n",
       "      <td>135.0</td>\n",
       "      <td>67102.021902</td>\n",
       "      <td>497.052014</td>\n",
       "      <td>NaN</td>\n",
       "      <td>NaN</td>\n",
       "    </tr>\n",
       "  </tbody>\n",
       "</table>\n",
       "</div>"
      ],
      "text/plain": [
       "                   df        sum_sq       mean_sq          F        PR(>F)\n",
       "C(Filter_Type)    4.0  60211.880167  15052.970042  30.284497  5.534019e-18\n",
       "Residual        135.0  67102.021902    497.052014        NaN           NaN"
      ]
     },
     "execution_count": 70,
     "metadata": {},
     "output_type": "execute_result"
    }
   ],
   "source": [
    "anova_df = df[df['Filter_Type'].isin(['Raw', 'ASSESS', 'PASS', 'STRICT','SD'])]\n",
    "print(anova_df)\n",
    "# get ANOVA table as R like output\n",
    "import statsmodels.api as sm\n",
    "from statsmodels.formula.api import ols\n",
    "from statsmodels.stats.multicomp import pairwise_tukeyhsd\n",
    "\n",
    "# Ordinary Least Squares (OLS) model\n",
    "model = ols('Shared_Percentage ~ C(Filter_Type)', data=anova_df).fit()\n",
    "anova_table = sm.stats.anova_lm(model, typ=1)\n",
    "anova_table\n"
   ]
  },
  {
   "cell_type": "code",
   "execution_count": 71,
   "metadata": {},
   "outputs": [
    {
     "name": "stdout",
     "output_type": "stream",
     "text": [
      "levene test for homogeneity of variance\n",
      "LeveneResult(statistic=10.807402234708741, pvalue=1.248079715093109e-07)\n",
      "Welchs ANOVA\n",
      "        Source  ddof1      ddof2           F         p-unc      np2\n",
      "0  Filter_Type      4  56.595757  144.065691  5.709972e-29  0.47294\n"
     ]
    },
    {
     "data": {
      "text/html": [
       "<div>\n",
       "<style scoped>\n",
       "    .dataframe tbody tr th:only-of-type {\n",
       "        vertical-align: middle;\n",
       "    }\n",
       "\n",
       "    .dataframe tbody tr th {\n",
       "        vertical-align: top;\n",
       "    }\n",
       "\n",
       "    .dataframe thead th {\n",
       "        text-align: right;\n",
       "    }\n",
       "</style>\n",
       "<table border=\"1\" class=\"dataframe\">\n",
       "  <thead>\n",
       "    <tr style=\"text-align: right;\">\n",
       "      <th></th>\n",
       "      <th>A</th>\n",
       "      <th>B</th>\n",
       "      <th>mean(A)</th>\n",
       "      <th>mean(B)</th>\n",
       "      <th>diff</th>\n",
       "      <th>se</th>\n",
       "      <th>T</th>\n",
       "      <th>df</th>\n",
       "      <th>pval</th>\n",
       "      <th>hedges</th>\n",
       "    </tr>\n",
       "  </thead>\n",
       "  <tbody>\n",
       "    <tr>\n",
       "      <th>0</th>\n",
       "      <td>ASSESS</td>\n",
       "      <td>PASS</td>\n",
       "      <td>54.87470</td>\n",
       "      <td>51.48006</td>\n",
       "      <td>3.39464</td>\n",
       "      <td>6.14337</td>\n",
       "      <td>0.55257</td>\n",
       "      <td>37.54745</td>\n",
       "      <td>0.98095</td>\n",
       "      <td>0.14562</td>\n",
       "    </tr>\n",
       "    <tr>\n",
       "      <th>1</th>\n",
       "      <td>ASSESS</td>\n",
       "      <td>Raw</td>\n",
       "      <td>54.87470</td>\n",
       "      <td>99.12587</td>\n",
       "      <td>-44.25118</td>\n",
       "      <td>2.60254</td>\n",
       "      <td>-17.00306</td>\n",
       "      <td>30.32338</td>\n",
       "      <td>0.00000</td>\n",
       "      <td>-4.48085</td>\n",
       "    </tr>\n",
       "    <tr>\n",
       "      <th>2</th>\n",
       "      <td>ASSESS</td>\n",
       "      <td>SD</td>\n",
       "      <td>54.87470</td>\n",
       "      <td>52.98106</td>\n",
       "      <td>1.89364</td>\n",
       "      <td>6.32273</td>\n",
       "      <td>0.29950</td>\n",
       "      <td>36.89608</td>\n",
       "      <td>0.99817</td>\n",
       "      <td>0.07893</td>\n",
       "    </tr>\n",
       "    <tr>\n",
       "      <th>3</th>\n",
       "      <td>ASSESS</td>\n",
       "      <td>STRICT</td>\n",
       "      <td>54.87470</td>\n",
       "      <td>38.23657</td>\n",
       "      <td>16.63813</td>\n",
       "      <td>4.83793</td>\n",
       "      <td>3.43910</td>\n",
       "      <td>44.74133</td>\n",
       "      <td>0.01062</td>\n",
       "      <td>0.90631</td>\n",
       "    </tr>\n",
       "    <tr>\n",
       "      <th>4</th>\n",
       "      <td>PASS</td>\n",
       "      <td>Raw</td>\n",
       "      <td>51.48006</td>\n",
       "      <td>99.12587</td>\n",
       "      <td>-47.64581</td>\n",
       "      <td>5.63524</td>\n",
       "      <td>-8.45498</td>\n",
       "      <td>27.67846</td>\n",
       "      <td>0.00000</td>\n",
       "      <td>-2.22816</td>\n",
       "    </tr>\n",
       "    <tr>\n",
       "      <th>5</th>\n",
       "      <td>PASS</td>\n",
       "      <td>SD</td>\n",
       "      <td>51.48006</td>\n",
       "      <td>52.98106</td>\n",
       "      <td>-1.50100</td>\n",
       "      <td>8.05976</td>\n",
       "      <td>-0.18623</td>\n",
       "      <td>53.93609</td>\n",
       "      <td>0.99972</td>\n",
       "      <td>-0.04908</td>\n",
       "    </tr>\n",
       "    <tr>\n",
       "      <th>6</th>\n",
       "      <td>PASS</td>\n",
       "      <td>STRICT</td>\n",
       "      <td>51.48006</td>\n",
       "      <td>38.23657</td>\n",
       "      <td>13.24350</td>\n",
       "      <td>6.95616</td>\n",
       "      <td>1.90385</td>\n",
       "      <td>49.64289</td>\n",
       "      <td>0.32882</td>\n",
       "      <td>0.50173</td>\n",
       "    </tr>\n",
       "    <tr>\n",
       "      <th>7</th>\n",
       "      <td>Raw</td>\n",
       "      <td>SD</td>\n",
       "      <td>99.12587</td>\n",
       "      <td>52.98106</td>\n",
       "      <td>46.14481</td>\n",
       "      <td>5.83026</td>\n",
       "      <td>7.91471</td>\n",
       "      <td>27.63332</td>\n",
       "      <td>0.00000</td>\n",
       "      <td>2.08578</td>\n",
       "    </tr>\n",
       "    <tr>\n",
       "      <th>8</th>\n",
       "      <td>Raw</td>\n",
       "      <td>STRICT</td>\n",
       "      <td>99.12587</td>\n",
       "      <td>38.23657</td>\n",
       "      <td>60.88931</td>\n",
       "      <td>4.17379</td>\n",
       "      <td>14.58850</td>\n",
       "      <td>28.24922</td>\n",
       "      <td>0.00000</td>\n",
       "      <td>3.84454</td>\n",
       "    </tr>\n",
       "    <tr>\n",
       "      <th>9</th>\n",
       "      <td>SD</td>\n",
       "      <td>STRICT</td>\n",
       "      <td>52.98106</td>\n",
       "      <td>38.23657</td>\n",
       "      <td>14.74450</td>\n",
       "      <td>7.11507</td>\n",
       "      <td>2.07229</td>\n",
       "      <td>48.77376</td>\n",
       "      <td>0.24851</td>\n",
       "      <td>0.54611</td>\n",
       "    </tr>\n",
       "  </tbody>\n",
       "</table>\n",
       "</div>"
      ],
      "text/plain": [
       "        A       B   mean(A)   mean(B)      diff       se         T        df  \\\n",
       "0  ASSESS    PASS  54.87470  51.48006   3.39464  6.14337   0.55257  37.54745   \n",
       "1  ASSESS     Raw  54.87470  99.12587 -44.25118  2.60254 -17.00306  30.32338   \n",
       "2  ASSESS      SD  54.87470  52.98106   1.89364  6.32273   0.29950  36.89608   \n",
       "3  ASSESS  STRICT  54.87470  38.23657  16.63813  4.83793   3.43910  44.74133   \n",
       "4    PASS     Raw  51.48006  99.12587 -47.64581  5.63524  -8.45498  27.67846   \n",
       "5    PASS      SD  51.48006  52.98106  -1.50100  8.05976  -0.18623  53.93609   \n",
       "6    PASS  STRICT  51.48006  38.23657  13.24350  6.95616   1.90385  49.64289   \n",
       "7     Raw      SD  99.12587  52.98106  46.14481  5.83026   7.91471  27.63332   \n",
       "8     Raw  STRICT  99.12587  38.23657  60.88931  4.17379  14.58850  28.24922   \n",
       "9      SD  STRICT  52.98106  38.23657  14.74450  7.11507   2.07229  48.77376   \n",
       "\n",
       "      pval   hedges  \n",
       "0  0.98095  0.14562  \n",
       "1  0.00000 -4.48085  \n",
       "2  0.99817  0.07893  \n",
       "3  0.01062  0.90631  \n",
       "4  0.00000 -2.22816  \n",
       "5  0.99972 -0.04908  \n",
       "6  0.32882  0.50173  \n",
       "7  0.00000  2.08578  \n",
       "8  0.00000  3.84454  \n",
       "9  0.24851  0.54611  "
      ]
     },
     "execution_count": 71,
     "metadata": {},
     "output_type": "execute_result"
    }
   ],
   "source": [
    "# Perform a levene test for homogeneity of variance\n",
    "from scipy.stats import levene\n",
    "print(\"levene test for homogeneity of variance\")\n",
    "levene_results = levene(anova_df['Shared_Percentage'][anova_df['Filter_Type'] == 'Raw'],\n",
    "                        anova_df['Shared_Percentage'][anova_df['Filter_Type'] == 'ASSESS'],\n",
    "                        anova_df['Shared_Percentage'][anova_df['Filter_Type'] == 'PASS'],\n",
    "                        anova_df['Shared_Percentage'][anova_df['Filter_Type'] == 'STRICT'],\n",
    "                        anova_df['Shared_Percentage'][anova_df['Filter_Type'] == 'SD'])\n",
    "print(levene_results)\n",
    "# P-value <0.05 indicates that the variance is not equal across groups.\n",
    "\n",
    "# Welchs ANOVA\n",
    "from pingouin import welch_anova, pairwise_gameshowell\n",
    "# see https://pingouin-stats.org/build/html/generated/pingouin.pairwise_gameshowell.html#pingouin.pairwise_gameshowell\n",
    "# which explains why to use Games-Howell instead of Tukey\n",
    "\n",
    "# one way anova for equal variances\n",
    "# res = anova_oneway(anova_df['Shared_Percentage'], groups=anova_df['Filter_Type'], use_var='not-equal')\n",
    "\n",
    "# Compute the ANOVA\n",
    "print(\"Welchs ANOVA\")\n",
    "aov = welch_anova(dv='Shared_Percentage', between='Filter_Type', data=anova_df)\n",
    "print(aov)\n",
    "\n",
    "# # Perform Tukey test - only suitable for equal variances\n",
    "# tukey_results = pairwise_tukeyhsd(anova_df['Shared_Percentage'], anova_df['Filter_Type'])\n",
    "# # Print the Tukey test results\n",
    "# print(tukey_results)\n",
    "\n",
    "pairwise_gameshowell(data=anova_df, dv='Shared_Percentage',\n",
    "                     between='Filter_Type').round(5)\n"
   ]
  }
 ],
 "metadata": {
  "kernelspec": {
   "display_name": "base",
   "language": "python",
   "name": "python3"
  },
  "language_info": {
   "codemirror_mode": {
    "name": "ipython",
    "version": 3
   },
   "file_extension": ".py",
   "mimetype": "text/x-python",
   "name": "python",
   "nbconvert_exporter": "python",
   "pygments_lexer": "ipython3",
   "version": "3.8.8"
  }
 },
 "nbformat": 4,
 "nbformat_minor": 2
}
